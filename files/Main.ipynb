{
 "cells": [
  {
   "cell_type": "markdown",
   "id": "4cf24657",
   "metadata": {},
   "source": [
    "## K-Means Ingredient Clustering\n",
    "Created by Aidan Boyne - see the [docs](https://github.com/aidanboyne/recipes)."
   ]
  },
  {
   "cell_type": "code",
   "execution_count": 48,
   "id": "e1b758e5",
   "metadata": {},
   "outputs": [],
   "source": [
    "import requests as rq\n",
    "from lxml import html\n",
    "import pandas as pd\n",
    "import numpy as np\n",
    "import itertools\n",
    "from tqdm import tqdm\n",
    "import plotly.express as px\n",
    "import random\n"
   ]
  },
  {
   "cell_type": "markdown",
   "id": "0ab54ab2",
   "metadata": {},
   "source": [
    "## Functionized scraper and parser for looping\n",
    " - Input: pageNo (from loop)\n",
    " - Output:\n",
    "    - If valid page --> `valid`: True (bool), `complist`: parsed ingredients (list), `rating`: AR rating (int)\n",
    "    - If invalid --> `valid`: False (bool), `pageNo`: invalid page (int), `ratefail`: (bool)"
   ]
  },
  {
   "cell_type": "code",
   "execution_count": 29,
   "metadata": {},
   "outputs": [],
   "source": [
    "def ar_scraper(pageNo):\n",
    "\n",
    "    #import master ingredient list\n",
    "    global ingredientSet\n",
    "    #Page access URL\n",
    "    URL = \"https://www.allrecipes.com/recipe/\"+str(pageNo)+\"/\"\n",
    "    page = rq.get(URL)\n",
    "    tree = html.fromstring(page.content)\n",
    "\n",
    "    #Content Xpath mappings\n",
    "    count2Path = \"/html/body/div[3]/div/main/div[1]/div[2]/div[1]/div[1]/div[2]/div[2]/ul/li[1]/a\"\n",
    "    titlePath = \"/html/body/div[3]/div/main/div[1]/div[2]/div[1]/div[1]/div[1]/div/h1\"\n",
    "    ratingPath = \"/html/body/div[3]/div/main/div[1]/div[2]/div[1]/div[1]/div[2]/div[1]/span\"\n",
    "\n",
    "    #Data QC\n",
    "    valid = True #check if page contains real information\n",
    "    divno = 5 #flexible checker for different page layouts\n",
    "\n",
    "    #invalid recipie no\n",
    "    ratecount_str = tree.xpath(str(count2Path+\"/text()\"))\n",
    "\n",
    "    if not ratecount_str: #change if needed (i.e. < 5...)\n",
    "        #print(\"Page does not exist, skipping...\")\n",
    "        valid = False\n",
    "        fail_type = \"page not existing\"\n",
    "        #for main: if valid=False, add pageNo to pageOmitList\n",
    "        return valid, pageNo, fail_type\n",
    "    else:\n",
    "        if ratecount_str[0] == ' Be the first to rate & review! ':\n",
    "            ratecount = 0\n",
    "        else:\n",
    "            ratecount = int(''.join(x for x in ratecount_str[0] if x.isdigit()))\n",
    "        #skips pages with no reviews as QC assurance, can change to vary confidence strictness\n",
    "        if ratecount == 0: #change if needed (i.e. < 5...)\n",
    "            if valid:\n",
    "                #print(\"Page does not have enough reviews to be included in dataset, skipping...\")\n",
    "                valid = False\n",
    "                fail_type = \"insufficient reviews\"\n",
    "                #for main: if valid=False, add pageNo to pageOmitList\n",
    "                return valid, pageNo, fail_type\n",
    "        else:\n",
    "            try:\n",
    "                #rating getter\n",
    "                rating = float(tree.xpath(str(ratingPath+\"/text()\"))[0])\n",
    "                #ingredient getter loop\n",
    "                listing = 1\n",
    "                ingno = 1\n",
    "                first  = 1\n",
    "                ingredients = []\n",
    "                while listing:\n",
    "                    ingPath = \"/html/body/div[3]/div/main/div[1]/div[2]/div[1]/div[2]/div[2]/div[\"+str(divno)+\"]/section[1]/fieldset/ul/li[\"+str(ingno)+\"]/label/span/span\"\n",
    "                    newing = tree.xpath(str(ingPath+\"/text()\"))\n",
    "                    if not newing: #following checks for the two types of ingredient divs and switches to appropriate, also ends loop when no more ingredients\n",
    "                        if not ingredients:\n",
    "                            divno = 6\n",
    "                        else:\n",
    "                            listing = 0\n",
    "                    else:\n",
    "                        ingno = ingno + 1\n",
    "                        ingredients.append(newing[0])\n",
    "\n",
    "                #---------------------------------------COMMENT OUT IN IMPLEMENTATION-----------------------------------------------\n",
    "                # #direction getter loop (not needed for graph analysis)\n",
    "                # listing = 1\n",
    "                # dirno = 1\n",
    "                # directions = []\n",
    "                # while listing:\n",
    "                #     directionPath = \"/html/body/div[3]/div/main/div[1]/div[2]/div[1]/div[2]/div[2]/section[1]/fieldset/ul/li[\"+str(dirno)+\"]/div[1]/div/p\"\n",
    "                #     newdir = tree.xpath(str(directionPath+\"/text()\"))\n",
    "                #     dirno = dirno + 1\n",
    "                #     if newdir == []:\n",
    "                #         listing = 0;\n",
    "                #     else:\n",
    "                #         directions.append(newdir[0])        \n",
    "                # #Other variable assignments\n",
    "                # title = tree.xpath(str(titlePath+\"/text()\"))[0]\n",
    "                #---------------------------------------END COMMENT OUT-------------------------------------------------------------\n",
    "            except:\n",
    "                valid = False\n",
    "                fail_type = \"invalid page format\"\n",
    "                return valid, pageNo, fail_type\n",
    "\n",
    "    if valid:\n",
    "\n",
    "        #---------------------------------------COMMENT OUT IN IMPLEMENTATION-----------------------------------------------\n",
    "        # #Formatted display of title, rating, ingredients, and directions objects extracted\n",
    "\n",
    "        # print(title+\"\\n-----------------------------\")\n",
    "        # print(\"Rating: \"+str(rating)+\"\\n\\nIngredients \\n\")\n",
    "        # for ingredient in ingredients:\n",
    "        #     print(\" - \"+ ingredient)\n",
    "        # print(\"\\nDirections\")\n",
    "        # for direction in directions:\n",
    "        #     print(\" - \"+ direction)\n",
    "        #---------------------------------------END COMMENT OUT-------------------------------------------------------------\n",
    "\n",
    "        # Checking each scraped ingredient one by one to see if it has word(s) containing master ingredient\n",
    "        # Longer whole-word substrings preferred to eliminate partial duplication and reduce lopsdd\n",
    "        complist=[]\n",
    "        extractIngredients = pd.DataFrame(ingredients, columns=['Extracted Ingredients']) #ingredients scraped\n",
    "        for setIngredient in ingredientSet['Ingredient']: #for each ingredient in the master list\n",
    "            regex_str = \"\\\\b\" + setIngredient + \"\\\\b\"\n",
    "            check = extractIngredients['Extracted Ingredients'].str.contains(pat=regex_str, case='False', na='False') #do ingredients scraped contain substring matching master\n",
    "            if any(check):\n",
    "                if setIngredient not in complist:\n",
    "                    complist.append(setIngredient)\n",
    "        complist = sorted([*set(complist)],key=len,reverse=True) #remove any duplicates due to substring matching and sort from longest to shortest\n",
    "\n",
    "        out = []\n",
    "        for s in complist:\n",
    "            if not any([s in o for o in out]):\n",
    "                out.append(s)\n",
    "        complist = out\n",
    "        return valid, complist, rating, ratecount"
   ]
  },
  {
   "cell_type": "markdown",
   "id": "053a273c",
   "metadata": {},
   "source": [
    "### TODO: Combination Architecture\n",
    "- (DONE) Create list of all possible ingredient combinations from scraped ingredients\n",
    "- (DONE) Create temporary dataframe from list to hold these results\n",
    "- (DONE) Concatenate temp dataframe to master dataframe containing previous combos and ratings\n",
    "- (DONE) Change if/else loops to try/except to catch wider unavailibility\n",
    "- (DONE) Every 100 recipies, aggregate identical ingredient combinations in master dataframe by rating\n",
    "- (DONE) Add weighting based on number of ratings to aggregation system\n",
    "- Make API for website to access text file of allrecipies\n",
    "- Find better weighting function"
   ]
  },
  {
   "cell_type": "code",
   "execution_count": 77,
   "id": "796c5799",
   "metadata": {},
   "outputs": [
    {
     "name": "stderr",
     "output_type": "stream",
     "text": [
      "Processing page 258499:  32%|███▏      | 32/100 [01:56<03:21,  2.96s/it]C:\\Users\\Aidan\\AppData\\Local\\Temp\\ipykernel_11912\\1935829779.py:27: FutureWarning:\n",
      "\n",
      "Indexing with multiple keys (implicitly converted to a tuple of keys) will be deprecated, use a list instead.\n",
      "\n",
      "Processing page 258567: 100%|██████████| 100/100 [06:06<00:00,  3.67s/it]"
     ]
    },
    {
     "name": "stdout",
     "output_type": "stream",
     "text": [
      "Omitted Pages: \n",
      "['258470: insufficient reviews', '258477: insufficient reviews', '258478: insufficient reviews', '258489: insufficient reviews', '258497: invalid page format', '258498: insufficient reviews', '258499: invalid page format', '258500: page not existing', '258501: page not existing', '258502: page not existing', '258503: page not existing', '258504: page not existing', '258505: page not existing', '258506: page not existing', '258507: page not existing', '258508: page not existing', '258509: page not existing', '258510: page not existing', '258511: page not existing', '258512: page not existing', '258513: page not existing', '258514: page not existing', '258515: page not existing', '258516: page not existing', '258517: page not existing', '258518: page not existing', '258519: page not existing', '258520: page not existing', '258521: page not existing', '258522: page not existing', '258523: page not existing', '258524: page not existing', '258525: page not existing', '258526: page not existing', '258527: page not existing', '258528: page not existing', '258529: page not existing', '258530: page not existing', '258531: page not existing', '258532: page not existing', '258533: page not existing', '258534: page not existing', '258535: page not existing', '258536: page not existing', '258537: page not existing', '258538: page not existing', '258539: page not existing', '258540: page not existing', '258541: page not existing', '258542: page not existing', '258543: page not existing', '258544: page not existing', '258545: page not existing', '258546: page not existing', '258547: page not existing', '258551: insufficient reviews', '258554: insufficient reviews', '258558: insufficient reviews', '258560: insufficient reviews']\n",
      "Non-aggregated Ingredient List\n",
      "             Ingredient 1       Ingredient 2  Rating  Weight   Score\n",
      "0     ground black pepper  all-purpose flour     4.4     943  1368.7\n",
      "1     ground black pepper   wide egg noodles     4.4     943  1371.3\n",
      "2     ground black pepper     beef stew meat     4.4     943  1385.1\n",
      "3     ground black pepper      chicken broth     4.4     943  1388.6\n",
      "4     ground black pepper        dried thyme     4.4     943  1402.3\n",
      "...                   ...                ...     ...     ...     ...\n",
      "1513             cilantro               eggs     4.5       4   437.4\n",
      "1514             cilantro               lime     4.5       4   457.5\n",
      "1515                salsa               eggs     4.5       4   434.0\n",
      "1516                salsa               lime     4.5       4   462.5\n",
      "1517                 eggs               lime     4.5       4   447.6\n",
      "\n",
      "[1518 rows x 5 columns]\n"
     ]
    },
    {
     "name": "stderr",
     "output_type": "stream",
     "text": [
      "\n",
      "C:\\Users\\Aidan\\AppData\\Local\\Temp\\ipykernel_11912\\1935829779.py:39: FutureWarning:\n",
      "\n",
      "Indexing with multiple keys (implicitly converted to a tuple of keys) will be deprecated, use a list instead.\n",
      "\n"
     ]
    }
   ],
   "source": [
    "#Page Selection\n",
    "page_start = 258468\n",
    "page_end = 258568\n",
    "\n",
    "#Initializations\n",
    "omitted_pages = []\n",
    "masterframe = pd.DataFrame()\n",
    "prog_range = tqdm(range(page_start,page_end))\n",
    "\n",
    "\n",
    "#Test Loop\n",
    "for pageNumber in prog_range:\n",
    "    scraped=ar_scraper(pageNumber)\n",
    "    if scraped[0]:\n",
    "        combolist=list(itertools.combinations(scraped[1],2))\n",
    "        comboframe = pd.DataFrame(list(itertools.combinations(scraped[1], 2)), columns=['Ingredient 1','Ingredient 2'])\n",
    "        comboframe['Rating']= ([scraped[2]]*len(comboframe))\n",
    "        comboframe['Weight']= ([scraped[3]]*len(comboframe))\n",
    "        comboframe['Score'] = 100*comboframe.Rating+comboframe.Weight#Bad weighting function, fine-tune this later\n",
    "        masterframe = pd.concat([masterframe, comboframe], axis=0, ignore_index=True)\n",
    "    else:\n",
    "        omitted_pages.append(str(scraped[1])+\": \"+scraped[2])\n",
    "\n",
    "    #Aggregation every 100 entries\n",
    "    if pageNumber%100 == 0:\n",
    "        masterframe.reindex()\n",
    "        masterframe.groupby(by=['Ingredient 1', 'Ingredient 2'])['Rating', 'Weight'].mean()\n",
    "\n",
    "    prog_range.set_description(f'Processing page {pageNumber}')\n",
    "\n",
    "#Noiseing Data for visualization\n",
    "randlist = []\n",
    "for i in range(0,len(masterframe['Score'])):\n",
    "    randlist.append((random.randrange(-200, 200))/10)\n",
    "randcol = pd.DataFrame(randlist)\n",
    "masterframe['Score'] = masterframe['Score'].add(randcol[0])\n",
    "\n",
    "#Final aggregation and sorting before analysis\n",
    "masterframe.groupby(by=['Ingredient 1', 'Ingredient 2'])['Rating', 'Weight'].mean()\n",
    "masterframe.sort_values(by=['Score'], ascending=False)\n",
    "masterframe.reindex()\n",
    "\n",
    "print(\"Omitted Pages: \")\n",
    "print(omitted_pages)\n",
    "print(\"Non-aggregated Ingredient List\")\n",
    "print(masterframe)"
   ]
  },
  {
   "cell_type": "code",
   "execution_count": 78,
   "id": "23fbf4fb",
   "metadata": {},
   "outputs": [
    {
     "data": {
      "application/vnd.plotly.v1+json": {
       "config": {
        "plotlyServerURL": "https://plot.ly"
       },
       "data": [
        {
         "customdata": [
          [
           "ground black pepper",
           "all-purpose flour"
          ],
          [
           "ground black pepper",
           "wide egg noodles"
          ],
          [
           "ground black pepper",
           "beef stew meat"
          ],
          [
           "ground black pepper",
           "chicken broth"
          ],
          [
           "ground black pepper",
           "dried thyme"
          ],
          [
           "ground black pepper",
           "canola oil"
          ],
          [
           "ground black pepper",
           "sour cream"
          ],
          [
           "ground black pepper",
           "soy sauce"
          ],
          [
           "ground black pepper",
           "mushrooms"
          ],
          [
           "ground black pepper",
           "garlic"
          ],
          [
           "ground black pepper",
           "onion"
          ],
          [
           "ground black pepper",
           "salt"
          ],
          [
           "ground black pepper",
           "pineapple chunks"
          ],
          [
           "ground black pepper",
           "cayenne pepper"
          ],
          [
           "ground black pepper",
           "garlic powder"
          ],
          [
           "ground black pepper",
           "ground cumin"
          ],
          [
           "ground black pepper",
           "onion powder"
          ],
          [
           "ground black pepper",
           "brown sugar"
          ],
          [
           "ground black pepper",
           "pork ribs"
          ],
          [
           "ground black pepper",
           "juice"
          ],
          [
           "ground black pepper",
           "honey"
          ],
          [
           "ground black pepper",
           "salt"
          ],
          [
           "ground black pepper",
           "lime"
          ],
          [
           "ground black pepper",
           "beer"
          ],
          [
           "ground black pepper",
           "red food coloring"
          ],
          [
           "ground black pepper",
           "five-spice powder"
          ],
          [
           "ground black pepper",
           "cayenne pepper"
          ],
          [
           "ground black pepper",
           "hoisin sauce"
          ],
          [
           "ground black pepper",
           "curing salt"
          ],
          [
           "ground black pepper",
           "brown sugar"
          ],
          [
           "ground black pepper",
           "kosher salt"
          ],
          [
           "ground black pepper",
           "dry sherry"
          ],
          [
           "ground black pepper",
           "rice wine"
          ],
          [
           "ground black pepper",
           "pork butt"
          ],
          [
           "ground black pepper",
           "soy sauce"
          ],
          [
           "ground black pepper",
           "ketchup"
          ],
          [
           "ground black pepper",
           "garlic"
          ],
          [
           "ground black pepper",
           "honey"
          ],
          [
           "ground black pepper",
           "sake"
          ],
          [
           "ground black pepper",
           "provolone cheese"
          ],
          [
           "ground black pepper",
           "hoagie rolls"
          ],
          [
           "ground black pepper",
           "thyme leaves"
          ],
          [
           "ground black pepper",
           "bell pepper"
          ],
          [
           "ground black pepper",
           "olive oil"
          ],
          [
           "ground black pepper",
           "soy sauce"
          ],
          [
           "ground black pepper",
           "mushrooms"
          ],
          [
           "ground black pepper",
           "mustard"
          ],
          [
           "ground black pepper",
           "cremini"
          ],
          [
           "ground black pepper",
           "butter"
          ],
          [
           "ground black pepper",
           "onion"
          ],
          [
           "ground black pepper",
           "salt"
          ],
          [
           "ground black pepper",
           "cilantro leaves"
          ],
          [
           "ground black pepper",
           "dark sesame oil"
          ],
          [
           "ground black pepper",
           "napa cabbage"
          ],
          [
           "ground black pepper",
           "soy sauce"
          ],
          [
           "ground black pepper",
           "boneless chicken"
          ],
          [
           "ground black pepper",
           "chicken breasts"
          ],
          [
           "ground black pepper",
           "medium salsa"
          ],
          [
           "ground black pepper",
           "jasmine rice"
          ],
          [
           "ground black pepper",
           "tomato sauce"
          ],
          [
           "ground black pepper",
           "garlic salt"
          ],
          [
           "ground black pepper",
           "lime juice"
          ],
          [
           "ground black pepper",
           "olive oil"
          ],
          [
           "ground black pepper",
           "water"
          ],
          [
           "ground black pepper",
           "biscuit dough"
          ],
          [
           "ground black pepper",
           "cooking spray"
          ],
          [
           "ground black pepper",
           "cheese"
          ],
          [
           "ground black pepper",
           "gravy"
          ],
          [
           "ground black pepper",
           "salt"
          ],
          [
           "ground black pepper",
           "eggs"
          ],
          [
           "ground black pepper",
           "milk"
          ],
          [
           "ground black pepper",
           "flour tortillas"
          ],
          [
           "ground black pepper",
           "pico de gallo"
          ],
          [
           "ground black pepper",
           "vegetable oil"
          ],
          [
           "ground black pepper",
           "garlic powder"
          ],
          [
           "ground black pepper",
           "chili powder"
          ],
          [
           "ground black pepper",
           "black beans"
          ],
          [
           "ground black pepper",
           "sour cream"
          ],
          [
           "ground black pepper",
           "cilantro"
          ],
          [
           "ground black pepper",
           "salsa"
          ],
          [
           "ground black pepper",
           "eggs"
          ],
          [
           "ground black pepper",
           "lime"
          ]
         ],
         "hovertemplate": "Ingredient 1=%{customdata[0]}<br>Rating=%{marker.size}<br>Score=%{y}<br>Ingredient 2=%{customdata[1]}<extra></extra>",
         "legendgroup": "ground black pepper",
         "marker": {
          "color": "#636efa",
          "size": [
           4.4,
           4.4,
           4.4,
           4.4,
           4.4,
           4.4,
           4.4,
           4.4,
           4.4,
           4.4,
           4.4,
           4.4,
           5,
           5,
           5,
           5,
           5,
           5,
           5,
           5,
           5,
           5,
           5,
           5,
           4.7,
           4.7,
           4.7,
           4.7,
           4.7,
           4.7,
           4.7,
           4.7,
           4.7,
           4.7,
           4.7,
           4.7,
           4.7,
           4.7,
           4.7,
           4.5,
           4.5,
           4.5,
           4.5,
           4.5,
           4.5,
           4.5,
           4.5,
           4.5,
           4.5,
           4.5,
           4.5,
           3.7,
           3.7,
           3.7,
           3.7,
           4.6,
           4.6,
           4.6,
           4.6,
           4.6,
           4.6,
           4.6,
           4.6,
           4.6,
           3.9,
           3.9,
           3.9,
           3.9,
           3.9,
           3.9,
           3.9,
           4.5,
           4.5,
           4.5,
           4.5,
           4.5,
           4.5,
           4.5,
           4.5,
           4.5,
           4.5,
           4.5
          ],
          "sizemode": "area",
          "sizeref": 0.0125,
          "symbol": "circle"
         },
         "mode": "markers",
         "name": "ground black pepper",
         "showlegend": true,
         "type": "scattergl",
         "x": [
          4.4,
          4.4,
          4.4,
          4.4,
          4.4,
          4.4,
          4.4,
          4.4,
          4.4,
          4.4,
          4.4,
          4.4,
          5,
          5,
          5,
          5,
          5,
          5,
          5,
          5,
          5,
          5,
          5,
          5,
          4.7,
          4.7,
          4.7,
          4.7,
          4.7,
          4.7,
          4.7,
          4.7,
          4.7,
          4.7,
          4.7,
          4.7,
          4.7,
          4.7,
          4.7,
          4.5,
          4.5,
          4.5,
          4.5,
          4.5,
          4.5,
          4.5,
          4.5,
          4.5,
          4.5,
          4.5,
          4.5,
          3.7,
          3.7,
          3.7,
          3.7,
          4.6,
          4.6,
          4.6,
          4.6,
          4.6,
          4.6,
          4.6,
          4.6,
          4.6,
          3.9,
          3.9,
          3.9,
          3.9,
          3.9,
          3.9,
          3.9,
          4.5,
          4.5,
          4.5,
          4.5,
          4.5,
          4.5,
          4.5,
          4.5,
          4.5,
          4.5,
          4.5
         ],
         "xaxis": "x",
         "y": [
          1368.7,
          1371.3,
          1385.1,
          1388.6,
          1402.3,
          1398.1,
          1382.4,
          1400.8,
          1389.2,
          1379.2,
          1370,
          1397.1,
          507.5,
          507.8,
          521.8,
          489,
          521.3,
          521.1,
          491.4,
          518.1,
          493.4,
          506.8,
          498.6,
          513.4,
          573.2,
          558.7,
          556,
          564,
          582.4,
          572.8,
          591,
          562,
          554.1,
          571.3,
          575.6,
          590.9,
          587.7,
          570.3,
          567.4,
          470,
          460.7,
          439.7,
          437.8,
          453.7,
          464,
          445.5,
          442.8,
          457.1,
          470.7,
          438.4,
          452.5,
          392.5,
          371.4,
          391.9,
          367,
          472.8999999999999,
          491.3999999999999,
          470.19999999999993,
          499.59999999999997,
          497.69999999999993,
          467.99999999999994,
          476.19999999999993,
          473.79999999999995,
          500.69999999999993,
          383.5,
          403.2,
          411.6,
          415.1,
          411,
          390.8,
          413.4,
          457.8,
          471.2,
          445.9,
          434.7,
          437.5,
          473.9,
          473.1,
          455.5,
          436.5,
          464.9,
          450.8
         ],
         "yaxis": "y"
        },
        {
         "customdata": [
          [
           "all-purpose flour",
           "wide egg noodles"
          ],
          [
           "all-purpose flour",
           "beef stew meat"
          ],
          [
           "all-purpose flour",
           "chicken broth"
          ],
          [
           "all-purpose flour",
           "dried thyme"
          ],
          [
           "all-purpose flour",
           "canola oil"
          ],
          [
           "all-purpose flour",
           "sour cream"
          ],
          [
           "all-purpose flour",
           "soy sauce"
          ],
          [
           "all-purpose flour",
           "mushrooms"
          ],
          [
           "all-purpose flour",
           "garlic"
          ],
          [
           "all-purpose flour",
           "onion"
          ],
          [
           "all-purpose flour",
           "salt"
          ],
          [
           "all-purpose flour",
           "light brown sugar"
          ],
          [
           "all-purpose flour",
           "vanilla extract"
          ],
          [
           "all-purpose flour",
           "vegetable oil"
          ],
          [
           "all-purpose flour",
           "baking powder"
          ],
          [
           "all-purpose flour",
           "cocoa powder"
          ],
          [
           "all-purpose flour",
           "baking soda"
          ],
          [
           "all-purpose flour",
           "white sugar"
          ],
          [
           "all-purpose flour",
           "buttermilk"
          ],
          [
           "all-purpose flour",
           "salt"
          ],
          [
           "all-purpose flour",
           "eggs"
          ],
          [
           "all-purpose flour",
           "flax seed meal"
          ],
          [
           "all-purpose flour",
           "baking powder"
          ],
          [
           "all-purpose flour",
           "coconut milk"
          ],
          [
           "all-purpose flour",
           "roasted cashews"
          ],
          [
           "all-purpose flour",
           "cooked chicken"
          ],
          [
           "all-purpose flour",
           "baby broccoli"
          ],
          [
           "all-purpose flour",
           "chicken broth"
          ],
          [
           "all-purpose flour",
           "jasmine rice"
          ],
          [
           "all-purpose flour",
           "tarragon"
          ],
          [
           "all-purpose flour",
           "butter"
          ],
          [
           "all-purpose flour",
           "salt"
          ]
         ],
         "hovertemplate": "Ingredient 1=%{customdata[0]}<br>Rating=%{marker.size}<br>Score=%{y}<br>Ingredient 2=%{customdata[1]}<extra></extra>",
         "legendgroup": "all-purpose flour",
         "marker": {
          "color": "#EF553B",
          "size": [
           4.4,
           4.4,
           4.4,
           4.4,
           4.4,
           4.4,
           4.4,
           4.4,
           4.4,
           4.4,
           4.4,
           4.5,
           4.5,
           4.5,
           4.5,
           4.5,
           4.5,
           4.5,
           4.5,
           4.5,
           4.5,
           3.6,
           3.6,
           3.6,
           3.5,
           3.5,
           3.5,
           3.5,
           3.5,
           3.5,
           3.5,
           3.5
          ],
          "sizemode": "area",
          "sizeref": 0.0125,
          "symbol": "circle"
         },
         "mode": "markers",
         "name": "all-purpose flour",
         "showlegend": true,
         "type": "scattergl",
         "x": [
          4.4,
          4.4,
          4.4,
          4.4,
          4.4,
          4.4,
          4.4,
          4.4,
          4.4,
          4.4,
          4.4,
          4.5,
          4.5,
          4.5,
          4.5,
          4.5,
          4.5,
          4.5,
          4.5,
          4.5,
          4.5,
          3.6,
          3.6,
          3.6,
          3.5,
          3.5,
          3.5,
          3.5,
          3.5,
          3.5,
          3.5,
          3.5
         ],
         "xaxis": "x",
         "y": [
          1385.9,
          1383.8,
          1363.2,
          1376,
          1397.5,
          1397.9,
          1371.5,
          1397.1,
          1363.6,
          1393.5,
          1382.7,
          462.1,
          444.6,
          447.7,
          450.3,
          472.9,
          453.9,
          474.2,
          469.1,
          464.5,
          457.6,
          369.4,
          380.8,
          382.2,
          352.5,
          365.2,
          358.3,
          351.6,
          360,
          340.1,
          346.2,
          363
         ],
         "yaxis": "y"
        },
        {
         "customdata": [
          [
           "wide egg noodles",
           "beef stew meat"
          ],
          [
           "wide egg noodles",
           "chicken broth"
          ],
          [
           "wide egg noodles",
           "dried thyme"
          ],
          [
           "wide egg noodles",
           "canola oil"
          ],
          [
           "wide egg noodles",
           "sour cream"
          ],
          [
           "wide egg noodles",
           "soy sauce"
          ],
          [
           "wide egg noodles",
           "mushrooms"
          ],
          [
           "wide egg noodles",
           "garlic"
          ],
          [
           "wide egg noodles",
           "onion"
          ],
          [
           "wide egg noodles",
           "salt"
          ]
         ],
         "hovertemplate": "Ingredient 1=%{customdata[0]}<br>Rating=%{marker.size}<br>Score=%{y}<br>Ingredient 2=%{customdata[1]}<extra></extra>",
         "legendgroup": "wide egg noodles",
         "marker": {
          "color": "#00cc96",
          "size": [
           4.4,
           4.4,
           4.4,
           4.4,
           4.4,
           4.4,
           4.4,
           4.4,
           4.4,
           4.4
          ],
          "sizemode": "area",
          "sizeref": 0.0125,
          "symbol": "circle"
         },
         "mode": "markers",
         "name": "wide egg noodles",
         "showlegend": true,
         "type": "scattergl",
         "x": [
          4.4,
          4.4,
          4.4,
          4.4,
          4.4,
          4.4,
          4.4,
          4.4,
          4.4,
          4.4
         ],
         "xaxis": "x",
         "y": [
          1386.9,
          1372.8,
          1396.2,
          1368.1,
          1383.6,
          1366.5,
          1365.5,
          1379.7,
          1385.2,
          1393.9
         ],
         "yaxis": "y"
        },
        {
         "customdata": [
          [
           "beef stew meat",
           "chicken broth"
          ],
          [
           "beef stew meat",
           "dried thyme"
          ],
          [
           "beef stew meat",
           "canola oil"
          ],
          [
           "beef stew meat",
           "sour cream"
          ],
          [
           "beef stew meat",
           "soy sauce"
          ],
          [
           "beef stew meat",
           "mushrooms"
          ],
          [
           "beef stew meat",
           "garlic"
          ],
          [
           "beef stew meat",
           "onion"
          ],
          [
           "beef stew meat",
           "salt"
          ]
         ],
         "hovertemplate": "Ingredient 1=%{customdata[0]}<br>Rating=%{marker.size}<br>Score=%{y}<br>Ingredient 2=%{customdata[1]}<extra></extra>",
         "legendgroup": "beef stew meat",
         "marker": {
          "color": "#ab63fa",
          "size": [
           4.4,
           4.4,
           4.4,
           4.4,
           4.4,
           4.4,
           4.4,
           4.4,
           4.4
          ],
          "sizemode": "area",
          "sizeref": 0.0125,
          "symbol": "circle"
         },
         "mode": "markers",
         "name": "beef stew meat",
         "showlegend": true,
         "type": "scattergl",
         "x": [
          4.4,
          4.4,
          4.4,
          4.4,
          4.4,
          4.4,
          4.4,
          4.4,
          4.4
         ],
         "xaxis": "x",
         "y": [
          1380.3,
          1398.3,
          1394.4,
          1391.1,
          1370.6,
          1392.1,
          1385.6,
          1375.3,
          1379.2
         ],
         "yaxis": "y"
        },
        {
         "customdata": [
          [
           "chicken broth",
           "dried thyme"
          ],
          [
           "chicken broth",
           "canola oil"
          ],
          [
           "chicken broth",
           "sour cream"
          ],
          [
           "chicken broth",
           "soy sauce"
          ],
          [
           "chicken broth",
           "mushrooms"
          ],
          [
           "chicken broth",
           "garlic"
          ],
          [
           "chicken broth",
           "onion"
          ],
          [
           "chicken broth",
           "salt"
          ],
          [
           "chicken broth",
           "jasmine rice"
          ],
          [
           "chicken broth",
           "tarragon"
          ],
          [
           "chicken broth",
           "butter"
          ],
          [
           "chicken broth",
           "salt"
          ]
         ],
         "hovertemplate": "Ingredient 1=%{customdata[0]}<br>Rating=%{marker.size}<br>Score=%{y}<br>Ingredient 2=%{customdata[1]}<extra></extra>",
         "legendgroup": "chicken broth",
         "marker": {
          "color": "#FFA15A",
          "size": [
           4.4,
           4.4,
           4.4,
           4.4,
           4.4,
           4.4,
           4.4,
           4.4,
           3.5,
           3.5,
           3.5,
           3.5
          ],
          "sizemode": "area",
          "sizeref": 0.0125,
          "symbol": "circle"
         },
         "mode": "markers",
         "name": "chicken broth",
         "showlegend": true,
         "type": "scattergl",
         "x": [
          4.4,
          4.4,
          4.4,
          4.4,
          4.4,
          4.4,
          4.4,
          4.4,
          3.5,
          3.5,
          3.5,
          3.5
         ],
         "xaxis": "x",
         "y": [
          1401.8,
          1368.5,
          1387,
          1365.4,
          1384,
          1400.5,
          1373.4,
          1402.4,
          351.4,
          370.9,
          347.5,
          359.2
         ],
         "yaxis": "y"
        },
        {
         "customdata": [
          [
           "dried thyme",
           "canola oil"
          ],
          [
           "dried thyme",
           "sour cream"
          ],
          [
           "dried thyme",
           "soy sauce"
          ],
          [
           "dried thyme",
           "mushrooms"
          ],
          [
           "dried thyme",
           "garlic"
          ],
          [
           "dried thyme",
           "onion"
          ],
          [
           "dried thyme",
           "salt"
          ]
         ],
         "hovertemplate": "Ingredient 1=%{customdata[0]}<br>Rating=%{marker.size}<br>Score=%{y}<br>Ingredient 2=%{customdata[1]}<extra></extra>",
         "legendgroup": "dried thyme",
         "marker": {
          "color": "#19d3f3",
          "size": [
           4.4,
           4.4,
           4.4,
           4.4,
           4.4,
           4.4,
           4.4
          ],
          "sizemode": "area",
          "sizeref": 0.0125,
          "symbol": "circle"
         },
         "mode": "markers",
         "name": "dried thyme",
         "showlegend": true,
         "type": "scattergl",
         "x": [
          4.4,
          4.4,
          4.4,
          4.4,
          4.4,
          4.4,
          4.4
         ],
         "xaxis": "x",
         "y": [
          1395.4,
          1366.5,
          1374.2,
          1367.6,
          1375.8,
          1377.9,
          1365.1
         ],
         "yaxis": "y"
        },
        {
         "customdata": [
          [
           "canola oil",
           "sour cream"
          ],
          [
           "canola oil",
           "soy sauce"
          ],
          [
           "canola oil",
           "mushrooms"
          ],
          [
           "canola oil",
           "garlic"
          ],
          [
           "canola oil",
           "onion"
          ],
          [
           "canola oil",
           "salt"
          ]
         ],
         "hovertemplate": "Ingredient 1=%{customdata[0]}<br>Rating=%{marker.size}<br>Score=%{y}<br>Ingredient 2=%{customdata[1]}<extra></extra>",
         "legendgroup": "canola oil",
         "marker": {
          "color": "#FF6692",
          "size": [
           4.4,
           4.4,
           4.4,
           4.4,
           4.4,
           4.4
          ],
          "sizemode": "area",
          "sizeref": 0.0125,
          "symbol": "circle"
         },
         "mode": "markers",
         "name": "canola oil",
         "showlegend": true,
         "type": "scattergl",
         "x": [
          4.4,
          4.4,
          4.4,
          4.4,
          4.4,
          4.4
         ],
         "xaxis": "x",
         "y": [
          1386.6,
          1391.6,
          1381.7,
          1379.2,
          1366.4,
          1389.6
         ],
         "yaxis": "y"
        },
        {
         "customdata": [
          [
           "sour cream",
           "soy sauce"
          ],
          [
           "sour cream",
           "mushrooms"
          ],
          [
           "sour cream",
           "garlic"
          ],
          [
           "sour cream",
           "onion"
          ],
          [
           "sour cream",
           "salt"
          ],
          [
           "sour cream",
           "crumbles"
          ],
          [
           "sour cream",
           "grapes"
          ],
          [
           "sour cream",
           "cilantro"
          ],
          [
           "sour cream",
           "salsa"
          ],
          [
           "sour cream",
           "eggs"
          ],
          [
           "sour cream",
           "lime"
          ]
         ],
         "hovertemplate": "Ingredient 1=%{customdata[0]}<br>Rating=%{marker.size}<br>Score=%{y}<br>Ingredient 2=%{customdata[1]}<extra></extra>",
         "legendgroup": "sour cream",
         "marker": {
          "color": "#B6E880",
          "size": [
           4.4,
           4.4,
           4.4,
           4.4,
           4.4,
           5,
           5,
           4.5,
           4.5,
           4.5,
           4.5
          ],
          "sizemode": "area",
          "sizeref": 0.0125,
          "symbol": "circle"
         },
         "mode": "markers",
         "name": "sour cream",
         "showlegend": true,
         "type": "scattergl",
         "x": [
          4.4,
          4.4,
          4.4,
          4.4,
          4.4,
          5,
          5,
          4.5,
          4.5,
          4.5,
          4.5
         ],
         "xaxis": "x",
         "y": [
          1364.4,
          1370.2,
          1376.2,
          1390.6,
          1391.4,
          511.3,
          512.8,
          467.2,
          437.9,
          437.4,
          438.4
         ],
         "yaxis": "y"
        },
        {
         "customdata": [
          [
           "soy sauce",
           "mushrooms"
          ],
          [
           "soy sauce",
           "garlic"
          ],
          [
           "soy sauce",
           "onion"
          ],
          [
           "soy sauce",
           "salt"
          ],
          [
           "soy sauce",
           "ketchup"
          ],
          [
           "soy sauce",
           "garlic"
          ],
          [
           "soy sauce",
           "honey"
          ],
          [
           "soy sauce",
           "sake"
          ],
          [
           "soy sauce",
           "mushrooms"
          ],
          [
           "soy sauce",
           "mustard"
          ],
          [
           "soy sauce",
           "cremini"
          ],
          [
           "soy sauce",
           "butter"
          ],
          [
           "soy sauce",
           "onion"
          ],
          [
           "soy sauce",
           "salt"
          ]
         ],
         "hovertemplate": "Ingredient 1=%{customdata[0]}<br>Rating=%{marker.size}<br>Score=%{y}<br>Ingredient 2=%{customdata[1]}<extra></extra>",
         "legendgroup": "soy sauce",
         "marker": {
          "color": "#FF97FF",
          "size": [
           4.4,
           4.4,
           4.4,
           4.4,
           4.7,
           4.7,
           4.7,
           4.7,
           4.5,
           4.5,
           4.5,
           4.5,
           4.5,
           4.5
          ],
          "sizemode": "area",
          "sizeref": 0.0125,
          "symbol": "circle"
         },
         "mode": "markers",
         "name": "soy sauce",
         "showlegend": true,
         "type": "scattergl",
         "x": [
          4.4,
          4.4,
          4.4,
          4.4,
          4.7,
          4.7,
          4.7,
          4.7,
          4.5,
          4.5,
          4.5,
          4.5,
          4.5,
          4.5
         ],
         "xaxis": "x",
         "y": [
          1400.2,
          1378.8,
          1372.2,
          1384.9,
          584.5,
          570.6,
          575.4,
          584.8,
          442.1,
          456.8,
          434,
          447.1,
          464,
          460.1
         ],
         "yaxis": "y"
        },
        {
         "customdata": [
          [
           "mushrooms",
           "garlic"
          ],
          [
           "mushrooms",
           "onion"
          ],
          [
           "mushrooms",
           "salt"
          ],
          [
           "mushrooms",
           "mustard"
          ],
          [
           "mushrooms",
           "cremini"
          ],
          [
           "mushrooms",
           "butter"
          ],
          [
           "mushrooms",
           "onion"
          ],
          [
           "mushrooms",
           "salt"
          ],
          [
           "mushrooms",
           "onion"
          ],
          [
           "mushrooms",
           "salt"
          ],
          [
           "mushrooms",
           "eggs"
          ]
         ],
         "hovertemplate": "Ingredient 1=%{customdata[0]}<br>Rating=%{marker.size}<br>Score=%{y}<br>Ingredient 2=%{customdata[1]}<extra></extra>",
         "legendgroup": "mushrooms",
         "marker": {
          "color": "#FECB52",
          "size": [
           4.4,
           4.4,
           4.4,
           4.5,
           4.5,
           4.5,
           4.5,
           4.5,
           5,
           5,
           5
          ],
          "sizemode": "area",
          "sizeref": 0.0125,
          "symbol": "circle"
         },
         "mode": "markers",
         "name": "mushrooms",
         "showlegend": true,
         "type": "scattergl",
         "x": [
          4.4,
          4.4,
          4.4,
          4.5,
          4.5,
          4.5,
          4.5,
          4.5,
          5,
          5,
          5
         ],
         "xaxis": "x",
         "y": [
          1402.9,
          1397.4,
          1393.8,
          434.3,
          435.1,
          463.3,
          444,
          451.5,
          504.5,
          489.4,
          507.1
         ],
         "yaxis": "y"
        },
        {
         "customdata": [
          [
           "garlic",
           "onion"
          ],
          [
           "garlic",
           "salt"
          ],
          [
           "garlic",
           "honey"
          ],
          [
           "garlic",
           "sake"
          ],
          [
           "garlic",
           "quinoa"
          ],
          [
           "garlic",
           "onion"
          ],
          [
           "garlic",
           "pepper"
          ],
          [
           "garlic",
           "salt"
          ],
          [
           "garlic",
           "lime"
          ]
         ],
         "hovertemplate": "Ingredient 1=%{customdata[0]}<br>Rating=%{marker.size}<br>Score=%{y}<br>Ingredient 2=%{customdata[1]}<extra></extra>",
         "legendgroup": "garlic",
         "marker": {
          "color": "#636efa",
          "size": [
           4.4,
           4.4,
           4.7,
           4.7,
           4,
           4,
           4.5,
           4.5,
           4.5
          ],
          "sizemode": "area",
          "sizeref": 0.0125,
          "symbol": "circle"
         },
         "mode": "markers",
         "name": "garlic",
         "showlegend": true,
         "type": "scattergl",
         "x": [
          4.4,
          4.4,
          4.7,
          4.7,
          4,
          4,
          4.5,
          4.5,
          4.5
         ],
         "xaxis": "x",
         "y": [
          1367.2,
          1399,
          582.8,
          593.7,
          392.6,
          408.7,
          456.2,
          459,
          456.4
         ],
         "yaxis": "y"
        },
        {
         "customdata": [
          [
           "onion",
           "salt"
          ],
          [
           "onion",
           "bacon"
          ],
          [
           "onion",
           "salt"
          ],
          [
           "onion",
           "salt"
          ],
          [
           "onion",
           "sauce"
          ],
          [
           "onion",
           "salt"
          ],
          [
           "onion",
           "lime"
          ],
          [
           "onion",
           "red"
          ],
          [
           "onion",
           "salt"
          ],
          [
           "onion",
           "eggs"
          ]
         ],
         "hovertemplate": "Ingredient 1=%{customdata[0]}<br>Rating=%{marker.size}<br>Score=%{y}<br>Ingredient 2=%{customdata[1]}<extra></extra>",
         "legendgroup": "onion",
         "marker": {
          "color": "#EF553B",
          "size": [
           4.4,
           4.7,
           4.7,
           5,
           5,
           4.5,
           4,
           4,
           5,
           5
          ],
          "sizemode": "area",
          "sizeref": 0.0125,
          "symbol": "circle"
         },
         "mode": "markers",
         "name": "onion",
         "showlegend": true,
         "type": "scattergl",
         "x": [
          4.4,
          4.7,
          4.7,
          5,
          5,
          4.5,
          4,
          4,
          5,
          5
         ],
         "xaxis": "x",
         "y": [
          1378.8,
          487.3,
          465.2,
          496.4,
          517.7,
          458.6,
          420.8,
          413.7,
          486.6,
          489.5
         ],
         "yaxis": "y"
        },
        {
         "customdata": [
          [
           "salt and ground black pepper",
           "stone ground mustard"
          ],
          [
           "salt and ground black pepper",
           "apple cider vinegar"
          ],
          [
           "salt and ground black pepper",
           "shredded cabbage"
          ],
          [
           "salt and ground black pepper",
           "cooked bacon"
          ],
          [
           "salt and ground black pepper",
           "blue cheese"
          ],
          [
           "salt and ground black pepper",
           "white sugar"
          ],
          [
           "salt and ground black pepper",
           "sour cream"
          ],
          [
           "salt and ground black pepper",
           "crumbles"
          ],
          [
           "salt and ground black pepper",
           "grapes"
          ],
          [
           "salt and ground black pepper",
           "clove garlic"
          ],
          [
           "salt and ground black pepper",
           "olive oil"
          ],
          [
           "salt and ground black pepper",
           "shallots"
          ],
          [
           "salt and ground black pepper",
           "baguette"
          ],
          [
           "salt and ground black pepper",
           "butter"
          ],
          [
           "salt and ground black pepper",
           "cheese"
          ],
          [
           "salt and ground black pepper",
           "thyme"
          ],
          [
           "salt and ground black pepper",
           "extra-virgin olive oil"
          ],
          [
           "salt and ground black pepper",
           "seedless red grapes"
          ],
          [
           "salt and ground black pepper",
           "red wine vinegar"
          ],
          [
           "salt and ground black pepper",
           "flank steak"
          ],
          [
           "salt and ground black pepper",
           "kosher salt"
          ],
          [
           "salt and ground black pepper",
           "watercress"
          ],
          [
           "salt and ground black pepper",
           "mustard"
          ],
          [
           "salt and ground black pepper",
           "cheese"
          ],
          [
           "salt and ground black pepper",
           "canned black beans"
          ],
          [
           "salt and ground black pepper",
           "cornflake crumbs"
          ],
          [
           "salt and ground black pepper",
           "ground paprika"
          ],
          [
           "salt and ground black pepper",
           "ground cumin"
          ],
          [
           "salt and ground black pepper",
           "chile powder"
          ],
          [
           "salt and ground black pepper",
           "brown sugar"
          ],
          [
           "salt and ground black pepper",
           "cooked rice"
          ],
          [
           "salt and ground black pepper",
           "olive oil"
          ],
          [
           "salt and ground black pepper",
           "walnuts"
          ],
          [
           "salt and ground black pepper",
           "onion"
          ],
          [
           "salt and ground black pepper",
           "sauce"
          ],
          [
           "salt and ground black pepper",
           "sweet corn"
          ],
          [
           "salt and ground black pepper",
           "cilantro"
          ],
          [
           "salt and ground black pepper",
           "onion"
          ],
          [
           "salt and ground black pepper",
           "lime"
          ],
          [
           "salt and ground black pepper",
           "red"
          ],
          [
           "salt and ground black pepper",
           "ground cumin"
          ],
          [
           "salt and ground black pepper",
           "clove garlic"
          ],
          [
           "salt and ground black pepper",
           "white onion"
          ],
          [
           "salt and ground black pepper",
           "cilantro"
          ],
          [
           "salt and ground black pepper",
           "avocado"
          ],
          [
           "salt and ground black pepper",
           "lime"
          ]
         ],
         "hovertemplate": "Ingredient 1=%{customdata[0]}<br>Rating=%{marker.size}<br>Score=%{y}<br>Ingredient 2=%{customdata[1]}<extra></extra>",
         "legendgroup": "salt and ground black pepper",
         "marker": {
          "color": "#00cc96",
          "size": [
           5,
           5,
           5,
           5,
           5,
           5,
           5,
           5,
           5,
           4.3,
           4.3,
           4.3,
           4.3,
           4.3,
           4.3,
           4.3,
           5,
           5,
           5,
           5,
           5,
           5,
           5,
           5,
           5,
           5,
           5,
           5,
           5,
           5,
           5,
           5,
           5,
           5,
           5,
           4,
           4,
           4,
           4,
           4,
           5,
           5,
           5,
           5,
           5,
           5
          ],
          "sizemode": "area",
          "sizeref": 0.0125,
          "symbol": "circle"
         },
         "mode": "markers",
         "name": "salt and ground black pepper",
         "showlegend": true,
         "type": "scattergl",
         "x": [
          5,
          5,
          5,
          5,
          5,
          5,
          5,
          5,
          5,
          4.3,
          4.3,
          4.3,
          4.3,
          4.3,
          4.3,
          4.3,
          5,
          5,
          5,
          5,
          5,
          5,
          5,
          5,
          5,
          5,
          5,
          5,
          5,
          5,
          5,
          5,
          5,
          5,
          5,
          4,
          4,
          4,
          4,
          4,
          5,
          5,
          5,
          5,
          5,
          5
         ],
         "xaxis": "x",
         "y": [
          489.6,
          483.5,
          497.3,
          495.3,
          498.1,
          520.4,
          512.1,
          502.3,
          488.2,
          442.5,
          415.7,
          448.8,
          442.5,
          435.2,
          452.1,
          444.1,
          494.5,
          507.2,
          496.4,
          511.5,
          491,
          512.4,
          510.3,
          486,
          521.1,
          495,
          494.8,
          510,
          505.9,
          499.6,
          499,
          500.8,
          518.6,
          521.6,
          494,
          404.3,
          383.8,
          391.8,
          407.1,
          400.7,
          482.8,
          508.7,
          500.7,
          504.8,
          508.6,
          484.3
         ],
         "yaxis": "y"
        },
        {
         "customdata": [
          [
           "stone ground mustard",
           "apple cider vinegar"
          ],
          [
           "stone ground mustard",
           "shredded cabbage"
          ],
          [
           "stone ground mustard",
           "cooked bacon"
          ],
          [
           "stone ground mustard",
           "blue cheese"
          ],
          [
           "stone ground mustard",
           "white sugar"
          ],
          [
           "stone ground mustard",
           "sour cream"
          ],
          [
           "stone ground mustard",
           "crumbles"
          ],
          [
           "stone ground mustard",
           "grapes"
          ]
         ],
         "hovertemplate": "Ingredient 1=%{customdata[0]}<br>Rating=%{marker.size}<br>Score=%{y}<br>Ingredient 2=%{customdata[1]}<extra></extra>",
         "legendgroup": "stone ground mustard",
         "marker": {
          "color": "#ab63fa",
          "size": [
           5,
           5,
           5,
           5,
           5,
           5,
           5,
           5
          ],
          "sizemode": "area",
          "sizeref": 0.0125,
          "symbol": "circle"
         },
         "mode": "markers",
         "name": "stone ground mustard",
         "showlegend": true,
         "type": "scattergl",
         "x": [
          5,
          5,
          5,
          5,
          5,
          5,
          5,
          5
         ],
         "xaxis": "x",
         "y": [
          510.7,
          508.2,
          491.1,
          516.4,
          489,
          492.7,
          497.3,
          497
         ],
         "yaxis": "y"
        },
        {
         "customdata": [
          [
           "apple cider vinegar",
           "shredded cabbage"
          ],
          [
           "apple cider vinegar",
           "cooked bacon"
          ],
          [
           "apple cider vinegar",
           "blue cheese"
          ],
          [
           "apple cider vinegar",
           "white sugar"
          ],
          [
           "apple cider vinegar",
           "sour cream"
          ],
          [
           "apple cider vinegar",
           "crumbles"
          ],
          [
           "apple cider vinegar",
           "grapes"
          ],
          [
           "apple cider vinegar",
           "green onions"
          ],
          [
           "apple cider vinegar",
           "white sugar"
          ],
          [
           "apple cider vinegar",
           "olive oil"
          ],
          [
           "apple cider vinegar",
           "cilantro"
          ],
          [
           "apple cider vinegar",
           "garlic"
          ],
          [
           "apple cider vinegar",
           "pepper"
          ],
          [
           "apple cider vinegar",
           "salt"
          ],
          [
           "apple cider vinegar",
           "lime"
          ]
         ],
         "hovertemplate": "Ingredient 1=%{customdata[0]}<br>Rating=%{marker.size}<br>Score=%{y}<br>Ingredient 2=%{customdata[1]}<extra></extra>",
         "legendgroup": "apple cider vinegar",
         "marker": {
          "color": "#FFA15A",
          "size": [
           5,
           5,
           5,
           5,
           5,
           5,
           5,
           4.5,
           4.5,
           4.5,
           4.5,
           4.5,
           4.5,
           4.5,
           4.5
          ],
          "sizemode": "area",
          "sizeref": 0.0125,
          "symbol": "circle"
         },
         "mode": "markers",
         "name": "apple cider vinegar",
         "showlegend": true,
         "type": "scattergl",
         "x": [
          5,
          5,
          5,
          5,
          5,
          5,
          5,
          4.5,
          4.5,
          4.5,
          4.5,
          4.5,
          4.5,
          4.5,
          4.5
         ],
         "xaxis": "x",
         "y": [
          506.7,
          485.4,
          499.1,
          495.4,
          492.6,
          488.2,
          513.3,
          469,
          432.4,
          433.1,
          432.6,
          460.2,
          445.5,
          440.2,
          450.3
         ],
         "yaxis": "y"
        },
        {
         "customdata": [
          [
           "shredded cabbage",
           "cooked bacon"
          ],
          [
           "shredded cabbage",
           "blue cheese"
          ],
          [
           "shredded cabbage",
           "white sugar"
          ],
          [
           "shredded cabbage",
           "sour cream"
          ],
          [
           "shredded cabbage",
           "crumbles"
          ],
          [
           "shredded cabbage",
           "grapes"
          ]
         ],
         "hovertemplate": "Ingredient 1=%{customdata[0]}<br>Rating=%{marker.size}<br>Score=%{y}<br>Ingredient 2=%{customdata[1]}<extra></extra>",
         "legendgroup": "shredded cabbage",
         "marker": {
          "color": "#19d3f3",
          "size": [
           5,
           5,
           5,
           5,
           5,
           5
          ],
          "sizemode": "area",
          "sizeref": 0.0125,
          "symbol": "circle"
         },
         "mode": "markers",
         "name": "shredded cabbage",
         "showlegend": true,
         "type": "scattergl",
         "x": [
          5,
          5,
          5,
          5,
          5,
          5
         ],
         "xaxis": "x",
         "y": [
          490.1,
          515.6,
          519.6,
          513,
          512.2,
          491
         ],
         "yaxis": "y"
        },
        {
         "customdata": [
          [
           "cooked bacon",
           "blue cheese"
          ],
          [
           "cooked bacon",
           "white sugar"
          ],
          [
           "cooked bacon",
           "sour cream"
          ],
          [
           "cooked bacon",
           "crumbles"
          ],
          [
           "cooked bacon",
           "grapes"
          ]
         ],
         "hovertemplate": "Ingredient 1=%{customdata[0]}<br>Rating=%{marker.size}<br>Score=%{y}<br>Ingredient 2=%{customdata[1]}<extra></extra>",
         "legendgroup": "cooked bacon",
         "marker": {
          "color": "#FF6692",
          "size": [
           5,
           5,
           5,
           5,
           5
          ],
          "sizemode": "area",
          "sizeref": 0.0125,
          "symbol": "circle"
         },
         "mode": "markers",
         "name": "cooked bacon",
         "showlegend": true,
         "type": "scattergl",
         "x": [
          5,
          5,
          5,
          5,
          5
         ],
         "xaxis": "x",
         "y": [
          499.4,
          505.9,
          489.1,
          495.8,
          508.7
         ],
         "yaxis": "y"
        },
        {
         "customdata": [
          [
           "blue cheese",
           "white sugar"
          ],
          [
           "blue cheese",
           "sour cream"
          ],
          [
           "blue cheese",
           "crumbles"
          ],
          [
           "blue cheese",
           "grapes"
          ]
         ],
         "hovertemplate": "Ingredient 1=%{customdata[0]}<br>Rating=%{marker.size}<br>Score=%{y}<br>Ingredient 2=%{customdata[1]}<extra></extra>",
         "legendgroup": "blue cheese",
         "marker": {
          "color": "#B6E880",
          "size": [
           5,
           5,
           5,
           5
          ],
          "sizemode": "area",
          "sizeref": 0.0125,
          "symbol": "circle"
         },
         "mode": "markers",
         "name": "blue cheese",
         "showlegend": true,
         "type": "scattergl",
         "x": [
          5,
          5,
          5,
          5
         ],
         "xaxis": "x",
         "y": [
          486.6,
          482.9,
          518.4,
          488.6
         ],
         "yaxis": "y"
        },
        {
         "customdata": [
          [
           "white sugar",
           "sour cream"
          ],
          [
           "white sugar",
           "crumbles"
          ],
          [
           "white sugar",
           "grapes"
          ],
          [
           "white sugar",
           "dark rum"
          ],
          [
           "white sugar",
           "brandy"
          ],
          [
           "white sugar",
           "salt"
          ],
          [
           "white sugar",
           "eggs"
          ],
          [
           "white sugar",
           "milk"
          ],
          [
           "white sugar",
           "ice cubes"
          ],
          [
           "white sugar",
           "water"
          ],
          [
           "white sugar",
           "milk"
          ],
          [
           "white sugar",
           "buttermilk"
          ],
          [
           "white sugar",
           "salt"
          ],
          [
           "white sugar",
           "eggs"
          ],
          [
           "white sugar",
           "butter"
          ],
          [
           "white sugar",
           "olive oil"
          ],
          [
           "white sugar",
           "cilantro"
          ],
          [
           "white sugar",
           "garlic"
          ],
          [
           "white sugar",
           "pepper"
          ],
          [
           "white sugar",
           "salt"
          ],
          [
           "white sugar",
           "lime"
          ]
         ],
         "hovertemplate": "Ingredient 1=%{customdata[0]}<br>Rating=%{marker.size}<br>Score=%{y}<br>Ingredient 2=%{customdata[1]}<extra></extra>",
         "legendgroup": "white sugar",
         "marker": {
          "color": "#FF97FF",
          "size": [
           5,
           5,
           5,
           5,
           5,
           5,
           5,
           3,
           4,
           4,
           4,
           4.5,
           4.5,
           4.5,
           5,
           4.5,
           4.5,
           4.5,
           4.5,
           4.5,
           4.5
          ],
          "sizemode": "area",
          "sizeref": 0.0125,
          "symbol": "circle"
         },
         "mode": "markers",
         "name": "white sugar",
         "showlegend": true,
         "type": "scattergl",
         "x": [
          5,
          5,
          5,
          5,
          5,
          5,
          5,
          3,
          4,
          4,
          4,
          4.5,
          4.5,
          4.5,
          5,
          4.5,
          4.5,
          4.5,
          4.5,
          4.5,
          4.5
         ],
         "xaxis": "x",
         "y": [
          510.1,
          482.8,
          497.9,
          506.7,
          516.7,
          489.8,
          511.2,
          319.4,
          401.5,
          382.3,
          412.6,
          448.1,
          436.4,
          463,
          517.4,
          440.4,
          452.5,
          469.4,
          437.1,
          457.8,
          435.3
         ],
         "yaxis": "y"
        },
        {
         "customdata": [
          [
           "crumbles",
           "grapes"
          ]
         ],
         "hovertemplate": "Ingredient 1=%{customdata[0]}<br>Rating=%{marker.size}<br>Score=%{y}<br>Ingredient 2=%{customdata[1]}<extra></extra>",
         "legendgroup": "crumbles",
         "marker": {
          "color": "#FECB52",
          "size": [
           5
          ],
          "sizemode": "area",
          "sizeref": 0.0125,
          "symbol": "circle"
         },
         "mode": "markers",
         "name": "crumbles",
         "showlegend": true,
         "type": "scattergl",
         "x": [
          5
         ],
         "xaxis": "x",
         "y": [
          488
         ],
         "yaxis": "y"
        },
        {
         "customdata": [
          [
           "clove garlic",
           "olive oil"
          ],
          [
           "clove garlic",
           "shallots"
          ],
          [
           "clove garlic",
           "baguette"
          ],
          [
           "clove garlic",
           "butter"
          ],
          [
           "clove garlic",
           "cheese"
          ],
          [
           "clove garlic",
           "thyme"
          ],
          [
           "clove garlic",
           "baguette"
          ],
          [
           "clove garlic",
           "parsley"
          ],
          [
           "clove garlic",
           "herbs"
          ],
          [
           "clove garlic",
           "red"
          ],
          [
           "clove garlic",
           "white onion"
          ],
          [
           "clove garlic",
           "cilantro"
          ],
          [
           "clove garlic",
           "avocado"
          ],
          [
           "clove garlic",
           "lime"
          ],
          [
           "clove garlic",
           "adobo sauce"
          ],
          [
           "clove garlic",
           "olive oil"
          ],
          [
           "clove garlic",
           "onion"
          ]
         ],
         "hovertemplate": "Ingredient 1=%{customdata[0]}<br>Rating=%{marker.size}<br>Score=%{y}<br>Ingredient 2=%{customdata[1]}<extra></extra>",
         "legendgroup": "clove garlic",
         "marker": {
          "color": "#636efa",
          "size": [
           4.3,
           4.3,
           4.3,
           4.3,
           4.3,
           4.3,
           3.6,
           3.6,
           3.6,
           3.6,
           5,
           5,
           5,
           5,
           5,
           5,
           5
          ],
          "sizemode": "area",
          "sizeref": 0.0125,
          "symbol": "circle"
         },
         "mode": "markers",
         "name": "clove garlic",
         "showlegend": true,
         "type": "scattergl",
         "x": [
          4.3,
          4.3,
          4.3,
          4.3,
          4.3,
          4.3,
          3.6,
          3.6,
          3.6,
          3.6,
          5,
          5,
          5,
          5,
          5,
          5,
          5
         ],
         "xaxis": "x",
         "y": [
          426.6,
          432.4,
          422.4,
          425.2,
          419.6,
          434.7,
          346.5,
          366.6,
          365.6,
          355.3,
          504.7,
          484.4,
          519.9,
          495.5,
          517.4,
          499.6,
          514.7
         ],
         "yaxis": "y"
        },
        {
         "customdata": [
          [
           "olive oil",
           "shallots"
          ],
          [
           "olive oil",
           "baguette"
          ],
          [
           "olive oil",
           "butter"
          ],
          [
           "olive oil",
           "cheese"
          ],
          [
           "olive oil",
           "thyme"
          ],
          [
           "olive oil",
           "cucumber"
          ],
          [
           "olive oil",
           "tomatoes"
          ],
          [
           "olive oil",
           "carrots"
          ],
          [
           "olive oil",
           "avocado"
          ],
          [
           "olive oil",
           "onion"
          ],
          [
           "olive oil",
           "salt"
          ],
          [
           "olive oil",
           "walnuts"
          ],
          [
           "olive oil",
           "onion"
          ],
          [
           "olive oil",
           "sauce"
          ],
          [
           "olive oil",
           "soy sauce"
          ],
          [
           "olive oil",
           "mushrooms"
          ],
          [
           "olive oil",
           "mustard"
          ],
          [
           "olive oil",
           "cremini"
          ],
          [
           "olive oil",
           "butter"
          ],
          [
           "olive oil",
           "onion"
          ],
          [
           "olive oil",
           "salt"
          ],
          [
           "olive oil",
           "water"
          ],
          [
           "olive oil",
           "cilantro"
          ],
          [
           "olive oil",
           "garlic"
          ],
          [
           "olive oil",
           "pepper"
          ],
          [
           "olive oil",
           "salt"
          ],
          [
           "olive oil",
           "lime"
          ],
          [
           "olive oil",
           "onion"
          ]
         ],
         "hovertemplate": "Ingredient 1=%{customdata[0]}<br>Rating=%{marker.size}<br>Score=%{y}<br>Ingredient 2=%{customdata[1]}<extra></extra>",
         "legendgroup": "olive oil",
         "marker": {
          "color": "#EF553B",
          "size": [
           4.3,
           4.3,
           4.3,
           4.3,
           4.3,
           5,
           5,
           5,
           5,
           5,
           5,
           5,
           5,
           5,
           4.5,
           4.5,
           4.5,
           4.5,
           4.5,
           4.5,
           4.5,
           4.6,
           4.5,
           4.5,
           4.5,
           4.5,
           4.5,
           5
          ],
          "sizemode": "area",
          "sizeref": 0.0125,
          "symbol": "circle"
         },
         "mode": "markers",
         "name": "olive oil",
         "showlegend": true,
         "type": "scattergl",
         "x": [
          4.3,
          4.3,
          4.3,
          4.3,
          4.3,
          5,
          5,
          5,
          5,
          5,
          5,
          5,
          5,
          5,
          4.5,
          4.5,
          4.5,
          4.5,
          4.5,
          4.5,
          4.5,
          4.6,
          4.5,
          4.5,
          4.5,
          4.5,
          4.5,
          5
         ],
         "xaxis": "x",
         "y": [
          416.2,
          443.9,
          447.7,
          429.1,
          414.6,
          509.3,
          507.9,
          510,
          510.2,
          500.6,
          513.4,
          488.4,
          484.4,
          483.3,
          465,
          462,
          451,
          467.1,
          434.2,
          459.9,
          432,
          502.79999999999995,
          435.9,
          447.7,
          459,
          466.2,
          461.6,
          510.1
         ],
         "yaxis": "y"
        },
        {
         "customdata": [
          [
           "shallots",
           "baguette"
          ],
          [
           "shallots",
           "butter"
          ],
          [
           "shallots",
           "cheese"
          ],
          [
           "shallots",
           "thyme"
          ]
         ],
         "hovertemplate": "Ingredient 1=%{customdata[0]}<br>Rating=%{marker.size}<br>Score=%{y}<br>Ingredient 2=%{customdata[1]}<extra></extra>",
         "legendgroup": "shallots",
         "marker": {
          "color": "#00cc96",
          "size": [
           4.3,
           4.3,
           4.3,
           4.3
          ],
          "sizemode": "area",
          "sizeref": 0.0125,
          "symbol": "circle"
         },
         "mode": "markers",
         "name": "shallots",
         "showlegend": true,
         "type": "scattergl",
         "x": [
          4.3,
          4.3,
          4.3,
          4.3
         ],
         "xaxis": "x",
         "y": [
          433.9,
          441.6,
          438.8,
          432.4
         ],
         "yaxis": "y"
        },
        {
         "customdata": [
          [
           "baguette",
           "butter"
          ],
          [
           "baguette",
           "cheese"
          ],
          [
           "baguette",
           "thyme"
          ],
          [
           "baguette",
           "parsley"
          ],
          [
           "baguette",
           "herbs"
          ],
          [
           "baguette",
           "red"
          ],
          [
           "baguette",
           "walnuts"
          ],
          [
           "baguette",
           "honey"
          ]
         ],
         "hovertemplate": "Ingredient 1=%{customdata[0]}<br>Rating=%{marker.size}<br>Score=%{y}<br>Ingredient 2=%{customdata[1]}<extra></extra>",
         "legendgroup": "baguette",
         "marker": {
          "color": "#ab63fa",
          "size": [
           4.3,
           4.3,
           4.3,
           3.6,
           3.6,
           3.6,
           5,
           5
          ],
          "sizemode": "area",
          "sizeref": 0.0125,
          "symbol": "circle"
         },
         "mode": "markers",
         "name": "baguette",
         "showlegend": true,
         "type": "scattergl",
         "x": [
          4.3,
          4.3,
          4.3,
          3.6,
          3.6,
          3.6,
          5,
          5
         ],
         "xaxis": "x",
         "y": [
          427.4,
          446.3,
          415.8,
          366,
          344.1,
          354.6,
          518.8,
          493.7
         ],
         "yaxis": "y"
        },
        {
         "customdata": [
          [
           "butter",
           "cheese"
          ],
          [
           "butter",
           "thyme"
          ],
          [
           "butter",
           "salt"
          ],
          [
           "butter",
           "eggs"
          ],
          [
           "butter",
           "onion"
          ],
          [
           "butter",
           "salt"
          ],
          [
           "butter",
           "salt"
          ],
          [
           "butter",
           "pecans"
          ]
         ],
         "hovertemplate": "Ingredient 1=%{customdata[0]}<br>Rating=%{marker.size}<br>Score=%{y}<br>Ingredient 2=%{customdata[1]}<extra></extra>",
         "legendgroup": "butter",
         "marker": {
          "color": "#FFA15A",
          "size": [
           4.3,
           4.3,
           4,
           4,
           4.5,
           4.5,
           3.5,
           5
          ],
          "sizemode": "area",
          "sizeref": 0.0125,
          "symbol": "circle"
         },
         "mode": "markers",
         "name": "butter",
         "showlegend": true,
         "type": "scattergl",
         "x": [
          4.3,
          4.3,
          4,
          4,
          4.5,
          4.5,
          3.5,
          5
         ],
         "xaxis": "x",
         "y": [
          435.3,
          447.1,
          418.5,
          387.2,
          465,
          470.7,
          346.8,
          496.3
         ],
         "yaxis": "y"
        },
        {
         "customdata": [
          [
           "cheese",
           "thyme"
          ],
          [
           "cheese",
           "gravy"
          ],
          [
           "cheese",
           "salt"
          ],
          [
           "cheese",
           "eggs"
          ],
          [
           "cheese",
           "milk"
          ],
          [
           "cheese",
           "salt"
          ]
         ],
         "hovertemplate": "Ingredient 1=%{customdata[0]}<br>Rating=%{marker.size}<br>Score=%{y}<br>Ingredient 2=%{customdata[1]}<extra></extra>",
         "legendgroup": "cheese",
         "marker": {
          "color": "#19d3f3",
          "size": [
           4.3,
           3.9,
           3.9,
           3.9,
           3.9,
           4.8
          ],
          "sizemode": "area",
          "sizeref": 0.0125,
          "symbol": "circle"
         },
         "mode": "markers",
         "name": "cheese",
         "showlegend": true,
         "type": "scattergl",
         "x": [
          4.3,
          3.9,
          3.9,
          3.9,
          3.9,
          4.8
         ],
         "xaxis": "x",
         "y": [
          431.9,
          409.4,
          409.7,
          395.3,
          422.3,
          499.9
         ],
         "yaxis": "y"
        },
        {
         "customdata": [
          [
           "pitted black olives",
           "pitted green olives"
          ],
          [
           "pitted black olives",
           "semi-soft cheese"
          ],
          [
           "pitted black olives",
           "cream cheese"
          ],
          [
           "pitted black olives",
           "clove garlic"
          ],
          [
           "pitted black olives",
           "baguette"
          ],
          [
           "pitted black olives",
           "parsley"
          ],
          [
           "pitted black olives",
           "herbs"
          ],
          [
           "pitted black olives",
           "red"
          ]
         ],
         "hovertemplate": "Ingredient 1=%{customdata[0]}<br>Rating=%{marker.size}<br>Score=%{y}<br>Ingredient 2=%{customdata[1]}<extra></extra>",
         "legendgroup": "pitted black olives",
         "marker": {
          "color": "#FF6692",
          "size": [
           3.6,
           3.6,
           3.6,
           3.6,
           3.6,
           3.6,
           3.6,
           3.6
          ],
          "sizemode": "area",
          "sizeref": 0.0125,
          "symbol": "circle"
         },
         "mode": "markers",
         "name": "pitted black olives",
         "showlegend": true,
         "type": "scattergl",
         "x": [
          3.6,
          3.6,
          3.6,
          3.6,
          3.6,
          3.6,
          3.6,
          3.6
         ],
         "xaxis": "x",
         "y": [
          360.9,
          351.1,
          351.6,
          373.8,
          361.3,
          374.1,
          375.5,
          349.8
         ],
         "yaxis": "y"
        },
        {
         "customdata": [
          [
           "pitted green olives",
           "semi-soft cheese"
          ],
          [
           "pitted green olives",
           "cream cheese"
          ],
          [
           "pitted green olives",
           "clove garlic"
          ],
          [
           "pitted green olives",
           "baguette"
          ],
          [
           "pitted green olives",
           "parsley"
          ],
          [
           "pitted green olives",
           "herbs"
          ],
          [
           "pitted green olives",
           "red"
          ]
         ],
         "hovertemplate": "Ingredient 1=%{customdata[0]}<br>Rating=%{marker.size}<br>Score=%{y}<br>Ingredient 2=%{customdata[1]}<extra></extra>",
         "legendgroup": "pitted green olives",
         "marker": {
          "color": "#B6E880",
          "size": [
           3.6,
           3.6,
           3.6,
           3.6,
           3.6,
           3.6,
           3.6
          ],
          "sizemode": "area",
          "sizeref": 0.0125,
          "symbol": "circle"
         },
         "mode": "markers",
         "name": "pitted green olives",
         "showlegend": true,
         "type": "scattergl",
         "x": [
          3.6,
          3.6,
          3.6,
          3.6,
          3.6,
          3.6,
          3.6
         ],
         "xaxis": "x",
         "y": [
          344.3,
          367.3,
          361.6,
          378.7,
          344.1,
          376.4,
          375
         ],
         "yaxis": "y"
        },
        {
         "customdata": [
          [
           "semi-soft cheese",
           "cream cheese"
          ],
          [
           "semi-soft cheese",
           "clove garlic"
          ],
          [
           "semi-soft cheese",
           "baguette"
          ],
          [
           "semi-soft cheese",
           "parsley"
          ],
          [
           "semi-soft cheese",
           "herbs"
          ],
          [
           "semi-soft cheese",
           "red"
          ]
         ],
         "hovertemplate": "Ingredient 1=%{customdata[0]}<br>Rating=%{marker.size}<br>Score=%{y}<br>Ingredient 2=%{customdata[1]}<extra></extra>",
         "legendgroup": "semi-soft cheese",
         "marker": {
          "color": "#FF97FF",
          "size": [
           3.6,
           3.6,
           3.6,
           3.6,
           3.6,
           3.6
          ],
          "sizemode": "area",
          "sizeref": 0.0125,
          "symbol": "circle"
         },
         "mode": "markers",
         "name": "semi-soft cheese",
         "showlegend": true,
         "type": "scattergl",
         "x": [
          3.6,
          3.6,
          3.6,
          3.6,
          3.6,
          3.6
         ],
         "xaxis": "x",
         "y": [
          382.6,
          356.5,
          365.2,
          343.3,
          378.9,
          362.6
         ],
         "yaxis": "y"
        },
        {
         "customdata": [
          [
           "cream cheese",
           "clove garlic"
          ],
          [
           "cream cheese",
           "baguette"
          ],
          [
           "cream cheese",
           "parsley"
          ],
          [
           "cream cheese",
           "herbs"
          ],
          [
           "cream cheese",
           "red"
          ],
          [
           "cream cheese",
           "brown sugar"
          ],
          [
           "cream cheese",
           "white sugar"
          ],
          [
           "cream cheese",
           "butter"
          ]
         ],
         "hovertemplate": "Ingredient 1=%{customdata[0]}<br>Rating=%{marker.size}<br>Score=%{y}<br>Ingredient 2=%{customdata[1]}<extra></extra>",
         "legendgroup": "cream cheese",
         "marker": {
          "color": "#FECB52",
          "size": [
           3.6,
           3.6,
           3.6,
           3.6,
           3.6,
           5,
           5,
           5
          ],
          "sizemode": "area",
          "sizeref": 0.0125,
          "symbol": "circle"
         },
         "mode": "markers",
         "name": "cream cheese",
         "showlegend": true,
         "type": "scattergl",
         "x": [
          3.6,
          3.6,
          3.6,
          3.6,
          3.6,
          5,
          5,
          5
         ],
         "xaxis": "x",
         "y": [
          360.2,
          355.1,
          359.7,
          382.5,
          366.4,
          504.6,
          483.3,
          494.4
         ],
         "yaxis": "y"
        },
        {
         "customdata": [
          [
           "parsley",
           "herbs"
          ],
          [
           "parsley",
           "red"
          ],
          [
           "parsley",
           "paprika"
          ],
          [
           "parsley",
           "chives"
          ]
         ],
         "hovertemplate": "Ingredient 1=%{customdata[0]}<br>Rating=%{marker.size}<br>Score=%{y}<br>Ingredient 2=%{customdata[1]}<extra></extra>",
         "legendgroup": "parsley",
         "marker": {
          "color": "#636efa",
          "size": [
           3.6,
           3.6,
           4.5,
           4.5
          ],
          "sizemode": "area",
          "sizeref": 0.0125,
          "symbol": "circle"
         },
         "mode": "markers",
         "name": "parsley",
         "showlegend": true,
         "type": "scattergl",
         "x": [
          3.6,
          3.6,
          4.5,
          4.5
         ],
         "xaxis": "x",
         "y": [
          381.1,
          370.4,
          495.7,
          506
         ],
         "yaxis": "y"
        },
        {
         "customdata": [
          [
           "herbs",
           "red"
          ]
         ],
         "hovertemplate": "Ingredient 1=%{customdata[0]}<br>Rating=%{marker.size}<br>Score=%{y}<br>Ingredient 2=%{customdata[1]}<extra></extra>",
         "legendgroup": "herbs",
         "marker": {
          "color": "#EF553B",
          "size": [
           3.6
          ],
          "sizemode": "area",
          "sizeref": 0.0125,
          "symbol": "circle"
         },
         "mode": "markers",
         "name": "herbs",
         "showlegend": true,
         "type": "scattergl",
         "x": [
          3.6
         ],
         "xaxis": "x",
         "y": [
          357.2
         ],
         "yaxis": "y"
        },
        {
         "customdata": [
          [
           "goat cheese",
           "rosemary"
          ],
          [
           "goat cheese",
           "baguette"
          ],
          [
           "goat cheese",
           "walnuts"
          ],
          [
           "goat cheese",
           "honey"
          ]
         ],
         "hovertemplate": "Ingredient 1=%{customdata[0]}<br>Rating=%{marker.size}<br>Score=%{y}<br>Ingredient 2=%{customdata[1]}<extra></extra>",
         "legendgroup": "goat cheese",
         "marker": {
          "color": "#00cc96",
          "size": [
           5,
           5,
           5,
           5
          ],
          "sizemode": "area",
          "sizeref": 0.0125,
          "symbol": "circle"
         },
         "mode": "markers",
         "name": "goat cheese",
         "showlegend": true,
         "type": "scattergl",
         "x": [
          5,
          5,
          5,
          5
         ],
         "xaxis": "x",
         "y": [
          499.8,
          508.8,
          489.7,
          516.8
         ],
         "yaxis": "y"
        },
        {
         "customdata": [
          [
           "rosemary",
           "baguette"
          ],
          [
           "rosemary",
           "walnuts"
          ],
          [
           "rosemary",
           "honey"
          ]
         ],
         "hovertemplate": "Ingredient 1=%{customdata[0]}<br>Rating=%{marker.size}<br>Score=%{y}<br>Ingredient 2=%{customdata[1]}<extra></extra>",
         "legendgroup": "rosemary",
         "marker": {
          "color": "#ab63fa",
          "size": [
           5,
           5,
           5
          ],
          "sizemode": "area",
          "sizeref": 0.0125,
          "symbol": "circle"
         },
         "mode": "markers",
         "name": "rosemary",
         "showlegend": true,
         "type": "scattergl",
         "x": [
          5,
          5,
          5
         ],
         "xaxis": "x",
         "y": [
          482.8,
          499.5,
          484.8
         ],
         "yaxis": "y"
        },
        {
         "customdata": [
          [
           "walnuts",
           "honey"
          ],
          [
           "walnuts",
           "onion"
          ],
          [
           "walnuts",
           "sauce"
          ]
         ],
         "hovertemplate": "Ingredient 1=%{customdata[0]}<br>Rating=%{marker.size}<br>Score=%{y}<br>Ingredient 2=%{customdata[1]}<extra></extra>",
         "legendgroup": "walnuts",
         "marker": {
          "color": "#FFA15A",
          "size": [
           5,
           5,
           5
          ],
          "sizemode": "area",
          "sizeref": 0.0125,
          "symbol": "circle"
         },
         "mode": "markers",
         "name": "walnuts",
         "showlegend": true,
         "type": "scattergl",
         "x": [
          5,
          5,
          5
         ],
         "xaxis": "x",
         "y": [
          507.6,
          510.4,
          507.6
         ],
         "yaxis": "y"
        },
        {
         "customdata": [
          [
           "heavy whipping cream",
           "vanilla extract"
          ],
          [
           "heavy whipping cream",
           "ground nutmeg"
          ],
          [
           "heavy whipping cream",
           "white sugar"
          ],
          [
           "heavy whipping cream",
           "dark rum"
          ],
          [
           "heavy whipping cream",
           "brandy"
          ],
          [
           "heavy whipping cream",
           "salt"
          ],
          [
           "heavy whipping cream",
           "eggs"
          ],
          [
           "heavy whipping cream",
           "ground cinnamon"
          ],
          [
           "heavy whipping cream",
           "cayenne pepper"
          ],
          [
           "heavy whipping cream",
           "chile powder"
          ],
          [
           "heavy whipping cream",
           "white sugar"
          ],
          [
           "heavy whipping cream",
           "milk"
          ],
          [
           "heavy whipping cream",
           "vanilla extract"
          ],
          [
           "heavy whipping cream",
           "ground cinnamon"
          ],
          [
           "heavy whipping cream",
           "golden raisins"
          ],
          [
           "heavy whipping cream",
           "cooking spray"
          ],
          [
           "heavy whipping cream",
           "dinner rolls"
          ],
          [
           "heavy whipping cream",
           "cream cheese"
          ],
          [
           "heavy whipping cream",
           "brown sugar"
          ],
          [
           "heavy whipping cream",
           "white sugar"
          ],
          [
           "heavy whipping cream",
           "butter"
          ],
          [
           "heavy whipping cream",
           "ground white pepper"
          ],
          [
           "heavy whipping cream",
           "all-purpose flour"
          ],
          [
           "heavy whipping cream",
           "roasted cashews"
          ],
          [
           "heavy whipping cream",
           "cooked chicken"
          ],
          [
           "heavy whipping cream",
           "baby broccoli"
          ],
          [
           "heavy whipping cream",
           "chicken broth"
          ],
          [
           "heavy whipping cream",
           "jasmine rice"
          ],
          [
           "heavy whipping cream",
           "tarragon"
          ],
          [
           "heavy whipping cream",
           "butter"
          ],
          [
           "heavy whipping cream",
           "salt"
          ]
         ],
         "hovertemplate": "Ingredient 1=%{customdata[0]}<br>Rating=%{marker.size}<br>Score=%{y}<br>Ingredient 2=%{customdata[1]}<extra></extra>",
         "legendgroup": "heavy whipping cream",
         "marker": {
          "color": "#19d3f3",
          "size": [
           5,
           5,
           5,
           5,
           5,
           5,
           5,
           3,
           3,
           3,
           3,
           3,
           5,
           5,
           5,
           5,
           5,
           5,
           5,
           5,
           5,
           3.5,
           3.5,
           3.5,
           3.5,
           3.5,
           3.5,
           3.5,
           3.5,
           3.5,
           3.5
          ],
          "sizemode": "area",
          "sizeref": 0.0125,
          "symbol": "circle"
         },
         "mode": "markers",
         "name": "heavy whipping cream",
         "showlegend": true,
         "type": "scattergl",
         "x": [
          5,
          5,
          5,
          5,
          5,
          5,
          5,
          3,
          3,
          3,
          3,
          3,
          5,
          5,
          5,
          5,
          5,
          5,
          5,
          5,
          5,
          3.5,
          3.5,
          3.5,
          3.5,
          3.5,
          3.5,
          3.5,
          3.5,
          3.5,
          3.5
         ],
         "xaxis": "x",
         "y": [
          510.2,
          497.2,
          506.1,
          488.5,
          500.4,
          482.4,
          501.3,
          297,
          295,
          314.6,
          319.6,
          298.3,
          514.5,
          520.1,
          486.4,
          512.2,
          494.2,
          485.8,
          510.8,
          513,
          503.1,
          334.5,
          348.4,
          354.7,
          342.9,
          370.4,
          360.9,
          370.2,
          362.9,
          361.8,
          368.5
         ],
         "yaxis": "y"
        },
        {
         "customdata": [
          [
           "vanilla extract",
           "ground nutmeg"
          ],
          [
           "vanilla extract",
           "white sugar"
          ],
          [
           "vanilla extract",
           "dark rum"
          ],
          [
           "vanilla extract",
           "brandy"
          ],
          [
           "vanilla extract",
           "salt"
          ],
          [
           "vanilla extract",
           "eggs"
          ],
          [
           "vanilla extract",
           "whipped cream"
          ],
          [
           "vanilla extract",
           "white sugar"
          ],
          [
           "vanilla extract",
           "ice cubes"
          ],
          [
           "vanilla extract",
           "water"
          ],
          [
           "vanilla extract",
           "milk"
          ],
          [
           "vanilla extract",
           "chocolate chips"
          ],
          [
           "vanilla extract",
           "brewed coffee"
          ],
          [
           "vanilla extract",
           "black beans"
          ],
          [
           "vanilla extract",
           "baking soda"
          ],
          [
           "vanilla extract",
           "salt"
          ],
          [
           "vanilla extract",
           "eggs"
          ],
          [
           "vanilla extract",
           "instant coffee"
          ],
          [
           "vanilla extract",
           "baking powder"
          ],
          [
           "vanilla extract",
           "agave nectar"
          ],
          [
           "vanilla extract",
           "cocoa powder"
          ],
          [
           "vanilla extract",
           "black beans"
          ],
          [
           "vanilla extract",
           "hazelnuts"
          ],
          [
           "vanilla extract",
           "butter"
          ],
          [
           "vanilla extract",
           "salt"
          ],
          [
           "vanilla extract",
           "eggs"
          ],
          [
           "vanilla extract",
           "vegetable oil"
          ],
          [
           "vanilla extract",
           "baking powder"
          ],
          [
           "vanilla extract",
           "cocoa powder"
          ],
          [
           "vanilla extract",
           "baking soda"
          ],
          [
           "vanilla extract",
           "white sugar"
          ],
          [
           "vanilla extract",
           "buttermilk"
          ],
          [
           "vanilla extract",
           "salt"
          ],
          [
           "vanilla extract",
           "eggs"
          ],
          [
           "vanilla extract",
           "ground cinnamon"
          ],
          [
           "vanilla extract",
           "golden raisins"
          ],
          [
           "vanilla extract",
           "cooking spray"
          ],
          [
           "vanilla extract",
           "dinner rolls"
          ],
          [
           "vanilla extract",
           "cream cheese"
          ],
          [
           "vanilla extract",
           "brown sugar"
          ],
          [
           "vanilla extract",
           "white sugar"
          ],
          [
           "vanilla extract",
           "butter"
          ]
         ],
         "hovertemplate": "Ingredient 1=%{customdata[0]}<br>Rating=%{marker.size}<br>Score=%{y}<br>Ingredient 2=%{customdata[1]}<extra></extra>",
         "legendgroup": "vanilla extract",
         "marker": {
          "color": "#FF6692",
          "size": [
           5,
           5,
           5,
           5,
           5,
           5,
           4,
           4,
           4,
           4,
           4,
           3.6,
           3.6,
           3.6,
           3.6,
           3.6,
           3.6,
           4,
           4,
           4,
           4,
           4,
           4,
           4,
           4,
           4,
           4.5,
           4.5,
           4.5,
           4.5,
           4.5,
           4.5,
           4.5,
           4.5,
           5,
           5,
           5,
           5,
           5,
           5,
           5,
           5
          ],
          "sizemode": "area",
          "sizeref": 0.0125,
          "symbol": "circle"
         },
         "mode": "markers",
         "name": "vanilla extract",
         "showlegend": true,
         "type": "scattergl",
         "x": [
          5,
          5,
          5,
          5,
          5,
          5,
          4,
          4,
          4,
          4,
          4,
          3.6,
          3.6,
          3.6,
          3.6,
          3.6,
          3.6,
          4,
          4,
          4,
          4,
          4,
          4,
          4,
          4,
          4,
          4.5,
          4.5,
          4.5,
          4.5,
          4.5,
          4.5,
          4.5,
          4.5,
          5,
          5,
          5,
          5,
          5,
          5,
          5,
          5
         ],
         "xaxis": "x",
         "y": [
          509.4,
          495.8,
          504.3,
          506.3,
          502,
          512.4,
          412,
          395.3,
          386.3,
          392.9,
          404.1,
          363.7,
          383.9,
          350.8,
          373.8,
          383.6,
          383,
          392.6,
          387.3,
          392,
          396.9,
          400.8,
          398,
          400.7,
          404.3,
          405.4,
          463.6,
          456.3,
          466.7,
          454,
          451.9,
          466.6,
          457.1,
          455.1,
          489.2,
          514.1,
          496.1,
          505.7,
          490.6,
          511.2,
          490.8,
          490.6
         ],
         "yaxis": "y"
        },
        {
         "customdata": [
          [
           "ground nutmeg",
           "white sugar"
          ],
          [
           "ground nutmeg",
           "dark rum"
          ],
          [
           "ground nutmeg",
           "brandy"
          ],
          [
           "ground nutmeg",
           "salt"
          ],
          [
           "ground nutmeg",
           "eggs"
          ]
         ],
         "hovertemplate": "Ingredient 1=%{customdata[0]}<br>Rating=%{marker.size}<br>Score=%{y}<br>Ingredient 2=%{customdata[1]}<extra></extra>",
         "legendgroup": "ground nutmeg",
         "marker": {
          "color": "#B6E880",
          "size": [
           5,
           5,
           5,
           5,
           5
          ],
          "sizemode": "area",
          "sizeref": 0.0125,
          "symbol": "circle"
         },
         "mode": "markers",
         "name": "ground nutmeg",
         "showlegend": true,
         "type": "scattergl",
         "x": [
          5,
          5,
          5,
          5,
          5
         ],
         "xaxis": "x",
         "y": [
          514.3,
          495.9,
          519.3,
          504.3,
          509.8
         ],
         "yaxis": "y"
        },
        {
         "customdata": [
          [
           "dark rum",
           "brandy"
          ],
          [
           "dark rum",
           "salt"
          ],
          [
           "dark rum",
           "eggs"
          ]
         ],
         "hovertemplate": "Ingredient 1=%{customdata[0]}<br>Rating=%{marker.size}<br>Score=%{y}<br>Ingredient 2=%{customdata[1]}<extra></extra>",
         "legendgroup": "dark rum",
         "marker": {
          "color": "#FF97FF",
          "size": [
           5,
           5,
           5
          ],
          "sizemode": "area",
          "sizeref": 0.0125,
          "symbol": "circle"
         },
         "mode": "markers",
         "name": "dark rum",
         "showlegend": true,
         "type": "scattergl",
         "x": [
          5,
          5,
          5
         ],
         "xaxis": "x",
         "y": [
          492.3,
          482,
          513.5
         ],
         "yaxis": "y"
        },
        {
         "customdata": [
          [
           "brandy",
           "salt"
          ],
          [
           "brandy",
           "eggs"
          ]
         ],
         "hovertemplate": "Ingredient 1=%{customdata[0]}<br>Rating=%{marker.size}<br>Score=%{y}<br>Ingredient 2=%{customdata[1]}<extra></extra>",
         "legendgroup": "brandy",
         "marker": {
          "color": "#FECB52",
          "size": [
           5,
           5
          ],
          "sizemode": "area",
          "sizeref": 0.0125,
          "symbol": "circle"
         },
         "mode": "markers",
         "name": "brandy",
         "showlegend": true,
         "type": "scattergl",
         "x": [
          5,
          5
         ],
         "xaxis": "x",
         "y": [
          505.9,
          506.5
         ],
         "yaxis": "y"
        },
        {
         "customdata": [
          [
           "salt",
           "eggs"
          ],
          [
           "salt",
           "eggs"
          ],
          [
           "salt",
           "eggs"
          ],
          [
           "salt",
           "lime"
          ],
          [
           "salt",
           "beer"
          ],
          [
           "salt",
           "eggs"
          ],
          [
           "salt",
           "lime"
          ],
          [
           "salt",
           "eggs"
          ],
          [
           "salt",
           "milk"
          ],
          [
           "salt",
           "eggs"
          ]
         ],
         "hovertemplate": "Ingredient 1=%{customdata[0]}<br>Rating=%{marker.size}<br>Score=%{y}<br>Ingredient 2=%{customdata[1]}<extra></extra>",
         "legendgroup": "salt",
         "marker": {
          "color": "#636efa",
          "size": [
           5,
           3.6,
           4,
           5,
           5,
           4.5,
           4.5,
           3.9,
           3.9,
           5
          ],
          "sizemode": "area",
          "sizeref": 0.0125,
          "symbol": "circle"
         },
         "mode": "markers",
         "name": "salt",
         "showlegend": true,
         "type": "scattergl",
         "x": [
          5,
          3.6,
          4,
          5,
          5,
          4.5,
          4.5,
          3.9,
          3.9,
          5
         ],
         "xaxis": "x",
         "y": [
          498.5,
          350.1,
          413.3,
          501.6,
          521,
          475.2,
          461.6,
          401.7,
          387.5,
          491.7
         ],
         "yaxis": "y"
        },
        {
         "customdata": [
          [
           "unsweetened cocoa powder",
           "heavy whipping cream"
          ],
          [
           "unsweetened cocoa powder",
           "ground cinnamon"
          ],
          [
           "unsweetened cocoa powder",
           "cayenne pepper"
          ],
          [
           "unsweetened cocoa powder",
           "chile powder"
          ],
          [
           "unsweetened cocoa powder",
           "white sugar"
          ],
          [
           "unsweetened cocoa powder",
           "milk"
          ],
          [
           "unsweetened cocoa powder",
           "unsweetened applesauce"
          ],
          [
           "unsweetened cocoa powder",
           "vanilla extract"
          ],
          [
           "unsweetened cocoa powder",
           "chocolate chips"
          ],
          [
           "unsweetened cocoa powder",
           "brewed coffee"
          ],
          [
           "unsweetened cocoa powder",
           "black beans"
          ],
          [
           "unsweetened cocoa powder",
           "baking soda"
          ],
          [
           "unsweetened cocoa powder",
           "salt"
          ],
          [
           "unsweetened cocoa powder",
           "eggs"
          ],
          [
           "unsweetened cocoa powder",
           "natural peanut butter"
          ],
          [
           "unsweetened cocoa powder",
           "shredded coconut"
          ],
          [
           "unsweetened cocoa powder",
           "maple syrup"
          ],
          [
           "unsweetened cocoa powder",
           "blueberries"
          ],
          [
           "unsweetened cocoa powder",
           "chia seeds"
          ]
         ],
         "hovertemplate": "Ingredient 1=%{customdata[0]}<br>Rating=%{marker.size}<br>Score=%{y}<br>Ingredient 2=%{customdata[1]}<extra></extra>",
         "legendgroup": "unsweetened cocoa powder",
         "marker": {
          "color": "#EF553B",
          "size": [
           3,
           3,
           3,
           3,
           3,
           3,
           3.6,
           3.6,
           3.6,
           3.6,
           3.6,
           3.6,
           3.6,
           3.6,
           4.5,
           4.5,
           4.5,
           4.5,
           4.5
          ],
          "sizemode": "area",
          "sizeref": 0.0125,
          "symbol": "circle"
         },
         "mode": "markers",
         "name": "unsweetened cocoa powder",
         "showlegend": true,
         "type": "scattergl",
         "x": [
          3,
          3,
          3,
          3,
          3,
          3,
          3.6,
          3.6,
          3.6,
          3.6,
          3.6,
          3.6,
          3.6,
          3.6,
          4.5,
          4.5,
          4.5,
          4.5,
          4.5
         ],
         "xaxis": "x",
         "y": [
          310.6,
          305.9,
          286.4,
          311.2,
          311.3,
          313.5,
          371.5,
          353.1,
          357.6,
          380.3,
          367.5,
          378.8,
          356.7,
          358,
          454.3,
          462.3,
          441.8,
          469.3,
          436.1
         ],
         "yaxis": "y"
        },
        {
         "customdata": [
          [
           "ground cinnamon",
           "cayenne pepper"
          ],
          [
           "ground cinnamon",
           "chile powder"
          ],
          [
           "ground cinnamon",
           "white sugar"
          ],
          [
           "ground cinnamon",
           "milk"
          ],
          [
           "ground cinnamon",
           "golden raisins"
          ],
          [
           "ground cinnamon",
           "cooking spray"
          ],
          [
           "ground cinnamon",
           "dinner rolls"
          ],
          [
           "ground cinnamon",
           "cream cheese"
          ],
          [
           "ground cinnamon",
           "brown sugar"
          ],
          [
           "ground cinnamon",
           "white sugar"
          ],
          [
           "ground cinnamon",
           "butter"
          ]
         ],
         "hovertemplate": "Ingredient 1=%{customdata[0]}<br>Rating=%{marker.size}<br>Score=%{y}<br>Ingredient 2=%{customdata[1]}<extra></extra>",
         "legendgroup": "ground cinnamon",
         "marker": {
          "color": "#00cc96",
          "size": [
           3,
           3,
           3,
           3,
           5,
           5,
           5,
           5,
           5,
           5,
           5
          ],
          "sizemode": "area",
          "sizeref": 0.0125,
          "symbol": "circle"
         },
         "mode": "markers",
         "name": "ground cinnamon",
         "showlegend": true,
         "type": "scattergl",
         "x": [
          3,
          3,
          3,
          3,
          5,
          5,
          5,
          5,
          5,
          5,
          5
         ],
         "xaxis": "x",
         "y": [
          314.9,
          288,
          298.2,
          313.9,
          493.5,
          498,
          510.8,
          496.7,
          488.4,
          509.5,
          517.6
         ],
         "yaxis": "y"
        },
        {
         "customdata": [
          [
           "cayenne pepper",
           "chile powder"
          ],
          [
           "cayenne pepper",
           "white sugar"
          ],
          [
           "cayenne pepper",
           "milk"
          ],
          [
           "cayenne pepper",
           "garlic powder"
          ],
          [
           "cayenne pepper",
           "ground cumin"
          ],
          [
           "cayenne pepper",
           "onion powder"
          ],
          [
           "cayenne pepper",
           "brown sugar"
          ],
          [
           "cayenne pepper",
           "pork ribs"
          ],
          [
           "cayenne pepper",
           "juice"
          ],
          [
           "cayenne pepper",
           "honey"
          ],
          [
           "cayenne pepper",
           "salt"
          ],
          [
           "cayenne pepper",
           "lime"
          ],
          [
           "cayenne pepper",
           "beer"
          ],
          [
           "cayenne pepper",
           "hoisin sauce"
          ],
          [
           "cayenne pepper",
           "curing salt"
          ],
          [
           "cayenne pepper",
           "brown sugar"
          ],
          [
           "cayenne pepper",
           "kosher salt"
          ],
          [
           "cayenne pepper",
           "dry sherry"
          ],
          [
           "cayenne pepper",
           "rice wine"
          ],
          [
           "cayenne pepper",
           "pork butt"
          ],
          [
           "cayenne pepper",
           "soy sauce"
          ],
          [
           "cayenne pepper",
           "ketchup"
          ],
          [
           "cayenne pepper",
           "garlic"
          ],
          [
           "cayenne pepper",
           "honey"
          ],
          [
           "cayenne pepper",
           "sake"
          ],
          [
           "cayenne pepper",
           "garlic powder"
          ],
          [
           "cayenne pepper",
           "vegetable oil"
          ],
          [
           "cayenne pepper",
           "mustard"
          ]
         ],
         "hovertemplate": "Ingredient 1=%{customdata[0]}<br>Rating=%{marker.size}<br>Score=%{y}<br>Ingredient 2=%{customdata[1]}<extra></extra>",
         "legendgroup": "cayenne pepper",
         "marker": {
          "color": "#ab63fa",
          "size": [
           3,
           3,
           3,
           5,
           5,
           5,
           5,
           5,
           5,
           5,
           5,
           5,
           5,
           4.7,
           4.7,
           4.7,
           4.7,
           4.7,
           4.7,
           4.7,
           4.7,
           4.7,
           4.7,
           4.7,
           4.7,
           4.5,
           4.5,
           4.5
          ],
          "sizemode": "area",
          "sizeref": 0.0125,
          "symbol": "circle"
         },
         "mode": "markers",
         "name": "cayenne pepper",
         "showlegend": true,
         "type": "scattergl",
         "x": [
          3,
          3,
          3,
          5,
          5,
          5,
          5,
          5,
          5,
          5,
          5,
          5,
          5,
          4.7,
          4.7,
          4.7,
          4.7,
          4.7,
          4.7,
          4.7,
          4.7,
          4.7,
          4.7,
          4.7,
          4.7,
          4.5,
          4.5,
          4.5
         ],
         "xaxis": "x",
         "y": [
          313.9,
          283.3,
          312.7,
          520.7,
          512.2,
          504.7,
          503.2,
          506.8,
          497.3,
          512.7,
          486.4,
          488.4,
          500.1,
          556,
          567.3,
          566.7,
          565.7,
          590.4,
          560.5,
          557.6,
          580.8,
          589,
          559.9,
          586.7,
          581,
          434.3,
          452.7,
          446.8
         ],
         "yaxis": "y"
        },
        {
         "customdata": [
          [
           "chile powder",
           "white sugar"
          ],
          [
           "chile powder",
           "milk"
          ],
          [
           "chile powder",
           "brown sugar"
          ],
          [
           "chile powder",
           "cooked rice"
          ],
          [
           "chile powder",
           "olive oil"
          ],
          [
           "chile powder",
           "walnuts"
          ],
          [
           "chile powder",
           "onion"
          ],
          [
           "chile powder",
           "sauce"
          ]
         ],
         "hovertemplate": "Ingredient 1=%{customdata[0]}<br>Rating=%{marker.size}<br>Score=%{y}<br>Ingredient 2=%{customdata[1]}<extra></extra>",
         "legendgroup": "chile powder",
         "marker": {
          "color": "#FFA15A",
          "size": [
           3,
           3,
           5,
           5,
           5,
           5,
           5,
           5
          ],
          "sizemode": "area",
          "sizeref": 0.0125,
          "symbol": "circle"
         },
         "mode": "markers",
         "name": "chile powder",
         "showlegend": true,
         "type": "scattergl",
         "x": [
          3,
          3,
          5,
          5,
          5,
          5,
          5,
          5
         ],
         "xaxis": "x",
         "y": [
          292.3,
          312.7,
          509.1,
          518.6,
          510.3,
          502.6,
          507.7,
          519.5
         ],
         "yaxis": "y"
        },
        {
         "customdata": [
          [
           "lemon juice",
           "white sugar"
          ],
          [
           "lemon juice",
           "olive oil"
          ],
          [
           "lemon juice",
           "cucumber"
          ],
          [
           "lemon juice",
           "tomatoes"
          ],
          [
           "lemon juice",
           "carrots"
          ],
          [
           "lemon juice",
           "avocado"
          ],
          [
           "lemon juice",
           "onion"
          ],
          [
           "lemon juice",
           "salt"
          ]
         ],
         "hovertemplate": "Ingredient 1=%{customdata[0]}<br>Rating=%{marker.size}<br>Score=%{y}<br>Ingredient 2=%{customdata[1]}<extra></extra>",
         "legendgroup": "lemon juice",
         "marker": {
          "color": "#19d3f3",
          "size": [
           4.6,
           5,
           5,
           5,
           5,
           5,
           5,
           5
          ],
          "sizemode": "area",
          "sizeref": 0.0125,
          "symbol": "circle"
         },
         "mode": "markers",
         "name": "lemon juice",
         "showlegend": true,
         "type": "scattergl",
         "x": [
          4.6,
          5,
          5,
          5,
          5,
          5,
          5,
          5
         ],
         "xaxis": "x",
         "y": [
          465.8999999999999,
          518.8,
          488.6,
          513.3,
          508.8,
          517.4,
          482.1,
          518.6
         ],
         "yaxis": "y"
        },
        {
         "customdata": [
          [
           "peanut butter",
           "cooking spray"
          ],
          [
           "peanut butter",
           "rolled oats"
          ],
          [
           "peanut butter",
           "egg whites"
          ]
         ],
         "hovertemplate": "Ingredient 1=%{customdata[0]}<br>Rating=%{marker.size}<br>Score=%{y}<br>Ingredient 2=%{customdata[1]}<extra></extra>",
         "legendgroup": "peanut butter",
         "marker": {
          "color": "#FF6692",
          "size": [
           5,
           5,
           5
          ],
          "sizemode": "area",
          "sizeref": 0.0125,
          "symbol": "circle"
         },
         "mode": "markers",
         "name": "peanut butter",
         "showlegend": true,
         "type": "scattergl",
         "x": [
          5,
          5,
          5
         ],
         "xaxis": "x",
         "y": [
          501.5,
          499.5,
          505.1
         ],
         "yaxis": "y"
        },
        {
         "customdata": [
          [
           "cooking spray",
           "rolled oats"
          ],
          [
           "cooking spray",
           "egg whites"
          ],
          [
           "cooking spray",
           "dinner rolls"
          ],
          [
           "cooking spray",
           "cream cheese"
          ],
          [
           "cooking spray",
           "brown sugar"
          ],
          [
           "cooking spray",
           "white sugar"
          ],
          [
           "cooking spray",
           "butter"
          ],
          [
           "cooking spray",
           "cheese"
          ],
          [
           "cooking spray",
           "gravy"
          ],
          [
           "cooking spray",
           "salt"
          ],
          [
           "cooking spray",
           "eggs"
          ],
          [
           "cooking spray",
           "milk"
          ]
         ],
         "hovertemplate": "Ingredient 1=%{customdata[0]}<br>Rating=%{marker.size}<br>Score=%{y}<br>Ingredient 2=%{customdata[1]}<extra></extra>",
         "legendgroup": "cooking spray",
         "marker": {
          "color": "#B6E880",
          "size": [
           5,
           5,
           5,
           5,
           5,
           5,
           5,
           3.9,
           3.9,
           3.9,
           3.9,
           3.9
          ],
          "sizemode": "area",
          "sizeref": 0.0125,
          "symbol": "circle"
         },
         "mode": "markers",
         "name": "cooking spray",
         "showlegend": true,
         "type": "scattergl",
         "x": [
          5,
          5,
          5,
          5,
          5,
          5,
          5,
          3.9,
          3.9,
          3.9,
          3.9,
          3.9
         ],
         "xaxis": "x",
         "y": [
          498.8,
          518,
          493.9,
          490.2,
          488.7,
          516.2,
          501.2,
          422.7,
          422.1,
          412,
          394.6,
          417.2
         ],
         "yaxis": "y"
        },
        {
         "customdata": [
          [
           "rolled oats",
           "egg whites"
          ]
         ],
         "hovertemplate": "Ingredient 1=%{customdata[0]}<br>Rating=%{marker.size}<br>Score=%{y}<br>Ingredient 2=%{customdata[1]}<extra></extra>",
         "legendgroup": "rolled oats",
         "marker": {
          "color": "#FF97FF",
          "size": [
           5
          ],
          "sizemode": "area",
          "sizeref": 0.0125,
          "symbol": "circle"
         },
         "mode": "markers",
         "name": "rolled oats",
         "showlegend": true,
         "type": "scattergl",
         "x": [
          5
         ],
         "xaxis": "x",
         "y": [
          511
         ],
         "yaxis": "y"
        },
        {
         "customdata": [
          [
           "frozen orange juice concentrate",
           "vanilla ice cream"
          ],
          [
           "frozen orange juice concentrate",
           "vanilla extract"
          ],
          [
           "frozen orange juice concentrate",
           "whipped cream"
          ],
          [
           "frozen orange juice concentrate",
           "white sugar"
          ],
          [
           "frozen orange juice concentrate",
           "ice cubes"
          ],
          [
           "frozen orange juice concentrate",
           "water"
          ],
          [
           "frozen orange juice concentrate",
           "milk"
          ]
         ],
         "hovertemplate": "Ingredient 1=%{customdata[0]}<br>Rating=%{marker.size}<br>Score=%{y}<br>Ingredient 2=%{customdata[1]}<extra></extra>",
         "legendgroup": "frozen orange juice concentrate",
         "marker": {
          "color": "#FECB52",
          "size": [
           4,
           4,
           4,
           4,
           4,
           4,
           4
          ],
          "sizemode": "area",
          "sizeref": 0.0125,
          "symbol": "circle"
         },
         "mode": "markers",
         "name": "frozen orange juice concentrate",
         "showlegend": true,
         "type": "scattergl",
         "x": [
          4,
          4,
          4,
          4,
          4,
          4,
          4
         ],
         "xaxis": "x",
         "y": [
          384.1,
          410.6,
          384.6,
          399,
          401.4,
          397.1,
          405.7
         ],
         "yaxis": "y"
        },
        {
         "customdata": [
          [
           "vanilla ice cream",
           "vanilla extract"
          ],
          [
           "vanilla ice cream",
           "whipped cream"
          ],
          [
           "vanilla ice cream",
           "white sugar"
          ],
          [
           "vanilla ice cream",
           "ice cubes"
          ],
          [
           "vanilla ice cream",
           "water"
          ],
          [
           "vanilla ice cream",
           "milk"
          ]
         ],
         "hovertemplate": "Ingredient 1=%{customdata[0]}<br>Rating=%{marker.size}<br>Score=%{y}<br>Ingredient 2=%{customdata[1]}<extra></extra>",
         "legendgroup": "vanilla ice cream",
         "marker": {
          "color": "#636efa",
          "size": [
           4,
           4,
           4,
           4,
           4,
           4
          ],
          "sizemode": "area",
          "sizeref": 0.0125,
          "symbol": "circle"
         },
         "mode": "markers",
         "name": "vanilla ice cream",
         "showlegend": true,
         "type": "scattergl",
         "x": [
          4,
          4,
          4,
          4,
          4,
          4
         ],
         "xaxis": "x",
         "y": [
          403.4,
          385.5,
          420.2,
          384.4,
          419.9,
          415.7
         ],
         "yaxis": "y"
        },
        {
         "customdata": [
          [
           "whipped cream",
           "white sugar"
          ],
          [
           "whipped cream",
           "ice cubes"
          ],
          [
           "whipped cream",
           "water"
          ],
          [
           "whipped cream",
           "milk"
          ]
         ],
         "hovertemplate": "Ingredient 1=%{customdata[0]}<br>Rating=%{marker.size}<br>Score=%{y}<br>Ingredient 2=%{customdata[1]}<extra></extra>",
         "legendgroup": "whipped cream",
         "marker": {
          "color": "#EF553B",
          "size": [
           4,
           4,
           4,
           4
          ],
          "sizemode": "area",
          "sizeref": 0.0125,
          "symbol": "circle"
         },
         "mode": "markers",
         "name": "whipped cream",
         "showlegend": true,
         "type": "scattergl",
         "x": [
          4,
          4,
          4,
          4
         ],
         "xaxis": "x",
         "y": [
          399,
          420.9,
          416.5,
          415.3
         ],
         "yaxis": "y"
        },
        {
         "customdata": [
          [
           "ice cubes",
           "water"
          ],
          [
           "ice cubes",
           "milk"
          ]
         ],
         "hovertemplate": "Ingredient 1=%{customdata[0]}<br>Rating=%{marker.size}<br>Score=%{y}<br>Ingredient 2=%{customdata[1]}<extra></extra>",
         "legendgroup": "ice cubes",
         "marker": {
          "color": "#00cc96",
          "size": [
           4,
           4
          ],
          "sizemode": "area",
          "sizeref": 0.0125,
          "symbol": "circle"
         },
         "mode": "markers",
         "name": "ice cubes",
         "showlegend": true,
         "type": "scattergl",
         "x": [
          4,
          4
         ],
         "xaxis": "x",
         "y": [
          386.3,
          397.6
         ],
         "yaxis": "y"
        },
        {
         "customdata": [
          [
           "water",
           "milk"
          ]
         ],
         "hovertemplate": "Ingredient 1=%{customdata[0]}<br>Rating=%{marker.size}<br>Score=%{y}<br>Ingredient 2=%{customdata[1]}<extra></extra>",
         "legendgroup": "water",
         "marker": {
          "color": "#ab63fa",
          "size": [
           4
          ],
          "sizemode": "area",
          "sizeref": 0.0125,
          "symbol": "circle"
         },
         "mode": "markers",
         "name": "water",
         "showlegend": true,
         "type": "scattergl",
         "x": [
          4
         ],
         "xaxis": "x",
         "y": [
          409.8
         ],
         "yaxis": "y"
        },
        {
         "customdata": [
          [
           "minced garlic",
           "almond flour"
          ],
          [
           "minced garlic",
           "coconut oil"
          ],
          [
           "minced garlic",
           "seasoning"
          ],
          [
           "minced garlic",
           "zucchini"
          ],
          [
           "minced garlic",
           "onion"
          ],
          [
           "minced garlic",
           "bacon"
          ],
          [
           "minced garlic",
           "salt"
          ]
         ],
         "hovertemplate": "Ingredient 1=%{customdata[0]}<br>Rating=%{marker.size}<br>Score=%{y}<br>Ingredient 2=%{customdata[1]}<extra></extra>",
         "legendgroup": "minced garlic",
         "marker": {
          "color": "#FFA15A",
          "size": [
           4.7,
           4.7,
           4.7,
           4.7,
           4.7,
           4.7,
           4.7
          ],
          "sizemode": "area",
          "sizeref": 0.0125,
          "symbol": "circle"
         },
         "mode": "markers",
         "name": "minced garlic",
         "showlegend": true,
         "type": "scattergl",
         "x": [
          4.7,
          4.7,
          4.7,
          4.7,
          4.7,
          4.7,
          4.7
         ],
         "xaxis": "x",
         "y": [
          484.7,
          487.1,
          469.8,
          467.7,
          472.3,
          468.6,
          472
         ],
         "yaxis": "y"
        },
        {
         "customdata": [
          [
           "almond flour",
           "coconut oil"
          ],
          [
           "almond flour",
           "seasoning"
          ],
          [
           "almond flour",
           "zucchini"
          ],
          [
           "almond flour",
           "onion"
          ],
          [
           "almond flour",
           "bacon"
          ],
          [
           "almond flour",
           "salt"
          ]
         ],
         "hovertemplate": "Ingredient 1=%{customdata[0]}<br>Rating=%{marker.size}<br>Score=%{y}<br>Ingredient 2=%{customdata[1]}<extra></extra>",
         "legendgroup": "almond flour",
         "marker": {
          "color": "#19d3f3",
          "size": [
           4.7,
           4.7,
           4.7,
           4.7,
           4.7,
           4.7
          ],
          "sizemode": "area",
          "sizeref": 0.0125,
          "symbol": "circle"
         },
         "mode": "markers",
         "name": "almond flour",
         "showlegend": true,
         "type": "scattergl",
         "x": [
          4.7,
          4.7,
          4.7,
          4.7,
          4.7,
          4.7
         ],
         "xaxis": "x",
         "y": [
          470.1,
          483.5,
          482.9,
          466.4,
          467.9,
          461.2
         ],
         "yaxis": "y"
        },
        {
         "customdata": [
          [
           "coconut oil",
           "seasoning"
          ],
          [
           "coconut oil",
           "zucchini"
          ],
          [
           "coconut oil",
           "onion"
          ],
          [
           "coconut oil",
           "bacon"
          ],
          [
           "coconut oil",
           "salt"
          ]
         ],
         "hovertemplate": "Ingredient 1=%{customdata[0]}<br>Rating=%{marker.size}<br>Score=%{y}<br>Ingredient 2=%{customdata[1]}<extra></extra>",
         "legendgroup": "coconut oil",
         "marker": {
          "color": "#FF6692",
          "size": [
           4.7,
           4.7,
           4.7,
           4.7,
           4.7
          ],
          "sizemode": "area",
          "sizeref": 0.0125,
          "symbol": "circle"
         },
         "mode": "markers",
         "name": "coconut oil",
         "showlegend": true,
         "type": "scattergl",
         "x": [
          4.7,
          4.7,
          4.7,
          4.7,
          4.7
         ],
         "xaxis": "x",
         "y": [
          471.3,
          464.1,
          493.2,
          467.2,
          467.4
         ],
         "yaxis": "y"
        },
        {
         "customdata": [
          [
           "seasoning",
           "zucchini"
          ],
          [
           "seasoning",
           "onion"
          ],
          [
           "seasoning",
           "bacon"
          ],
          [
           "seasoning",
           "salt"
          ]
         ],
         "hovertemplate": "Ingredient 1=%{customdata[0]}<br>Rating=%{marker.size}<br>Score=%{y}<br>Ingredient 2=%{customdata[1]}<extra></extra>",
         "legendgroup": "seasoning",
         "marker": {
          "color": "#B6E880",
          "size": [
           4.7,
           4.7,
           4.7,
           4.7
          ],
          "sizemode": "area",
          "sizeref": 0.0125,
          "symbol": "circle"
         },
         "mode": "markers",
         "name": "seasoning",
         "showlegend": true,
         "type": "scattergl",
         "x": [
          4.7,
          4.7,
          4.7,
          4.7
         ],
         "xaxis": "x",
         "y": [
          472.5,
          460.8,
          482.4,
          482.1
         ],
         "yaxis": "y"
        },
        {
         "customdata": [
          [
           "zucchini",
           "onion"
          ],
          [
           "zucchini",
           "bacon"
          ],
          [
           "zucchini",
           "salt"
          ]
         ],
         "hovertemplate": "Ingredient 1=%{customdata[0]}<br>Rating=%{marker.size}<br>Score=%{y}<br>Ingredient 2=%{customdata[1]}<extra></extra>",
         "legendgroup": "zucchini",
         "marker": {
          "color": "#FF97FF",
          "size": [
           4.7,
           4.7,
           4.7
          ],
          "sizemode": "area",
          "sizeref": 0.0125,
          "symbol": "circle"
         },
         "mode": "markers",
         "name": "zucchini",
         "showlegend": true,
         "type": "scattergl",
         "x": [
          4.7,
          4.7,
          4.7
         ],
         "xaxis": "x",
         "y": [
          474,
          472.8,
          481
         ],
         "yaxis": "y"
        },
        {
         "customdata": [
          [
           "bacon",
           "salt"
          ]
         ],
         "hovertemplate": "Ingredient 1=%{customdata[0]}<br>Rating=%{marker.size}<br>Score=%{y}<br>Ingredient 2=%{customdata[1]}<extra></extra>",
         "legendgroup": "bacon",
         "marker": {
          "color": "#FECB52",
          "size": [
           4.7
          ],
          "sizemode": "area",
          "sizeref": 0.0125,
          "symbol": "circle"
         },
         "mode": "markers",
         "name": "bacon",
         "showlegend": true,
         "type": "scattergl",
         "x": [
          4.7
         ],
         "xaxis": "x",
         "y": [
          491.8
         ],
         "yaxis": "y"
        },
        {
         "customdata": [
          [
           "green bell pepper",
           "oyster mushrooms"
          ],
          [
           "green bell pepper",
           "lemon juice"
          ],
          [
           "green bell pepper",
           "olive oil"
          ],
          [
           "green bell pepper",
           "cucumber"
          ],
          [
           "green bell pepper",
           "tomatoes"
          ],
          [
           "green bell pepper",
           "carrots"
          ],
          [
           "green bell pepper",
           "avocado"
          ],
          [
           "green bell pepper",
           "onion"
          ],
          [
           "green bell pepper",
           "salt"
          ],
          [
           "green bell pepper",
           "mushrooms"
          ],
          [
           "green bell pepper",
           "onion"
          ],
          [
           "green bell pepper",
           "salt"
          ],
          [
           "green bell pepper",
           "eggs"
          ]
         ],
         "hovertemplate": "Ingredient 1=%{customdata[0]}<br>Rating=%{marker.size}<br>Score=%{y}<br>Ingredient 2=%{customdata[1]}<extra></extra>",
         "legendgroup": "green bell pepper",
         "marker": {
          "color": "#636efa",
          "size": [
           5,
           5,
           5,
           5,
           5,
           5,
           5,
           5,
           5,
           5,
           5,
           5,
           5
          ],
          "sizemode": "area",
          "sizeref": 0.0125,
          "symbol": "circle"
         },
         "mode": "markers",
         "name": "green bell pepper",
         "showlegend": true,
         "type": "scattergl",
         "x": [
          5,
          5,
          5,
          5,
          5,
          5,
          5,
          5,
          5,
          5,
          5,
          5,
          5
         ],
         "xaxis": "x",
         "y": [
          496.4,
          495.1,
          484.2,
          499.1,
          489.1,
          504.8,
          493.9,
          485.6,
          512.2,
          502.5,
          522.5,
          496.3,
          519.1
         ],
         "yaxis": "y"
        },
        {
         "customdata": [
          [
           "oyster mushrooms",
           "lemon juice"
          ],
          [
           "oyster mushrooms",
           "olive oil"
          ],
          [
           "oyster mushrooms",
           "cucumber"
          ],
          [
           "oyster mushrooms",
           "tomatoes"
          ],
          [
           "oyster mushrooms",
           "carrots"
          ],
          [
           "oyster mushrooms",
           "avocado"
          ],
          [
           "oyster mushrooms",
           "onion"
          ],
          [
           "oyster mushrooms",
           "salt"
          ]
         ],
         "hovertemplate": "Ingredient 1=%{customdata[0]}<br>Rating=%{marker.size}<br>Score=%{y}<br>Ingredient 2=%{customdata[1]}<extra></extra>",
         "legendgroup": "oyster mushrooms",
         "marker": {
          "color": "#EF553B",
          "size": [
           5,
           5,
           5,
           5,
           5,
           5,
           5,
           5
          ],
          "sizemode": "area",
          "sizeref": 0.0125,
          "symbol": "circle"
         },
         "mode": "markers",
         "name": "oyster mushrooms",
         "showlegend": true,
         "type": "scattergl",
         "x": [
          5,
          5,
          5,
          5,
          5,
          5,
          5,
          5
         ],
         "xaxis": "x",
         "y": [
          488.2,
          518.1,
          481,
          505.8,
          515,
          491.7,
          484.3,
          493.3
         ],
         "yaxis": "y"
        },
        {
         "customdata": [
          [
           "cucumber",
           "tomatoes"
          ],
          [
           "cucumber",
           "carrots"
          ],
          [
           "cucumber",
           "avocado"
          ],
          [
           "cucumber",
           "onion"
          ],
          [
           "cucumber",
           "salt"
          ]
         ],
         "hovertemplate": "Ingredient 1=%{customdata[0]}<br>Rating=%{marker.size}<br>Score=%{y}<br>Ingredient 2=%{customdata[1]}<extra></extra>",
         "legendgroup": "cucumber",
         "marker": {
          "color": "#00cc96",
          "size": [
           5,
           5,
           5,
           5,
           5
          ],
          "sizemode": "area",
          "sizeref": 0.0125,
          "symbol": "circle"
         },
         "mode": "markers",
         "name": "cucumber",
         "showlegend": true,
         "type": "scattergl",
         "x": [
          5,
          5,
          5,
          5,
          5
         ],
         "xaxis": "x",
         "y": [
          481.4,
          507.1,
          486.9,
          501.6,
          498.6
         ],
         "yaxis": "y"
        },
        {
         "customdata": [
          [
           "tomatoes",
           "carrots"
          ],
          [
           "tomatoes",
           "avocado"
          ],
          [
           "tomatoes",
           "onion"
          ],
          [
           "tomatoes",
           "salt"
          ]
         ],
         "hovertemplate": "Ingredient 1=%{customdata[0]}<br>Rating=%{marker.size}<br>Score=%{y}<br>Ingredient 2=%{customdata[1]}<extra></extra>",
         "legendgroup": "tomatoes",
         "marker": {
          "color": "#ab63fa",
          "size": [
           5,
           5,
           5,
           5
          ],
          "sizemode": "area",
          "sizeref": 0.0125,
          "symbol": "circle"
         },
         "mode": "markers",
         "name": "tomatoes",
         "showlegend": true,
         "type": "scattergl",
         "x": [
          5,
          5,
          5,
          5
         ],
         "xaxis": "x",
         "y": [
          484.6,
          495.8,
          488.3,
          514.3
         ],
         "yaxis": "y"
        },
        {
         "customdata": [
          [
           "carrots",
           "avocado"
          ],
          [
           "carrots",
           "onion"
          ],
          [
           "carrots",
           "salt"
          ]
         ],
         "hovertemplate": "Ingredient 1=%{customdata[0]}<br>Rating=%{marker.size}<br>Score=%{y}<br>Ingredient 2=%{customdata[1]}<extra></extra>",
         "legendgroup": "carrots",
         "marker": {
          "color": "#FFA15A",
          "size": [
           5,
           5,
           5
          ],
          "sizemode": "area",
          "sizeref": 0.0125,
          "symbol": "circle"
         },
         "mode": "markers",
         "name": "carrots",
         "showlegend": true,
         "type": "scattergl",
         "x": [
          5,
          5,
          5
         ],
         "xaxis": "x",
         "y": [
          509.8,
          514.6,
          498.4
         ],
         "yaxis": "y"
        },
        {
         "customdata": [
          [
           "avocado",
           "onion"
          ],
          [
           "avocado",
           "salt"
          ],
          [
           "avocado",
           "water"
          ],
          [
           "avocado",
           "lime"
          ]
         ],
         "hovertemplate": "Ingredient 1=%{customdata[0]}<br>Rating=%{marker.size}<br>Score=%{y}<br>Ingredient 2=%{customdata[1]}<extra></extra>",
         "legendgroup": "avocado",
         "marker": {
          "color": "#19d3f3",
          "size": [
           5,
           5,
           4.6,
           5
          ],
          "sizemode": "area",
          "sizeref": 0.0125,
          "symbol": "circle"
         },
         "mode": "markers",
         "name": "avocado",
         "showlegend": true,
         "type": "scattergl",
         "x": [
          5,
          5,
          4.6,
          5
         ],
         "xaxis": "x",
         "y": [
          503.6,
          499.3,
          474.3999999999999,
          521.2
         ],
         "yaxis": "y"
        },
        {
         "customdata": [
          [
           "extra-virgin olive oil",
           "seedless red grapes"
          ],
          [
           "extra-virgin olive oil",
           "red wine vinegar"
          ],
          [
           "extra-virgin olive oil",
           "flank steak"
          ],
          [
           "extra-virgin olive oil",
           "kosher salt"
          ],
          [
           "extra-virgin olive oil",
           "watercress"
          ],
          [
           "extra-virgin olive oil",
           "mustard"
          ],
          [
           "extra-virgin olive oil",
           "cheese"
          ]
         ],
         "hovertemplate": "Ingredient 1=%{customdata[0]}<br>Rating=%{marker.size}<br>Score=%{y}<br>Ingredient 2=%{customdata[1]}<extra></extra>",
         "legendgroup": "extra-virgin olive oil",
         "marker": {
          "color": "#FF6692",
          "size": [
           5,
           5,
           5,
           5,
           5,
           5,
           5
          ],
          "sizemode": "area",
          "sizeref": 0.0125,
          "symbol": "circle"
         },
         "mode": "markers",
         "name": "extra-virgin olive oil",
         "showlegend": true,
         "type": "scattergl",
         "x": [
          5,
          5,
          5,
          5,
          5,
          5,
          5
         ],
         "xaxis": "x",
         "y": [
          503.1,
          494.7,
          499.9,
          521.5,
          490.8,
          498.2,
          514.7
         ],
         "yaxis": "y"
        },
        {
         "customdata": [
          [
           "seedless red grapes",
           "red wine vinegar"
          ],
          [
           "seedless red grapes",
           "flank steak"
          ],
          [
           "seedless red grapes",
           "kosher salt"
          ],
          [
           "seedless red grapes",
           "watercress"
          ],
          [
           "seedless red grapes",
           "mustard"
          ],
          [
           "seedless red grapes",
           "cheese"
          ]
         ],
         "hovertemplate": "Ingredient 1=%{customdata[0]}<br>Rating=%{marker.size}<br>Score=%{y}<br>Ingredient 2=%{customdata[1]}<extra></extra>",
         "legendgroup": "seedless red grapes",
         "marker": {
          "color": "#B6E880",
          "size": [
           5,
           5,
           5,
           5,
           5,
           5
          ],
          "sizemode": "area",
          "sizeref": 0.0125,
          "symbol": "circle"
         },
         "mode": "markers",
         "name": "seedless red grapes",
         "showlegend": true,
         "type": "scattergl",
         "x": [
          5,
          5,
          5,
          5,
          5,
          5
         ],
         "xaxis": "x",
         "y": [
          488.3,
          511.7,
          486.7,
          518.2,
          520.4,
          511.4
         ],
         "yaxis": "y"
        },
        {
         "customdata": [
          [
           "red wine vinegar",
           "flank steak"
          ],
          [
           "red wine vinegar",
           "kosher salt"
          ],
          [
           "red wine vinegar",
           "watercress"
          ],
          [
           "red wine vinegar",
           "mustard"
          ],
          [
           "red wine vinegar",
           "cheese"
          ]
         ],
         "hovertemplate": "Ingredient 1=%{customdata[0]}<br>Rating=%{marker.size}<br>Score=%{y}<br>Ingredient 2=%{customdata[1]}<extra></extra>",
         "legendgroup": "red wine vinegar",
         "marker": {
          "color": "#FF97FF",
          "size": [
           5,
           5,
           5,
           5,
           5
          ],
          "sizemode": "area",
          "sizeref": 0.0125,
          "symbol": "circle"
         },
         "mode": "markers",
         "name": "red wine vinegar",
         "showlegend": true,
         "type": "scattergl",
         "x": [
          5,
          5,
          5,
          5,
          5
         ],
         "xaxis": "x",
         "y": [
          494.9,
          482.9,
          493.6,
          520.9,
          483.3
         ],
         "yaxis": "y"
        },
        {
         "customdata": [
          [
           "flank steak",
           "kosher salt"
          ],
          [
           "flank steak",
           "watercress"
          ],
          [
           "flank steak",
           "mustard"
          ],
          [
           "flank steak",
           "cheese"
          ]
         ],
         "hovertemplate": "Ingredient 1=%{customdata[0]}<br>Rating=%{marker.size}<br>Score=%{y}<br>Ingredient 2=%{customdata[1]}<extra></extra>",
         "legendgroup": "flank steak",
         "marker": {
          "color": "#FECB52",
          "size": [
           5,
           5,
           5,
           5
          ],
          "sizemode": "area",
          "sizeref": 0.0125,
          "symbol": "circle"
         },
         "mode": "markers",
         "name": "flank steak",
         "showlegend": true,
         "type": "scattergl",
         "x": [
          5,
          5,
          5,
          5
         ],
         "xaxis": "x",
         "y": [
          509.5,
          504.4,
          484,
          503.2
         ],
         "yaxis": "y"
        },
        {
         "customdata": [
          [
           "kosher salt",
           "watercress"
          ],
          [
           "kosher salt",
           "mustard"
          ],
          [
           "kosher salt",
           "cheese"
          ],
          [
           "kosher salt",
           "boiled eggs"
          ],
          [
           "kosher salt",
           "sweet onion"
          ],
          [
           "kosher salt",
           "cold water"
          ],
          [
           "kosher salt",
           "garnish"
          ],
          [
           "kosher salt",
           "parsley"
          ],
          [
           "kosher salt",
           "paprika"
          ],
          [
           "kosher salt",
           "chives"
          ],
          [
           "kosher salt",
           "dry sherry"
          ],
          [
           "kosher salt",
           "rice wine"
          ],
          [
           "kosher salt",
           "pork butt"
          ],
          [
           "kosher salt",
           "soy sauce"
          ],
          [
           "kosher salt",
           "ketchup"
          ],
          [
           "kosher salt",
           "garlic"
          ],
          [
           "kosher salt",
           "honey"
          ],
          [
           "kosher salt",
           "sake"
          ],
          [
           "kosher salt",
           "annatto"
          ],
          [
           "kosher salt",
           "achiote"
          ],
          [
           "kosher salt",
           "garlic"
          ],
          [
           "kosher salt",
           "quinoa"
          ],
          [
           "kosher salt",
           "onion"
          ]
         ],
         "hovertemplate": "Ingredient 1=%{customdata[0]}<br>Rating=%{marker.size}<br>Score=%{y}<br>Ingredient 2=%{customdata[1]}<extra></extra>",
         "legendgroup": "kosher salt",
         "marker": {
          "color": "#636efa",
          "size": [
           5,
           5,
           5,
           4.5,
           4.5,
           4.5,
           4.5,
           4.5,
           4.5,
           4.5,
           4.7,
           4.7,
           4.7,
           4.7,
           4.7,
           4.7,
           4.7,
           4.7,
           4,
           4,
           4,
           4,
           4
          ],
          "sizemode": "area",
          "sizeref": 0.0125,
          "symbol": "circle"
         },
         "mode": "markers",
         "name": "kosher salt",
         "showlegend": true,
         "type": "scattergl",
         "x": [
          5,
          5,
          5,
          4.5,
          4.5,
          4.5,
          4.5,
          4.5,
          4.5,
          4.5,
          4.7,
          4.7,
          4.7,
          4.7,
          4.7,
          4.7,
          4.7,
          4.7,
          4,
          4,
          4,
          4,
          4
         ],
         "xaxis": "x",
         "y": [
          508.7,
          506.2,
          519.2,
          501.8,
          515.4,
          498.8,
          515.4,
          520.5,
          523.6,
          513,
          575.7,
          573.9,
          586.1,
          575.2,
          573.3,
          590.5,
          565.6,
          570.1,
          410.6,
          399.4,
          396.4,
          404.1,
          415
         ],
         "yaxis": "y"
        },
        {
         "customdata": [
          [
           "watercress",
           "mustard"
          ],
          [
           "watercress",
           "cheese"
          ]
         ],
         "hovertemplate": "Ingredient 1=%{customdata[0]}<br>Rating=%{marker.size}<br>Score=%{y}<br>Ingredient 2=%{customdata[1]}<extra></extra>",
         "legendgroup": "watercress",
         "marker": {
          "color": "#EF553B",
          "size": [
           5,
           5
          ],
          "sizemode": "area",
          "sizeref": 0.0125,
          "symbol": "circle"
         },
         "mode": "markers",
         "name": "watercress",
         "showlegend": true,
         "type": "scattergl",
         "x": [
          5,
          5
         ],
         "xaxis": "x",
         "y": [
          506,
          508.1
         ],
         "yaxis": "y"
        },
        {
         "customdata": [
          [
           "mustard",
           "cheese"
          ],
          [
           "mustard",
           "cremini"
          ],
          [
           "mustard",
           "butter"
          ],
          [
           "mustard",
           "onion"
          ],
          [
           "mustard",
           "salt"
          ]
         ],
         "hovertemplate": "Ingredient 1=%{customdata[0]}<br>Rating=%{marker.size}<br>Score=%{y}<br>Ingredient 2=%{customdata[1]}<extra></extra>",
         "legendgroup": "mustard",
         "marker": {
          "color": "#00cc96",
          "size": [
           5,
           4.5,
           4.5,
           4.5,
           4.5
          ],
          "sizemode": "area",
          "sizeref": 0.0125,
          "symbol": "circle"
         },
         "mode": "markers",
         "name": "mustard",
         "showlegend": true,
         "type": "scattergl",
         "x": [
          5,
          4.5,
          4.5,
          4.5,
          4.5
         ],
         "xaxis": "x",
         "y": [
          507.4,
          458.7,
          471.8,
          443.7,
          466.5
         ],
         "yaxis": "y"
        },
        {
         "customdata": [
          [
           "canned black beans",
           "cornflake crumbs"
          ],
          [
           "canned black beans",
           "ground paprika"
          ],
          [
           "canned black beans",
           "ground cumin"
          ],
          [
           "canned black beans",
           "chile powder"
          ],
          [
           "canned black beans",
           "brown sugar"
          ],
          [
           "canned black beans",
           "cooked rice"
          ],
          [
           "canned black beans",
           "olive oil"
          ],
          [
           "canned black beans",
           "walnuts"
          ],
          [
           "canned black beans",
           "onion"
          ],
          [
           "canned black beans",
           "sauce"
          ]
         ],
         "hovertemplate": "Ingredient 1=%{customdata[0]}<br>Rating=%{marker.size}<br>Score=%{y}<br>Ingredient 2=%{customdata[1]}<extra></extra>",
         "legendgroup": "canned black beans",
         "marker": {
          "color": "#ab63fa",
          "size": [
           5,
           5,
           5,
           5,
           5,
           5,
           5,
           5,
           5,
           5
          ],
          "sizemode": "area",
          "sizeref": 0.0125,
          "symbol": "circle"
         },
         "mode": "markers",
         "name": "canned black beans",
         "showlegend": true,
         "type": "scattergl",
         "x": [
          5,
          5,
          5,
          5,
          5,
          5,
          5,
          5,
          5,
          5
         ],
         "xaxis": "x",
         "y": [
          501.1,
          487.7,
          500.6,
          520.4,
          513.5,
          519.7,
          503.2,
          516.7,
          501.6,
          505.5
         ],
         "yaxis": "y"
        },
        {
         "customdata": [
          [
           "cornflake crumbs",
           "ground paprika"
          ],
          [
           "cornflake crumbs",
           "ground cumin"
          ],
          [
           "cornflake crumbs",
           "chile powder"
          ],
          [
           "cornflake crumbs",
           "brown sugar"
          ],
          [
           "cornflake crumbs",
           "cooked rice"
          ],
          [
           "cornflake crumbs",
           "olive oil"
          ],
          [
           "cornflake crumbs",
           "walnuts"
          ],
          [
           "cornflake crumbs",
           "onion"
          ],
          [
           "cornflake crumbs",
           "sauce"
          ]
         ],
         "hovertemplate": "Ingredient 1=%{customdata[0]}<br>Rating=%{marker.size}<br>Score=%{y}<br>Ingredient 2=%{customdata[1]}<extra></extra>",
         "legendgroup": "cornflake crumbs",
         "marker": {
          "color": "#FFA15A",
          "size": [
           5,
           5,
           5,
           5,
           5,
           5,
           5,
           5,
           5
          ],
          "sizemode": "area",
          "sizeref": 0.0125,
          "symbol": "circle"
         },
         "mode": "markers",
         "name": "cornflake crumbs",
         "showlegend": true,
         "type": "scattergl",
         "x": [
          5,
          5,
          5,
          5,
          5,
          5,
          5,
          5,
          5
         ],
         "xaxis": "x",
         "y": [
          511.4,
          483.7,
          488.7,
          512.4,
          485.4,
          516.8,
          498.6,
          492.1,
          504.2
         ],
         "yaxis": "y"
        },
        {
         "customdata": [
          [
           "ground paprika",
           "ground cumin"
          ],
          [
           "ground paprika",
           "chile powder"
          ],
          [
           "ground paprika",
           "brown sugar"
          ],
          [
           "ground paprika",
           "cooked rice"
          ],
          [
           "ground paprika",
           "olive oil"
          ],
          [
           "ground paprika",
           "walnuts"
          ],
          [
           "ground paprika",
           "onion"
          ],
          [
           "ground paprika",
           "sauce"
          ]
         ],
         "hovertemplate": "Ingredient 1=%{customdata[0]}<br>Rating=%{marker.size}<br>Score=%{y}<br>Ingredient 2=%{customdata[1]}<extra></extra>",
         "legendgroup": "ground paprika",
         "marker": {
          "color": "#19d3f3",
          "size": [
           5,
           5,
           5,
           5,
           5,
           5,
           5,
           5
          ],
          "sizemode": "area",
          "sizeref": 0.0125,
          "symbol": "circle"
         },
         "mode": "markers",
         "name": "ground paprika",
         "showlegend": true,
         "type": "scattergl",
         "x": [
          5,
          5,
          5,
          5,
          5,
          5,
          5,
          5
         ],
         "xaxis": "x",
         "y": [
          490.5,
          495.7,
          497,
          491.6,
          492.6,
          495.1,
          486.1,
          515.1
         ],
         "yaxis": "y"
        },
        {
         "customdata": [
          [
           "ground cumin",
           "chile powder"
          ],
          [
           "ground cumin",
           "brown sugar"
          ],
          [
           "ground cumin",
           "cooked rice"
          ],
          [
           "ground cumin",
           "olive oil"
          ],
          [
           "ground cumin",
           "walnuts"
          ],
          [
           "ground cumin",
           "onion"
          ],
          [
           "ground cumin",
           "sauce"
          ],
          [
           "ground cumin",
           "onion powder"
          ],
          [
           "ground cumin",
           "brown sugar"
          ],
          [
           "ground cumin",
           "pork ribs"
          ],
          [
           "ground cumin",
           "juice"
          ],
          [
           "ground cumin",
           "honey"
          ],
          [
           "ground cumin",
           "salt"
          ],
          [
           "ground cumin",
           "lime"
          ],
          [
           "ground cumin",
           "beer"
          ],
          [
           "ground cumin",
           "chile pepper"
          ],
          [
           "ground cumin",
           "kosher salt"
          ],
          [
           "ground cumin",
           "annatto"
          ],
          [
           "ground cumin",
           "achiote"
          ],
          [
           "ground cumin",
           "garlic"
          ],
          [
           "ground cumin",
           "quinoa"
          ],
          [
           "ground cumin",
           "onion"
          ],
          [
           "ground cumin",
           "clove garlic"
          ],
          [
           "ground cumin",
           "white onion"
          ],
          [
           "ground cumin",
           "cilantro"
          ],
          [
           "ground cumin",
           "avocado"
          ],
          [
           "ground cumin",
           "lime"
          ]
         ],
         "hovertemplate": "Ingredient 1=%{customdata[0]}<br>Rating=%{marker.size}<br>Score=%{y}<br>Ingredient 2=%{customdata[1]}<extra></extra>",
         "legendgroup": "ground cumin",
         "marker": {
          "color": "#FF6692",
          "size": [
           5,
           5,
           5,
           5,
           5,
           5,
           5,
           5,
           5,
           5,
           5,
           5,
           5,
           5,
           5,
           4,
           4,
           4,
           4,
           4,
           4,
           4,
           5,
           5,
           5,
           5,
           5
          ],
          "sizemode": "area",
          "sizeref": 0.0125,
          "symbol": "circle"
         },
         "mode": "markers",
         "name": "ground cumin",
         "showlegend": true,
         "type": "scattergl",
         "x": [
          5,
          5,
          5,
          5,
          5,
          5,
          5,
          5,
          5,
          5,
          5,
          5,
          5,
          5,
          5,
          4,
          4,
          4,
          4,
          4,
          4,
          4,
          5,
          5,
          5,
          5,
          5
         ],
         "xaxis": "x",
         "y": [
          518.4,
          504.4,
          492.3,
          507.9,
          502.2,
          514.1,
          502.3,
          488.3,
          488.9,
          508.6,
          516.8,
          505.2,
          488.5,
          516.5,
          505.2,
          391.8,
          383,
          410.9,
          394.4,
          403.5,
          419.9,
          414.1,
          490.2,
          500.2,
          496.8,
          502.7,
          487.5
         ],
         "yaxis": "y"
        },
        {
         "customdata": [
          [
           "brown sugar",
           "cooked rice"
          ],
          [
           "brown sugar",
           "olive oil"
          ],
          [
           "brown sugar",
           "walnuts"
          ],
          [
           "brown sugar",
           "onion"
          ],
          [
           "brown sugar",
           "sauce"
          ],
          [
           "brown sugar",
           "pork ribs"
          ],
          [
           "brown sugar",
           "juice"
          ],
          [
           "brown sugar",
           "honey"
          ],
          [
           "brown sugar",
           "salt"
          ],
          [
           "brown sugar",
           "lime"
          ],
          [
           "brown sugar",
           "beer"
          ],
          [
           "brown sugar",
           "kosher salt"
          ],
          [
           "brown sugar",
           "dry sherry"
          ],
          [
           "brown sugar",
           "rice wine"
          ],
          [
           "brown sugar",
           "pork butt"
          ],
          [
           "brown sugar",
           "soy sauce"
          ],
          [
           "brown sugar",
           "ketchup"
          ],
          [
           "brown sugar",
           "garlic"
          ],
          [
           "brown sugar",
           "honey"
          ],
          [
           "brown sugar",
           "sake"
          ],
          [
           "brown sugar",
           "white sugar"
          ],
          [
           "brown sugar",
           "butter"
          ]
         ],
         "hovertemplate": "Ingredient 1=%{customdata[0]}<br>Rating=%{marker.size}<br>Score=%{y}<br>Ingredient 2=%{customdata[1]}<extra></extra>",
         "legendgroup": "brown sugar",
         "marker": {
          "color": "#B6E880",
          "size": [
           5,
           5,
           5,
           5,
           5,
           5,
           5,
           5,
           5,
           5,
           5,
           4.7,
           4.7,
           4.7,
           4.7,
           4.7,
           4.7,
           4.7,
           4.7,
           4.7,
           5,
           5
          ],
          "sizemode": "area",
          "sizeref": 0.0125,
          "symbol": "circle"
         },
         "mode": "markers",
         "name": "brown sugar",
         "showlegend": true,
         "type": "scattergl",
         "x": [
          5,
          5,
          5,
          5,
          5,
          5,
          5,
          5,
          5,
          5,
          5,
          4.7,
          4.7,
          4.7,
          4.7,
          4.7,
          4.7,
          4.7,
          4.7,
          4.7,
          5,
          5
         ],
         "xaxis": "x",
         "y": [
          492.5,
          505.5,
          492.8,
          512.8,
          507.4,
          511.1,
          491.5,
          484.8,
          485.2,
          499.7,
          500.2,
          569.3,
          567.2,
          561.1,
          581.7,
          581.8,
          591.8,
          590.9,
          560.8,
          578.7,
          516.2,
          520.5
         ],
         "yaxis": "y"
        },
        {
         "customdata": [
          [
           "cooked rice",
           "olive oil"
          ],
          [
           "cooked rice",
           "walnuts"
          ],
          [
           "cooked rice",
           "onion"
          ],
          [
           "cooked rice",
           "sauce"
          ]
         ],
         "hovertemplate": "Ingredient 1=%{customdata[0]}<br>Rating=%{marker.size}<br>Score=%{y}<br>Ingredient 2=%{customdata[1]}<extra></extra>",
         "legendgroup": "cooked rice",
         "marker": {
          "color": "#FF97FF",
          "size": [
           5,
           5,
           5,
           5
          ],
          "sizemode": "area",
          "sizeref": 0.0125,
          "symbol": "circle"
         },
         "mode": "markers",
         "name": "cooked rice",
         "showlegend": true,
         "type": "scattergl",
         "x": [
          5,
          5,
          5,
          5
         ],
         "xaxis": "x",
         "y": [
          511.3,
          510.5,
          501,
          519.2
         ],
         "yaxis": "y"
        },
        {
         "customdata": [
          [
           "salad dressing",
           "chicken wings"
          ],
          [
           "salad dressing",
           "lemon pepper"
          ],
          [
           "salad dressing",
           "cheese"
          ]
         ],
         "hovertemplate": "Ingredient 1=%{customdata[0]}<br>Rating=%{marker.size}<br>Score=%{y}<br>Ingredient 2=%{customdata[1]}<extra></extra>",
         "legendgroup": "salad dressing",
         "marker": {
          "color": "#FECB52",
          "size": [
           4.6,
           4.6,
           4.6
          ],
          "sizemode": "area",
          "sizeref": 0.0125,
          "symbol": "circle"
         },
         "mode": "markers",
         "name": "salad dressing",
         "showlegend": true,
         "type": "scattergl",
         "x": [
          4.6,
          4.6,
          4.6
         ],
         "xaxis": "x",
         "y": [
          448.19999999999993,
          448.3999999999999,
          448.09999999999997
         ],
         "yaxis": "y"
        },
        {
         "customdata": [
          [
           "chicken wings",
           "lemon pepper"
          ],
          [
           "chicken wings",
           "cheese"
          ]
         ],
         "hovertemplate": "Ingredient 1=%{customdata[0]}<br>Rating=%{marker.size}<br>Score=%{y}<br>Ingredient 2=%{customdata[1]}<extra></extra>",
         "legendgroup": "chicken wings",
         "marker": {
          "color": "#636efa",
          "size": [
           4.6,
           4.6
          ],
          "sizemode": "area",
          "sizeref": 0.0125,
          "symbol": "circle"
         },
         "mode": "markers",
         "name": "chicken wings",
         "showlegend": true,
         "type": "scattergl",
         "x": [
          4.6,
          4.6
         ],
         "xaxis": "x",
         "y": [
          448.09999999999997,
          455.59999999999997
         ],
         "yaxis": "y"
        },
        {
         "customdata": [
          [
           "lemon pepper",
           "cheese"
          ]
         ],
         "hovertemplate": "Ingredient 1=%{customdata[0]}<br>Rating=%{marker.size}<br>Score=%{y}<br>Ingredient 2=%{customdata[1]}<extra></extra>",
         "legendgroup": "lemon pepper",
         "marker": {
          "color": "#EF553B",
          "size": [
           4.6
          ],
          "sizemode": "area",
          "sizeref": 0.0125,
          "symbol": "circle"
         },
         "mode": "markers",
         "name": "lemon pepper",
         "showlegend": true,
         "type": "scattergl",
         "x": [
          4.6
         ],
         "xaxis": "x",
         "y": [
          446.79999999999995
         ],
         "yaxis": "y"
        },
        {
         "customdata": [
          [
           "unsweetened applesauce",
           "vanilla extract"
          ],
          [
           "unsweetened applesauce",
           "chocolate chips"
          ],
          [
           "unsweetened applesauce",
           "brewed coffee"
          ],
          [
           "unsweetened applesauce",
           "black beans"
          ],
          [
           "unsweetened applesauce",
           "baking soda"
          ],
          [
           "unsweetened applesauce",
           "salt"
          ],
          [
           "unsweetened applesauce",
           "eggs"
          ]
         ],
         "hovertemplate": "Ingredient 1=%{customdata[0]}<br>Rating=%{marker.size}<br>Score=%{y}<br>Ingredient 2=%{customdata[1]}<extra></extra>",
         "legendgroup": "unsweetened applesauce",
         "marker": {
          "color": "#00cc96",
          "size": [
           3.6,
           3.6,
           3.6,
           3.6,
           3.6,
           3.6,
           3.6
          ],
          "sizemode": "area",
          "sizeref": 0.0125,
          "symbol": "circle"
         },
         "mode": "markers",
         "name": "unsweetened applesauce",
         "showlegend": true,
         "type": "scattergl",
         "x": [
          3.6,
          3.6,
          3.6,
          3.6,
          3.6,
          3.6,
          3.6
         ],
         "xaxis": "x",
         "y": [
          369.5,
          356.4,
          365,
          370.7,
          347,
          362.9,
          358.2
         ],
         "yaxis": "y"
        },
        {
         "customdata": [
          [
           "chocolate chips",
           "brewed coffee"
          ],
          [
           "chocolate chips",
           "black beans"
          ],
          [
           "chocolate chips",
           "baking soda"
          ],
          [
           "chocolate chips",
           "salt"
          ],
          [
           "chocolate chips",
           "eggs"
          ]
         ],
         "hovertemplate": "Ingredient 1=%{customdata[0]}<br>Rating=%{marker.size}<br>Score=%{y}<br>Ingredient 2=%{customdata[1]}<extra></extra>",
         "legendgroup": "chocolate chips",
         "marker": {
          "color": "#ab63fa",
          "size": [
           3.6,
           3.6,
           3.6,
           3.6,
           3.6
          ],
          "sizemode": "area",
          "sizeref": 0.0125,
          "symbol": "circle"
         },
         "mode": "markers",
         "name": "chocolate chips",
         "showlegend": true,
         "type": "scattergl",
         "x": [
          3.6,
          3.6,
          3.6,
          3.6,
          3.6
         ],
         "xaxis": "x",
         "y": [
          384.1,
          377.5,
          374.5,
          376.6,
          382.4
         ],
         "yaxis": "y"
        },
        {
         "customdata": [
          [
           "brewed coffee",
           "black beans"
          ],
          [
           "brewed coffee",
           "baking soda"
          ],
          [
           "brewed coffee",
           "salt"
          ],
          [
           "brewed coffee",
           "eggs"
          ]
         ],
         "hovertemplate": "Ingredient 1=%{customdata[0]}<br>Rating=%{marker.size}<br>Score=%{y}<br>Ingredient 2=%{customdata[1]}<extra></extra>",
         "legendgroup": "brewed coffee",
         "marker": {
          "color": "#FFA15A",
          "size": [
           3.6,
           3.6,
           3.6,
           3.6
          ],
          "sizemode": "area",
          "sizeref": 0.0125,
          "symbol": "circle"
         },
         "mode": "markers",
         "name": "brewed coffee",
         "showlegend": true,
         "type": "scattergl",
         "x": [
          3.6,
          3.6,
          3.6,
          3.6
         ],
         "xaxis": "x",
         "y": [
          350.9,
          378.2,
          377.5,
          358.3
         ],
         "yaxis": "y"
        },
        {
         "customdata": [
          [
           "black beans",
           "baking soda"
          ],
          [
           "black beans",
           "salt"
          ],
          [
           "black beans",
           "eggs"
          ],
          [
           "black beans",
           "hazelnuts"
          ],
          [
           "black beans",
           "butter"
          ],
          [
           "black beans",
           "salt"
          ],
          [
           "black beans",
           "eggs"
          ],
          [
           "black beans",
           "sour cream"
          ],
          [
           "black beans",
           "cilantro"
          ],
          [
           "black beans",
           "salsa"
          ],
          [
           "black beans",
           "eggs"
          ],
          [
           "black beans",
           "lime"
          ]
         ],
         "hovertemplate": "Ingredient 1=%{customdata[0]}<br>Rating=%{marker.size}<br>Score=%{y}<br>Ingredient 2=%{customdata[1]}<extra></extra>",
         "legendgroup": "black beans",
         "marker": {
          "color": "#19d3f3",
          "size": [
           3.6,
           3.6,
           3.6,
           4,
           4,
           4,
           4,
           4.5,
           4.5,
           4.5,
           4.5,
           4.5
          ],
          "sizemode": "area",
          "sizeref": 0.0125,
          "symbol": "circle"
         },
         "mode": "markers",
         "name": "black beans",
         "showlegend": true,
         "type": "scattergl",
         "x": [
          3.6,
          3.6,
          3.6,
          4,
          4,
          4,
          4,
          4.5,
          4.5,
          4.5,
          4.5,
          4.5
         ],
         "xaxis": "x",
         "y": [
          384.6,
          370,
          350.5,
          400.2,
          407.3,
          412.9,
          383,
          461.4,
          440.7,
          461.2,
          472.7,
          471.7
         ],
         "yaxis": "y"
        },
        {
         "customdata": [
          [
           "baking soda",
           "salt"
          ],
          [
           "baking soda",
           "eggs"
          ],
          [
           "baking soda",
           "white sugar"
          ],
          [
           "baking soda",
           "buttermilk"
          ],
          [
           "baking soda",
           "salt"
          ],
          [
           "baking soda",
           "eggs"
          ]
         ],
         "hovertemplate": "Ingredient 1=%{customdata[0]}<br>Rating=%{marker.size}<br>Score=%{y}<br>Ingredient 2=%{customdata[1]}<extra></extra>",
         "legendgroup": "baking soda",
         "marker": {
          "color": "#FF6692",
          "size": [
           3.6,
           3.6,
           4.5,
           4.5,
           4.5,
           4.5
          ],
          "sizemode": "area",
          "sizeref": 0.0125,
          "symbol": "circle"
         },
         "mode": "markers",
         "name": "baking soda",
         "showlegend": true,
         "type": "scattergl",
         "x": [
          3.6,
          3.6,
          4.5,
          4.5,
          4.5,
          4.5
         ],
         "xaxis": "x",
         "y": [
          375.4,
          374.3,
          447.9,
          462.6,
          447.4,
          472.6
         ],
         "yaxis": "y"
        },
        {
         "customdata": [
          [
           "coffee granules",
           "vanilla extract"
          ],
          [
           "coffee granules",
           "instant coffee"
          ],
          [
           "coffee granules",
           "baking powder"
          ],
          [
           "coffee granules",
           "agave nectar"
          ],
          [
           "coffee granules",
           "cocoa powder"
          ],
          [
           "coffee granules",
           "black beans"
          ],
          [
           "coffee granules",
           "hazelnuts"
          ],
          [
           "coffee granules",
           "butter"
          ],
          [
           "coffee granules",
           "salt"
          ],
          [
           "coffee granules",
           "eggs"
          ]
         ],
         "hovertemplate": "Ingredient 1=%{customdata[0]}<br>Rating=%{marker.size}<br>Score=%{y}<br>Ingredient 2=%{customdata[1]}<extra></extra>",
         "legendgroup": "coffee granules",
         "marker": {
          "color": "#B6E880",
          "size": [
           4,
           4,
           4,
           4,
           4,
           4,
           4,
           4,
           4,
           4
          ],
          "sizemode": "area",
          "sizeref": 0.0125,
          "symbol": "circle"
         },
         "mode": "markers",
         "name": "coffee granules",
         "showlegend": true,
         "type": "scattergl",
         "x": [
          4,
          4,
          4,
          4,
          4,
          4,
          4,
          4,
          4,
          4
         ],
         "xaxis": "x",
         "y": [
          405.7,
          410.5,
          390.6,
          393.9,
          388.2,
          388.8,
          417.8,
          385.1,
          413,
          389.7
         ],
         "yaxis": "y"
        },
        {
         "customdata": [
          [
           "instant coffee",
           "baking powder"
          ],
          [
           "instant coffee",
           "agave nectar"
          ],
          [
           "instant coffee",
           "cocoa powder"
          ],
          [
           "instant coffee",
           "black beans"
          ],
          [
           "instant coffee",
           "hazelnuts"
          ],
          [
           "instant coffee",
           "butter"
          ],
          [
           "instant coffee",
           "salt"
          ],
          [
           "instant coffee",
           "eggs"
          ]
         ],
         "hovertemplate": "Ingredient 1=%{customdata[0]}<br>Rating=%{marker.size}<br>Score=%{y}<br>Ingredient 2=%{customdata[1]}<extra></extra>",
         "legendgroup": "instant coffee",
         "marker": {
          "color": "#FF97FF",
          "size": [
           4,
           4,
           4,
           4,
           4,
           4,
           4,
           4
          ],
          "sizemode": "area",
          "sizeref": 0.0125,
          "symbol": "circle"
         },
         "mode": "markers",
         "name": "instant coffee",
         "showlegend": true,
         "type": "scattergl",
         "x": [
          4,
          4,
          4,
          4,
          4,
          4,
          4,
          4
         ],
         "xaxis": "x",
         "y": [
          385.1,
          386.3,
          416.3,
          419.6,
          393.9,
          417.8,
          391,
          403
         ],
         "yaxis": "y"
        },
        {
         "customdata": [
          [
           "baking powder",
           "agave nectar"
          ],
          [
           "baking powder",
           "cocoa powder"
          ],
          [
           "baking powder",
           "black beans"
          ],
          [
           "baking powder",
           "hazelnuts"
          ],
          [
           "baking powder",
           "butter"
          ],
          [
           "baking powder",
           "salt"
          ],
          [
           "baking powder",
           "eggs"
          ],
          [
           "baking powder",
           "cocoa powder"
          ],
          [
           "baking powder",
           "baking soda"
          ],
          [
           "baking powder",
           "white sugar"
          ],
          [
           "baking powder",
           "buttermilk"
          ],
          [
           "baking powder",
           "salt"
          ],
          [
           "baking powder",
           "eggs"
          ],
          [
           "baking powder",
           "coconut milk"
          ]
         ],
         "hovertemplate": "Ingredient 1=%{customdata[0]}<br>Rating=%{marker.size}<br>Score=%{y}<br>Ingredient 2=%{customdata[1]}<extra></extra>",
         "legendgroup": "baking powder",
         "marker": {
          "color": "#FECB52",
          "size": [
           4,
           4,
           4,
           4,
           4,
           4,
           4,
           4.5,
           4.5,
           4.5,
           4.5,
           4.5,
           4.5,
           3.6
          ],
          "sizemode": "area",
          "sizeref": 0.0125,
          "symbol": "circle"
         },
         "mode": "markers",
         "name": "baking powder",
         "showlegend": true,
         "type": "scattergl",
         "x": [
          4,
          4,
          4,
          4,
          4,
          4,
          4,
          4.5,
          4.5,
          4.5,
          4.5,
          4.5,
          4.5,
          3.6
         ],
         "xaxis": "x",
         "y": [
          404.1,
          403.1,
          410.3,
          398.1,
          420.6,
          407.5,
          415.8,
          474.4,
          439.8,
          451.4,
          450.9,
          439.6,
          468,
          358.1
         ],
         "yaxis": "y"
        },
        {
         "customdata": [
          [
           "agave nectar",
           "cocoa powder"
          ],
          [
           "agave nectar",
           "black beans"
          ],
          [
           "agave nectar",
           "hazelnuts"
          ],
          [
           "agave nectar",
           "butter"
          ],
          [
           "agave nectar",
           "salt"
          ],
          [
           "agave nectar",
           "eggs"
          ]
         ],
         "hovertemplate": "Ingredient 1=%{customdata[0]}<br>Rating=%{marker.size}<br>Score=%{y}<br>Ingredient 2=%{customdata[1]}<extra></extra>",
         "legendgroup": "agave nectar",
         "marker": {
          "color": "#636efa",
          "size": [
           4,
           4,
           4,
           4,
           4,
           4
          ],
          "sizemode": "area",
          "sizeref": 0.0125,
          "symbol": "circle"
         },
         "mode": "markers",
         "name": "agave nectar",
         "showlegend": true,
         "type": "scattergl",
         "x": [
          4,
          4,
          4,
          4,
          4,
          4
         ],
         "xaxis": "x",
         "y": [
          409.4,
          420.6,
          410.4,
          400.2,
          392.4,
          392.5
         ],
         "yaxis": "y"
        },
        {
         "customdata": [
          [
           "cocoa powder",
           "black beans"
          ],
          [
           "cocoa powder",
           "hazelnuts"
          ],
          [
           "cocoa powder",
           "butter"
          ],
          [
           "cocoa powder",
           "salt"
          ],
          [
           "cocoa powder",
           "eggs"
          ],
          [
           "cocoa powder",
           "baking soda"
          ],
          [
           "cocoa powder",
           "white sugar"
          ],
          [
           "cocoa powder",
           "buttermilk"
          ],
          [
           "cocoa powder",
           "salt"
          ],
          [
           "cocoa powder",
           "eggs"
          ]
         ],
         "hovertemplate": "Ingredient 1=%{customdata[0]}<br>Rating=%{marker.size}<br>Score=%{y}<br>Ingredient 2=%{customdata[1]}<extra></extra>",
         "legendgroup": "cocoa powder",
         "marker": {
          "color": "#EF553B",
          "size": [
           4,
           4,
           4,
           4,
           4,
           4.5,
           4.5,
           4.5,
           4.5,
           4.5
          ],
          "sizemode": "area",
          "sizeref": 0.0125,
          "symbol": "circle"
         },
         "mode": "markers",
         "name": "cocoa powder",
         "showlegend": true,
         "type": "scattergl",
         "x": [
          4,
          4,
          4,
          4,
          4,
          4.5,
          4.5,
          4.5,
          4.5,
          4.5
         ],
         "xaxis": "x",
         "y": [
          406.2,
          419.2,
          413.9,
          385.7,
          418,
          470.6,
          469.3,
          448,
          472.4,
          436.8
         ],
         "yaxis": "y"
        },
        {
         "customdata": [
          [
           "hazelnuts",
           "butter"
          ],
          [
           "hazelnuts",
           "salt"
          ],
          [
           "hazelnuts",
           "eggs"
          ]
         ],
         "hovertemplate": "Ingredient 1=%{customdata[0]}<br>Rating=%{marker.size}<br>Score=%{y}<br>Ingredient 2=%{customdata[1]}<extra></extra>",
         "legendgroup": "hazelnuts",
         "marker": {
          "color": "#00cc96",
          "size": [
           4,
           4,
           4
          ],
          "sizemode": "area",
          "sizeref": 0.0125,
          "symbol": "circle"
         },
         "mode": "markers",
         "name": "hazelnuts",
         "showlegend": true,
         "type": "scattergl",
         "x": [
          4,
          4,
          4
         ],
         "xaxis": "x",
         "y": [
          415.7,
          395.5,
          388.4
         ],
         "yaxis": "y"
        },
        {
         "customdata": [
          [
           "pineapple chunks",
           "cayenne pepper"
          ],
          [
           "pineapple chunks",
           "garlic powder"
          ],
          [
           "pineapple chunks",
           "ground cumin"
          ],
          [
           "pineapple chunks",
           "onion powder"
          ],
          [
           "pineapple chunks",
           "brown sugar"
          ],
          [
           "pineapple chunks",
           "pork ribs"
          ],
          [
           "pineapple chunks",
           "juice"
          ],
          [
           "pineapple chunks",
           "honey"
          ],
          [
           "pineapple chunks",
           "salt"
          ],
          [
           "pineapple chunks",
           "lime"
          ],
          [
           "pineapple chunks",
           "beer"
          ]
         ],
         "hovertemplate": "Ingredient 1=%{customdata[0]}<br>Rating=%{marker.size}<br>Score=%{y}<br>Ingredient 2=%{customdata[1]}<extra></extra>",
         "legendgroup": "pineapple chunks",
         "marker": {
          "color": "#ab63fa",
          "size": [
           5,
           5,
           5,
           5,
           5,
           5,
           5,
           5,
           5,
           5,
           5
          ],
          "sizemode": "area",
          "sizeref": 0.0125,
          "symbol": "circle"
         },
         "mode": "markers",
         "name": "pineapple chunks",
         "showlegend": true,
         "type": "scattergl",
         "x": [
          5,
          5,
          5,
          5,
          5,
          5,
          5,
          5,
          5,
          5,
          5
         ],
         "xaxis": "x",
         "y": [
          504.2,
          512.8,
          514.2,
          515.5,
          514,
          501.6,
          497,
          510.9,
          503.3,
          487.3,
          498.8
         ],
         "yaxis": "y"
        },
        {
         "customdata": [
          [
           "garlic powder",
           "ground cumin"
          ],
          [
           "garlic powder",
           "onion powder"
          ],
          [
           "garlic powder",
           "brown sugar"
          ],
          [
           "garlic powder",
           "pork ribs"
          ],
          [
           "garlic powder",
           "juice"
          ],
          [
           "garlic powder",
           "honey"
          ],
          [
           "garlic powder",
           "salt"
          ],
          [
           "garlic powder",
           "lime"
          ],
          [
           "garlic powder",
           "beer"
          ],
          [
           "garlic powder",
           "vegetable oil"
          ],
          [
           "garlic powder",
           "mustard"
          ],
          [
           "garlic powder",
           "ground pepper"
          ],
          [
           "garlic powder",
           "cream cheese"
          ],
          [
           "garlic powder",
           "chili powder"
          ],
          [
           "garlic powder",
           "black beans"
          ],
          [
           "garlic powder",
           "sour cream"
          ],
          [
           "garlic powder",
           "cilantro"
          ],
          [
           "garlic powder",
           "salsa"
          ],
          [
           "garlic powder",
           "eggs"
          ],
          [
           "garlic powder",
           "lime"
          ]
         ],
         "hovertemplate": "Ingredient 1=%{customdata[0]}<br>Rating=%{marker.size}<br>Score=%{y}<br>Ingredient 2=%{customdata[1]}<extra></extra>",
         "legendgroup": "garlic powder",
         "marker": {
          "color": "#FFA15A",
          "size": [
           5,
           5,
           5,
           5,
           5,
           5,
           5,
           5,
           5,
           4.5,
           4.5,
           4.7,
           4.7,
           4.5,
           4.5,
           4.5,
           4.5,
           4.5,
           4.5,
           4.5
          ],
          "sizemode": "area",
          "sizeref": 0.0125,
          "symbol": "circle"
         },
         "mode": "markers",
         "name": "garlic powder",
         "showlegend": true,
         "type": "scattergl",
         "x": [
          5,
          5,
          5,
          5,
          5,
          5,
          5,
          5,
          5,
          4.5,
          4.5,
          4.7,
          4.7,
          4.5,
          4.5,
          4.5,
          4.5,
          4.5,
          4.5,
          4.5
         ],
         "xaxis": "x",
         "y": [
          488.3,
          484.9,
          486.2,
          500.9,
          494.5,
          506.3,
          521.4,
          510.2,
          497.9,
          454.5,
          464.1,
          469.2,
          479.3,
          469.2,
          472.9,
          446.4,
          450.8,
          466.2,
          447,
          443.5
         ],
         "yaxis": "y"
        },
        {
         "customdata": [
          [
           "onion powder",
           "brown sugar"
          ],
          [
           "onion powder",
           "pork ribs"
          ],
          [
           "onion powder",
           "juice"
          ],
          [
           "onion powder",
           "honey"
          ],
          [
           "onion powder",
           "salt"
          ],
          [
           "onion powder",
           "lime"
          ],
          [
           "onion powder",
           "beer"
          ]
         ],
         "hovertemplate": "Ingredient 1=%{customdata[0]}<br>Rating=%{marker.size}<br>Score=%{y}<br>Ingredient 2=%{customdata[1]}<extra></extra>",
         "legendgroup": "onion powder",
         "marker": {
          "color": "#19d3f3",
          "size": [
           5,
           5,
           5,
           5,
           5,
           5,
           5
          ],
          "sizemode": "area",
          "sizeref": 0.0125,
          "symbol": "circle"
         },
         "mode": "markers",
         "name": "onion powder",
         "showlegend": true,
         "type": "scattergl",
         "x": [
          5,
          5,
          5,
          5,
          5,
          5,
          5
         ],
         "xaxis": "x",
         "y": [
          491.2,
          490.5,
          512.5,
          505.5,
          492.5,
          513.4,
          519.5
         ],
         "yaxis": "y"
        },
        {
         "customdata": [
          [
           "pork ribs",
           "juice"
          ],
          [
           "pork ribs",
           "honey"
          ],
          [
           "pork ribs",
           "salt"
          ],
          [
           "pork ribs",
           "lime"
          ],
          [
           "pork ribs",
           "beer"
          ]
         ],
         "hovertemplate": "Ingredient 1=%{customdata[0]}<br>Rating=%{marker.size}<br>Score=%{y}<br>Ingredient 2=%{customdata[1]}<extra></extra>",
         "legendgroup": "pork ribs",
         "marker": {
          "color": "#FF6692",
          "size": [
           5,
           5,
           5,
           5,
           5
          ],
          "sizemode": "area",
          "sizeref": 0.0125,
          "symbol": "circle"
         },
         "mode": "markers",
         "name": "pork ribs",
         "showlegend": true,
         "type": "scattergl",
         "x": [
          5,
          5,
          5,
          5,
          5
         ],
         "xaxis": "x",
         "y": [
          503,
          485.2,
          508,
          515.3,
          511.3
         ],
         "yaxis": "y"
        },
        {
         "customdata": [
          [
           "juice",
           "honey"
          ],
          [
           "juice",
           "salt"
          ],
          [
           "juice",
           "lime"
          ],
          [
           "juice",
           "beer"
          ]
         ],
         "hovertemplate": "Ingredient 1=%{customdata[0]}<br>Rating=%{marker.size}<br>Score=%{y}<br>Ingredient 2=%{customdata[1]}<extra></extra>",
         "legendgroup": "juice",
         "marker": {
          "color": "#B6E880",
          "size": [
           5,
           5,
           5,
           5
          ],
          "sizemode": "area",
          "sizeref": 0.0125,
          "symbol": "circle"
         },
         "mode": "markers",
         "name": "juice",
         "showlegend": true,
         "type": "scattergl",
         "x": [
          5,
          5,
          5,
          5
         ],
         "xaxis": "x",
         "y": [
          519.4,
          513.9,
          499.9,
          508.3
         ],
         "yaxis": "y"
        },
        {
         "customdata": [
          [
           "honey",
           "salt"
          ],
          [
           "honey",
           "lime"
          ],
          [
           "honey",
           "beer"
          ],
          [
           "honey",
           "sake"
          ]
         ],
         "hovertemplate": "Ingredient 1=%{customdata[0]}<br>Rating=%{marker.size}<br>Score=%{y}<br>Ingredient 2=%{customdata[1]}<extra></extra>",
         "legendgroup": "honey",
         "marker": {
          "color": "#FF97FF",
          "size": [
           5,
           5,
           5,
           4.7
          ],
          "sizemode": "area",
          "sizeref": 0.0125,
          "symbol": "circle"
         },
         "mode": "markers",
         "name": "honey",
         "showlegend": true,
         "type": "scattergl",
         "x": [
          5,
          5,
          5,
          4.7
         ],
         "xaxis": "x",
         "y": [
          488.1,
          520.3,
          518.1,
          579.6
         ],
         "yaxis": "y"
        },
        {
         "customdata": [
          [
           "lime",
           "beer"
          ],
          [
           "lime",
           "red"
          ]
         ],
         "hovertemplate": "Ingredient 1=%{customdata[0]}<br>Rating=%{marker.size}<br>Score=%{y}<br>Ingredient 2=%{customdata[1]}<extra></extra>",
         "legendgroup": "lime",
         "marker": {
          "color": "#FECB52",
          "size": [
           5,
           4
          ],
          "sizemode": "area",
          "sizeref": 0.0125,
          "symbol": "circle"
         },
         "mode": "markers",
         "name": "lime",
         "showlegend": true,
         "type": "scattergl",
         "x": [
          5,
          4
         ],
         "xaxis": "x",
         "y": [
          516.9,
          391.4
         ],
         "yaxis": "y"
        },
        {
         "customdata": [
          [
           "light brown sugar",
           "vanilla extract"
          ],
          [
           "light brown sugar",
           "vegetable oil"
          ],
          [
           "light brown sugar",
           "baking powder"
          ],
          [
           "light brown sugar",
           "cocoa powder"
          ],
          [
           "light brown sugar",
           "baking soda"
          ],
          [
           "light brown sugar",
           "white sugar"
          ],
          [
           "light brown sugar",
           "buttermilk"
          ],
          [
           "light brown sugar",
           "salt"
          ],
          [
           "light brown sugar",
           "eggs"
          ]
         ],
         "hovertemplate": "Ingredient 1=%{customdata[0]}<br>Rating=%{marker.size}<br>Score=%{y}<br>Ingredient 2=%{customdata[1]}<extra></extra>",
         "legendgroup": "light brown sugar",
         "marker": {
          "color": "#636efa",
          "size": [
           4.5,
           4.5,
           4.5,
           4.5,
           4.5,
           4.5,
           4.5,
           4.5,
           4.5
          ],
          "sizemode": "area",
          "sizeref": 0.0125,
          "symbol": "circle"
         },
         "mode": "markers",
         "name": "light brown sugar",
         "showlegend": true,
         "type": "scattergl",
         "x": [
          4.5,
          4.5,
          4.5,
          4.5,
          4.5,
          4.5,
          4.5,
          4.5,
          4.5
         ],
         "xaxis": "x",
         "y": [
          472.3,
          455.8,
          445.8,
          438.7,
          456.8,
          465.2,
          454.2,
          466.7,
          448.4
         ],
         "yaxis": "y"
        },
        {
         "customdata": [
          [
           "vegetable oil",
           "baking powder"
          ],
          [
           "vegetable oil",
           "cocoa powder"
          ],
          [
           "vegetable oil",
           "baking soda"
          ],
          [
           "vegetable oil",
           "white sugar"
          ],
          [
           "vegetable oil",
           "buttermilk"
          ],
          [
           "vegetable oil",
           "salt"
          ],
          [
           "vegetable oil",
           "eggs"
          ],
          [
           "vegetable oil",
           "cider vinegar"
          ],
          [
           "vegetable oil",
           "ground cumin"
          ],
          [
           "vegetable oil",
           "chile pepper"
          ],
          [
           "vegetable oil",
           "kosher salt"
          ],
          [
           "vegetable oil",
           "annatto"
          ],
          [
           "vegetable oil",
           "achiote"
          ],
          [
           "vegetable oil",
           "garlic"
          ],
          [
           "vegetable oil",
           "quinoa"
          ],
          [
           "vegetable oil",
           "onion"
          ],
          [
           "vegetable oil",
           "mustard"
          ],
          [
           "vegetable oil",
           "chile pepper"
          ],
          [
           "vegetable oil",
           "clove garlic"
          ],
          [
           "vegetable oil",
           "adobo sauce"
          ],
          [
           "vegetable oil",
           "olive oil"
          ],
          [
           "vegetable oil",
           "onion"
          ],
          [
           "vegetable oil",
           "garlic powder"
          ],
          [
           "vegetable oil",
           "chili powder"
          ],
          [
           "vegetable oil",
           "black beans"
          ],
          [
           "vegetable oil",
           "sour cream"
          ],
          [
           "vegetable oil",
           "cilantro"
          ],
          [
           "vegetable oil",
           "salsa"
          ],
          [
           "vegetable oil",
           "eggs"
          ],
          [
           "vegetable oil",
           "lime"
          ]
         ],
         "hovertemplate": "Ingredient 1=%{customdata[0]}<br>Rating=%{marker.size}<br>Score=%{y}<br>Ingredient 2=%{customdata[1]}<extra></extra>",
         "legendgroup": "vegetable oil",
         "marker": {
          "color": "#EF553B",
          "size": [
           4.5,
           4.5,
           4.5,
           4.5,
           4.5,
           4.5,
           4.5,
           4,
           4,
           4,
           4,
           4,
           4,
           4,
           4,
           4,
           4.5,
           5,
           5,
           5,
           5,
           5,
           4.5,
           4.5,
           4.5,
           4.5,
           4.5,
           4.5,
           4.5,
           4.5
          ],
          "sizemode": "area",
          "sizeref": 0.0125,
          "symbol": "circle"
         },
         "mode": "markers",
         "name": "vegetable oil",
         "showlegend": true,
         "type": "scattergl",
         "x": [
          4.5,
          4.5,
          4.5,
          4.5,
          4.5,
          4.5,
          4.5,
          4,
          4,
          4,
          4,
          4,
          4,
          4,
          4,
          4,
          4.5,
          5,
          5,
          5,
          5,
          5,
          4.5,
          4.5,
          4.5,
          4.5,
          4.5,
          4.5,
          4.5,
          4.5
         ],
         "xaxis": "x",
         "y": [
          458.4,
          473.2,
          451.4,
          439.6,
          460.7,
          469.6,
          456.4,
          396.7,
          410.8,
          402.6,
          398.2,
          387.7,
          405.8,
          409.4,
          420.1,
          386.9,
          469.2,
          521.4,
          488.4,
          505,
          501.5,
          500.5,
          441.6,
          467.5,
          446.5,
          448.1,
          459.8,
          460.4,
          444.3,
          457.5
         ],
         "yaxis": "y"
        },
        {
         "customdata": [
          [
           "buttermilk",
           "salt"
          ],
          [
           "buttermilk",
           "eggs"
          ]
         ],
         "hovertemplate": "Ingredient 1=%{customdata[0]}<br>Rating=%{marker.size}<br>Score=%{y}<br>Ingredient 2=%{customdata[1]}<extra></extra>",
         "legendgroup": "buttermilk",
         "marker": {
          "color": "#00cc96",
          "size": [
           4.5,
           4.5
          ],
          "sizemode": "area",
          "sizeref": 0.0125,
          "symbol": "circle"
         },
         "mode": "markers",
         "name": "buttermilk",
         "showlegend": true,
         "type": "scattergl",
         "x": [
          4.5,
          4.5
         ],
         "xaxis": "x",
         "y": [
          474.7,
          464.7
         ],
         "yaxis": "y"
        },
        {
         "customdata": [
          [
           "flax seed meal",
           "baking powder"
          ],
          [
           "flax seed meal",
           "coconut milk"
          ]
         ],
         "hovertemplate": "Ingredient 1=%{customdata[0]}<br>Rating=%{marker.size}<br>Score=%{y}<br>Ingredient 2=%{customdata[1]}<extra></extra>",
         "legendgroup": "flax seed meal",
         "marker": {
          "color": "#ab63fa",
          "size": [
           3.6,
           3.6
          ],
          "sizemode": "area",
          "sizeref": 0.0125,
          "symbol": "circle"
         },
         "mode": "markers",
         "name": "flax seed meal",
         "showlegend": true,
         "type": "scattergl",
         "x": [
          3.6,
          3.6
         ],
         "xaxis": "x",
         "y": [
          380.2,
          364.4
         ],
         "yaxis": "y"
        },
        {
         "customdata": [
          [
           "russet potatoes",
           "diced celery"
          ],
          [
           "russet potatoes",
           "kosher salt"
          ],
          [
           "russet potatoes",
           "boiled eggs"
          ],
          [
           "russet potatoes",
           "sweet onion"
          ],
          [
           "russet potatoes",
           "cold water"
          ],
          [
           "russet potatoes",
           "garnish"
          ],
          [
           "russet potatoes",
           "parsley"
          ],
          [
           "russet potatoes",
           "paprika"
          ],
          [
           "russet potatoes",
           "chives"
          ]
         ],
         "hovertemplate": "Ingredient 1=%{customdata[0]}<br>Rating=%{marker.size}<br>Score=%{y}<br>Ingredient 2=%{customdata[1]}<extra></extra>",
         "legendgroup": "russet potatoes",
         "marker": {
          "color": "#FFA15A",
          "size": [
           4.5,
           4.5,
           4.5,
           4.5,
           4.5,
           4.5,
           4.5,
           4.5,
           4.5
          ],
          "sizemode": "area",
          "sizeref": 0.0125,
          "symbol": "circle"
         },
         "mode": "markers",
         "name": "russet potatoes",
         "showlegend": true,
         "type": "scattergl",
         "x": [
          4.5,
          4.5,
          4.5,
          4.5,
          4.5,
          4.5,
          4.5,
          4.5,
          4.5
         ],
         "xaxis": "x",
         "y": [
          495.2,
          511.9,
          504.2,
          516.2,
          491.6,
          487.3,
          508.1,
          519.4,
          515.9
         ],
         "yaxis": "y"
        },
        {
         "customdata": [
          [
           "diced celery",
           "kosher salt"
          ],
          [
           "diced celery",
           "boiled eggs"
          ],
          [
           "diced celery",
           "sweet onion"
          ],
          [
           "diced celery",
           "cold water"
          ],
          [
           "diced celery",
           "garnish"
          ],
          [
           "diced celery",
           "parsley"
          ],
          [
           "diced celery",
           "paprika"
          ],
          [
           "diced celery",
           "chives"
          ]
         ],
         "hovertemplate": "Ingredient 1=%{customdata[0]}<br>Rating=%{marker.size}<br>Score=%{y}<br>Ingredient 2=%{customdata[1]}<extra></extra>",
         "legendgroup": "diced celery",
         "marker": {
          "color": "#19d3f3",
          "size": [
           4.5,
           4.5,
           4.5,
           4.5,
           4.5,
           4.5,
           4.5,
           4.5
          ],
          "sizemode": "area",
          "sizeref": 0.0125,
          "symbol": "circle"
         },
         "mode": "markers",
         "name": "diced celery",
         "showlegend": true,
         "type": "scattergl",
         "x": [
          4.5,
          4.5,
          4.5,
          4.5,
          4.5,
          4.5,
          4.5,
          4.5
         ],
         "xaxis": "x",
         "y": [
          515.3,
          489.1,
          488,
          487.2,
          519.6,
          503,
          523.2,
          520.6
         ],
         "yaxis": "y"
        },
        {
         "customdata": [
          [
           "boiled eggs",
           "sweet onion"
          ],
          [
           "boiled eggs",
           "cold water"
          ],
          [
           "boiled eggs",
           "garnish"
          ],
          [
           "boiled eggs",
           "parsley"
          ],
          [
           "boiled eggs",
           "paprika"
          ],
          [
           "boiled eggs",
           "chives"
          ]
         ],
         "hovertemplate": "Ingredient 1=%{customdata[0]}<br>Rating=%{marker.size}<br>Score=%{y}<br>Ingredient 2=%{customdata[1]}<extra></extra>",
         "legendgroup": "boiled eggs",
         "marker": {
          "color": "#FF6692",
          "size": [
           4.5,
           4.5,
           4.5,
           4.5,
           4.5,
           4.5
          ],
          "sizemode": "area",
          "sizeref": 0.0125,
          "symbol": "circle"
         },
         "mode": "markers",
         "name": "boiled eggs",
         "showlegend": true,
         "type": "scattergl",
         "x": [
          4.5,
          4.5,
          4.5,
          4.5,
          4.5,
          4.5
         ],
         "xaxis": "x",
         "y": [
          508.7,
          494.2,
          514.2,
          521.4,
          486.4,
          500
         ],
         "yaxis": "y"
        },
        {
         "customdata": [
          [
           "sweet onion",
           "cold water"
          ],
          [
           "sweet onion",
           "garnish"
          ],
          [
           "sweet onion",
           "parsley"
          ],
          [
           "sweet onion",
           "paprika"
          ],
          [
           "sweet onion",
           "chives"
          ]
         ],
         "hovertemplate": "Ingredient 1=%{customdata[0]}<br>Rating=%{marker.size}<br>Score=%{y}<br>Ingredient 2=%{customdata[1]}<extra></extra>",
         "legendgroup": "sweet onion",
         "marker": {
          "color": "#B6E880",
          "size": [
           4.5,
           4.5,
           4.5,
           4.5,
           4.5
          ],
          "sizemode": "area",
          "sizeref": 0.0125,
          "symbol": "circle"
         },
         "mode": "markers",
         "name": "sweet onion",
         "showlegend": true,
         "type": "scattergl",
         "x": [
          4.5,
          4.5,
          4.5,
          4.5,
          4.5
         ],
         "xaxis": "x",
         "y": [
          518.7,
          503,
          517.9,
          516.7,
          515.8
         ],
         "yaxis": "y"
        },
        {
         "customdata": [
          [
           "cold water",
           "garnish"
          ],
          [
           "cold water",
           "parsley"
          ],
          [
           "cold water",
           "paprika"
          ],
          [
           "cold water",
           "chives"
          ]
         ],
         "hovertemplate": "Ingredient 1=%{customdata[0]}<br>Rating=%{marker.size}<br>Score=%{y}<br>Ingredient 2=%{customdata[1]}<extra></extra>",
         "legendgroup": "cold water",
         "marker": {
          "color": "#FF97FF",
          "size": [
           4.5,
           4.5,
           4.5,
           4.5
          ],
          "sizemode": "area",
          "sizeref": 0.0125,
          "symbol": "circle"
         },
         "mode": "markers",
         "name": "cold water",
         "showlegend": true,
         "type": "scattergl",
         "x": [
          4.5,
          4.5,
          4.5,
          4.5
         ],
         "xaxis": "x",
         "y": [
          500.4,
          518.7,
          498.6,
          517.8
         ],
         "yaxis": "y"
        },
        {
         "customdata": [
          [
           "garnish",
           "parsley"
          ],
          [
           "garnish",
           "paprika"
          ],
          [
           "garnish",
           "chives"
          ]
         ],
         "hovertemplate": "Ingredient 1=%{customdata[0]}<br>Rating=%{marker.size}<br>Score=%{y}<br>Ingredient 2=%{customdata[1]}<extra></extra>",
         "legendgroup": "garnish",
         "marker": {
          "color": "#FECB52",
          "size": [
           4.5,
           4.5,
           4.5
          ],
          "sizemode": "area",
          "sizeref": 0.0125,
          "symbol": "circle"
         },
         "mode": "markers",
         "name": "garnish",
         "showlegend": true,
         "type": "scattergl",
         "x": [
          4.5,
          4.5,
          4.5
         ],
         "xaxis": "x",
         "y": [
          514.3,
          515.9,
          500.3
         ],
         "yaxis": "y"
        },
        {
         "customdata": [
          [
           "paprika",
           "chives"
          ]
         ],
         "hovertemplate": "Ingredient 1=%{customdata[0]}<br>Rating=%{marker.size}<br>Score=%{y}<br>Ingredient 2=%{customdata[1]}<extra></extra>",
         "legendgroup": "paprika",
         "marker": {
          "color": "#636efa",
          "size": [
           4.5
          ],
          "sizemode": "area",
          "sizeref": 0.0125,
          "symbol": "circle"
         },
         "mode": "markers",
         "name": "paprika",
         "showlegend": true,
         "type": "scattergl",
         "x": [
          4.5
         ],
         "xaxis": "x",
         "y": [
          512.6
         ],
         "yaxis": "y"
        },
        {
         "customdata": [
          [
           "red food coloring",
           "five-spice powder"
          ],
          [
           "red food coloring",
           "cayenne pepper"
          ],
          [
           "red food coloring",
           "hoisin sauce"
          ],
          [
           "red food coloring",
           "curing salt"
          ],
          [
           "red food coloring",
           "brown sugar"
          ],
          [
           "red food coloring",
           "kosher salt"
          ],
          [
           "red food coloring",
           "dry sherry"
          ],
          [
           "red food coloring",
           "rice wine"
          ],
          [
           "red food coloring",
           "pork butt"
          ],
          [
           "red food coloring",
           "soy sauce"
          ],
          [
           "red food coloring",
           "ketchup"
          ],
          [
           "red food coloring",
           "garlic"
          ],
          [
           "red food coloring",
           "honey"
          ],
          [
           "red food coloring",
           "sake"
          ]
         ],
         "hovertemplate": "Ingredient 1=%{customdata[0]}<br>Rating=%{marker.size}<br>Score=%{y}<br>Ingredient 2=%{customdata[1]}<extra></extra>",
         "legendgroup": "red food coloring",
         "marker": {
          "color": "#EF553B",
          "size": [
           4.7,
           4.7,
           4.7,
           4.7,
           4.7,
           4.7,
           4.7,
           4.7,
           4.7,
           4.7,
           4.7,
           4.7,
           4.7,
           4.7
          ],
          "sizemode": "area",
          "sizeref": 0.0125,
          "symbol": "circle"
         },
         "mode": "markers",
         "name": "red food coloring",
         "showlegend": true,
         "type": "scattergl",
         "x": [
          4.7,
          4.7,
          4.7,
          4.7,
          4.7,
          4.7,
          4.7,
          4.7,
          4.7,
          4.7,
          4.7,
          4.7,
          4.7,
          4.7
         ],
         "xaxis": "x",
         "y": [
          574.7,
          567.5,
          590.2,
          558.9,
          592,
          562.9,
          588.3,
          575.7,
          568.2,
          561.8,
          585.6,
          555.6,
          562.6,
          554.6
         ],
         "yaxis": "y"
        },
        {
         "customdata": [
          [
           "five-spice powder",
           "cayenne pepper"
          ],
          [
           "five-spice powder",
           "hoisin sauce"
          ],
          [
           "five-spice powder",
           "curing salt"
          ],
          [
           "five-spice powder",
           "brown sugar"
          ],
          [
           "five-spice powder",
           "kosher salt"
          ],
          [
           "five-spice powder",
           "dry sherry"
          ],
          [
           "five-spice powder",
           "rice wine"
          ],
          [
           "five-spice powder",
           "pork butt"
          ],
          [
           "five-spice powder",
           "soy sauce"
          ],
          [
           "five-spice powder",
           "ketchup"
          ],
          [
           "five-spice powder",
           "garlic"
          ],
          [
           "five-spice powder",
           "honey"
          ],
          [
           "five-spice powder",
           "sake"
          ]
         ],
         "hovertemplate": "Ingredient 1=%{customdata[0]}<br>Rating=%{marker.size}<br>Score=%{y}<br>Ingredient 2=%{customdata[1]}<extra></extra>",
         "legendgroup": "five-spice powder",
         "marker": {
          "color": "#00cc96",
          "size": [
           4.7,
           4.7,
           4.7,
           4.7,
           4.7,
           4.7,
           4.7,
           4.7,
           4.7,
           4.7,
           4.7,
           4.7,
           4.7
          ],
          "sizemode": "area",
          "sizeref": 0.0125,
          "symbol": "circle"
         },
         "mode": "markers",
         "name": "five-spice powder",
         "showlegend": true,
         "type": "scattergl",
         "x": [
          4.7,
          4.7,
          4.7,
          4.7,
          4.7,
          4.7,
          4.7,
          4.7,
          4.7,
          4.7,
          4.7,
          4.7,
          4.7
         ],
         "xaxis": "x",
         "y": [
          555.4,
          576.9,
          571.1,
          593.1,
          571.8,
          590.2,
          576.1,
          588.2,
          584.3,
          566.1,
          561.8,
          582.8,
          586.8
         ],
         "yaxis": "y"
        },
        {
         "customdata": [
          [
           "hoisin sauce",
           "curing salt"
          ],
          [
           "hoisin sauce",
           "brown sugar"
          ],
          [
           "hoisin sauce",
           "kosher salt"
          ],
          [
           "hoisin sauce",
           "dry sherry"
          ],
          [
           "hoisin sauce",
           "rice wine"
          ],
          [
           "hoisin sauce",
           "pork butt"
          ],
          [
           "hoisin sauce",
           "soy sauce"
          ],
          [
           "hoisin sauce",
           "ketchup"
          ],
          [
           "hoisin sauce",
           "garlic"
          ],
          [
           "hoisin sauce",
           "honey"
          ],
          [
           "hoisin sauce",
           "sake"
          ]
         ],
         "hovertemplate": "Ingredient 1=%{customdata[0]}<br>Rating=%{marker.size}<br>Score=%{y}<br>Ingredient 2=%{customdata[1]}<extra></extra>",
         "legendgroup": "hoisin sauce",
         "marker": {
          "color": "#ab63fa",
          "size": [
           4.7,
           4.7,
           4.7,
           4.7,
           4.7,
           4.7,
           4.7,
           4.7,
           4.7,
           4.7,
           4.7
          ],
          "sizemode": "area",
          "sizeref": 0.0125,
          "symbol": "circle"
         },
         "mode": "markers",
         "name": "hoisin sauce",
         "showlegend": true,
         "type": "scattergl",
         "x": [
          4.7,
          4.7,
          4.7,
          4.7,
          4.7,
          4.7,
          4.7,
          4.7,
          4.7,
          4.7,
          4.7
         ],
         "xaxis": "x",
         "y": [
          586.1,
          573.8,
          590.2,
          563.6,
          592.3,
          580.6,
          582.7,
          570.9,
          592.5,
          571.6,
          569.1
         ],
         "yaxis": "y"
        },
        {
         "customdata": [
          [
           "curing salt",
           "brown sugar"
          ],
          [
           "curing salt",
           "kosher salt"
          ],
          [
           "curing salt",
           "dry sherry"
          ],
          [
           "curing salt",
           "rice wine"
          ],
          [
           "curing salt",
           "pork butt"
          ],
          [
           "curing salt",
           "soy sauce"
          ],
          [
           "curing salt",
           "ketchup"
          ],
          [
           "curing salt",
           "garlic"
          ],
          [
           "curing salt",
           "honey"
          ],
          [
           "curing salt",
           "sake"
          ]
         ],
         "hovertemplate": "Ingredient 1=%{customdata[0]}<br>Rating=%{marker.size}<br>Score=%{y}<br>Ingredient 2=%{customdata[1]}<extra></extra>",
         "legendgroup": "curing salt",
         "marker": {
          "color": "#FFA15A",
          "size": [
           4.7,
           4.7,
           4.7,
           4.7,
           4.7,
           4.7,
           4.7,
           4.7,
           4.7,
           4.7
          ],
          "sizemode": "area",
          "sizeref": 0.0125,
          "symbol": "circle"
         },
         "mode": "markers",
         "name": "curing salt",
         "showlegend": true,
         "type": "scattergl",
         "x": [
          4.7,
          4.7,
          4.7,
          4.7,
          4.7,
          4.7,
          4.7,
          4.7,
          4.7,
          4.7
         ],
         "xaxis": "x",
         "y": [
          572.9,
          577.6,
          562.1,
          580,
          579,
          590.7,
          567.6,
          579.6,
          570.1,
          558.6
         ],
         "yaxis": "y"
        },
        {
         "customdata": [
          [
           "dry sherry",
           "rice wine"
          ],
          [
           "dry sherry",
           "pork butt"
          ],
          [
           "dry sherry",
           "soy sauce"
          ],
          [
           "dry sherry",
           "ketchup"
          ],
          [
           "dry sherry",
           "garlic"
          ],
          [
           "dry sherry",
           "honey"
          ],
          [
           "dry sherry",
           "sake"
          ]
         ],
         "hovertemplate": "Ingredient 1=%{customdata[0]}<br>Rating=%{marker.size}<br>Score=%{y}<br>Ingredient 2=%{customdata[1]}<extra></extra>",
         "legendgroup": "dry sherry",
         "marker": {
          "color": "#19d3f3",
          "size": [
           4.7,
           4.7,
           4.7,
           4.7,
           4.7,
           4.7,
           4.7
          ],
          "sizemode": "area",
          "sizeref": 0.0125,
          "symbol": "circle"
         },
         "mode": "markers",
         "name": "dry sherry",
         "showlegend": true,
         "type": "scattergl",
         "x": [
          4.7,
          4.7,
          4.7,
          4.7,
          4.7,
          4.7,
          4.7
         ],
         "xaxis": "x",
         "y": [
          572.4,
          576.5,
          588,
          564.5,
          568.5,
          559.5,
          572.3
         ],
         "yaxis": "y"
        },
        {
         "customdata": [
          [
           "rice wine",
           "pork butt"
          ],
          [
           "rice wine",
           "soy sauce"
          ],
          [
           "rice wine",
           "ketchup"
          ],
          [
           "rice wine",
           "garlic"
          ],
          [
           "rice wine",
           "honey"
          ],
          [
           "rice wine",
           "sake"
          ]
         ],
         "hovertemplate": "Ingredient 1=%{customdata[0]}<br>Rating=%{marker.size}<br>Score=%{y}<br>Ingredient 2=%{customdata[1]}<extra></extra>",
         "legendgroup": "rice wine",
         "marker": {
          "color": "#FF6692",
          "size": [
           4.7,
           4.7,
           4.7,
           4.7,
           4.7,
           4.7
          ],
          "sizemode": "area",
          "sizeref": 0.0125,
          "symbol": "circle"
         },
         "mode": "markers",
         "name": "rice wine",
         "showlegend": true,
         "type": "scattergl",
         "x": [
          4.7,
          4.7,
          4.7,
          4.7,
          4.7,
          4.7
         ],
         "xaxis": "x",
         "y": [
          580.7,
          555.8,
          589.1,
          563.9,
          559.2,
          568.1
         ],
         "yaxis": "y"
        },
        {
         "customdata": [
          [
           "pork butt",
           "soy sauce"
          ],
          [
           "pork butt",
           "ketchup"
          ],
          [
           "pork butt",
           "garlic"
          ],
          [
           "pork butt",
           "honey"
          ],
          [
           "pork butt",
           "sake"
          ]
         ],
         "hovertemplate": "Ingredient 1=%{customdata[0]}<br>Rating=%{marker.size}<br>Score=%{y}<br>Ingredient 2=%{customdata[1]}<extra></extra>",
         "legendgroup": "pork butt",
         "marker": {
          "color": "#B6E880",
          "size": [
           4.7,
           4.7,
           4.7,
           4.7,
           4.7
          ],
          "sizemode": "area",
          "sizeref": 0.0125,
          "symbol": "circle"
         },
         "mode": "markers",
         "name": "pork butt",
         "showlegend": true,
         "type": "scattergl",
         "x": [
          4.7,
          4.7,
          4.7,
          4.7,
          4.7
         ],
         "xaxis": "x",
         "y": [
          563.8,
          589,
          556.7,
          560.7,
          570.9
         ],
         "yaxis": "y"
        },
        {
         "customdata": [
          [
           "ketchup",
           "garlic"
          ],
          [
           "ketchup",
           "honey"
          ],
          [
           "ketchup",
           "sake"
          ]
         ],
         "hovertemplate": "Ingredient 1=%{customdata[0]}<br>Rating=%{marker.size}<br>Score=%{y}<br>Ingredient 2=%{customdata[1]}<extra></extra>",
         "legendgroup": "ketchup",
         "marker": {
          "color": "#FF97FF",
          "size": [
           4.7,
           4.7,
           4.7
          ],
          "sizemode": "area",
          "sizeref": 0.0125,
          "symbol": "circle"
         },
         "mode": "markers",
         "name": "ketchup",
         "showlegend": true,
         "type": "scattergl",
         "x": [
          4.7,
          4.7,
          4.7
         ],
         "xaxis": "x",
         "y": [
          566.1,
          579,
          574.9
         ],
         "yaxis": "y"
        },
        {
         "customdata": [
          [
           "golden raisins",
           "cooking spray"
          ],
          [
           "golden raisins",
           "dinner rolls"
          ],
          [
           "golden raisins",
           "cream cheese"
          ],
          [
           "golden raisins",
           "brown sugar"
          ],
          [
           "golden raisins",
           "white sugar"
          ],
          [
           "golden raisins",
           "butter"
          ]
         ],
         "hovertemplate": "Ingredient 1=%{customdata[0]}<br>Rating=%{marker.size}<br>Score=%{y}<br>Ingredient 2=%{customdata[1]}<extra></extra>",
         "legendgroup": "golden raisins",
         "marker": {
          "color": "#FECB52",
          "size": [
           5,
           5,
           5,
           5,
           5,
           5
          ],
          "sizemode": "area",
          "sizeref": 0.0125,
          "symbol": "circle"
         },
         "mode": "markers",
         "name": "golden raisins",
         "showlegend": true,
         "type": "scattergl",
         "x": [
          5,
          5,
          5,
          5,
          5,
          5
         ],
         "xaxis": "x",
         "y": [
          489.8,
          511.1,
          508,
          498.7,
          509,
          499.3
         ],
         "yaxis": "y"
        },
        {
         "customdata": [
          [
           "dinner rolls",
           "cream cheese"
          ],
          [
           "dinner rolls",
           "brown sugar"
          ],
          [
           "dinner rolls",
           "white sugar"
          ],
          [
           "dinner rolls",
           "butter"
          ]
         ],
         "hovertemplate": "Ingredient 1=%{customdata[0]}<br>Rating=%{marker.size}<br>Score=%{y}<br>Ingredient 2=%{customdata[1]}<extra></extra>",
         "legendgroup": "dinner rolls",
         "marker": {
          "color": "#636efa",
          "size": [
           5,
           5,
           5,
           5
          ],
          "sizemode": "area",
          "sizeref": 0.0125,
          "symbol": "circle"
         },
         "mode": "markers",
         "name": "dinner rolls",
         "showlegend": true,
         "type": "scattergl",
         "x": [
          5,
          5,
          5,
          5
         ],
         "xaxis": "x",
         "y": [
          487,
          502.9,
          510.6,
          490.7
         ],
         "yaxis": "y"
        },
        {
         "customdata": [
          [
           "provolone cheese",
           "hoagie rolls"
          ],
          [
           "provolone cheese",
           "thyme leaves"
          ],
          [
           "provolone cheese",
           "bell pepper"
          ],
          [
           "provolone cheese",
           "olive oil"
          ],
          [
           "provolone cheese",
           "soy sauce"
          ],
          [
           "provolone cheese",
           "mushrooms"
          ],
          [
           "provolone cheese",
           "mustard"
          ],
          [
           "provolone cheese",
           "cremini"
          ],
          [
           "provolone cheese",
           "butter"
          ],
          [
           "provolone cheese",
           "onion"
          ],
          [
           "provolone cheese",
           "salt"
          ]
         ],
         "hovertemplate": "Ingredient 1=%{customdata[0]}<br>Rating=%{marker.size}<br>Score=%{y}<br>Ingredient 2=%{customdata[1]}<extra></extra>",
         "legendgroup": "provolone cheese",
         "marker": {
          "color": "#EF553B",
          "size": [
           4.5,
           4.5,
           4.5,
           4.5,
           4.5,
           4.5,
           4.5,
           4.5,
           4.5,
           4.5,
           4.5
          ],
          "sizemode": "area",
          "sizeref": 0.0125,
          "symbol": "circle"
         },
         "mode": "markers",
         "name": "provolone cheese",
         "showlegend": true,
         "type": "scattergl",
         "x": [
          4.5,
          4.5,
          4.5,
          4.5,
          4.5,
          4.5,
          4.5,
          4.5,
          4.5,
          4.5,
          4.5
         ],
         "xaxis": "x",
         "y": [
          460.3,
          439.2,
          467.1,
          450.6,
          436.8,
          455.8,
          435.9,
          467.5,
          452.8,
          466.4,
          442.7
         ],
         "yaxis": "y"
        },
        {
         "customdata": [
          [
           "hoagie rolls",
           "thyme leaves"
          ],
          [
           "hoagie rolls",
           "bell pepper"
          ],
          [
           "hoagie rolls",
           "olive oil"
          ],
          [
           "hoagie rolls",
           "soy sauce"
          ],
          [
           "hoagie rolls",
           "mushrooms"
          ],
          [
           "hoagie rolls",
           "mustard"
          ],
          [
           "hoagie rolls",
           "cremini"
          ],
          [
           "hoagie rolls",
           "butter"
          ],
          [
           "hoagie rolls",
           "onion"
          ],
          [
           "hoagie rolls",
           "salt"
          ]
         ],
         "hovertemplate": "Ingredient 1=%{customdata[0]}<br>Rating=%{marker.size}<br>Score=%{y}<br>Ingredient 2=%{customdata[1]}<extra></extra>",
         "legendgroup": "hoagie rolls",
         "marker": {
          "color": "#00cc96",
          "size": [
           4.5,
           4.5,
           4.5,
           4.5,
           4.5,
           4.5,
           4.5,
           4.5,
           4.5,
           4.5
          ],
          "sizemode": "area",
          "sizeref": 0.0125,
          "symbol": "circle"
         },
         "mode": "markers",
         "name": "hoagie rolls",
         "showlegend": true,
         "type": "scattergl",
         "x": [
          4.5,
          4.5,
          4.5,
          4.5,
          4.5,
          4.5,
          4.5,
          4.5,
          4.5,
          4.5
         ],
         "xaxis": "x",
         "y": [
          466.6,
          436.4,
          442.1,
          437.3,
          462.5,
          452.1,
          453.7,
          455.2,
          455.4,
          455.5
         ],
         "yaxis": "y"
        },
        {
         "customdata": [
          [
           "thyme leaves",
           "bell pepper"
          ],
          [
           "thyme leaves",
           "olive oil"
          ],
          [
           "thyme leaves",
           "soy sauce"
          ],
          [
           "thyme leaves",
           "mushrooms"
          ],
          [
           "thyme leaves",
           "mustard"
          ],
          [
           "thyme leaves",
           "cremini"
          ],
          [
           "thyme leaves",
           "butter"
          ],
          [
           "thyme leaves",
           "onion"
          ],
          [
           "thyme leaves",
           "salt"
          ]
         ],
         "hovertemplate": "Ingredient 1=%{customdata[0]}<br>Rating=%{marker.size}<br>Score=%{y}<br>Ingredient 2=%{customdata[1]}<extra></extra>",
         "legendgroup": "thyme leaves",
         "marker": {
          "color": "#ab63fa",
          "size": [
           4.5,
           4.5,
           4.5,
           4.5,
           4.5,
           4.5,
           4.5,
           4.5,
           4.5
          ],
          "sizemode": "area",
          "sizeref": 0.0125,
          "symbol": "circle"
         },
         "mode": "markers",
         "name": "thyme leaves",
         "showlegend": true,
         "type": "scattergl",
         "x": [
          4.5,
          4.5,
          4.5,
          4.5,
          4.5,
          4.5,
          4.5,
          4.5,
          4.5
         ],
         "xaxis": "x",
         "y": [
          469.5,
          452,
          443.6,
          468.2,
          437.7,
          441.6,
          458.2,
          469.1,
          469.9
         ],
         "yaxis": "y"
        },
        {
         "customdata": [
          [
           "bell pepper",
           "olive oil"
          ],
          [
           "bell pepper",
           "soy sauce"
          ],
          [
           "bell pepper",
           "mushrooms"
          ],
          [
           "bell pepper",
           "mustard"
          ],
          [
           "bell pepper",
           "cremini"
          ],
          [
           "bell pepper",
           "butter"
          ],
          [
           "bell pepper",
           "onion"
          ],
          [
           "bell pepper",
           "salt"
          ]
         ],
         "hovertemplate": "Ingredient 1=%{customdata[0]}<br>Rating=%{marker.size}<br>Score=%{y}<br>Ingredient 2=%{customdata[1]}<extra></extra>",
         "legendgroup": "bell pepper",
         "marker": {
          "color": "#FFA15A",
          "size": [
           4.5,
           4.5,
           4.5,
           4.5,
           4.5,
           4.5,
           4.5,
           4.5
          ],
          "sizemode": "area",
          "sizeref": 0.0125,
          "symbol": "circle"
         },
         "mode": "markers",
         "name": "bell pepper",
         "showlegend": true,
         "type": "scattergl",
         "x": [
          4.5,
          4.5,
          4.5,
          4.5,
          4.5,
          4.5,
          4.5,
          4.5
         ],
         "xaxis": "x",
         "y": [
          465.5,
          435.4,
          454.2,
          438.1,
          469.1,
          459.3,
          436.3,
          471.4
         ],
         "yaxis": "y"
        },
        {
         "customdata": [
          [
           "cremini",
           "butter"
          ],
          [
           "cremini",
           "onion"
          ],
          [
           "cremini",
           "salt"
          ]
         ],
         "hovertemplate": "Ingredient 1=%{customdata[0]}<br>Rating=%{marker.size}<br>Score=%{y}<br>Ingredient 2=%{customdata[1]}<extra></extra>",
         "legendgroup": "cremini",
         "marker": {
          "color": "#19d3f3",
          "size": [
           4.5,
           4.5,
           4.5
          ],
          "sizemode": "area",
          "sizeref": 0.0125,
          "symbol": "circle"
         },
         "mode": "markers",
         "name": "cremini",
         "showlegend": true,
         "type": "scattergl",
         "x": [
          4.5,
          4.5,
          4.5
         ],
         "xaxis": "x",
         "y": [
          449.1,
          443.6,
          454.9
         ],
         "yaxis": "y"
        },
        {
         "customdata": [
          [
           "natural peanut butter",
           "shredded coconut"
          ],
          [
           "natural peanut butter",
           "maple syrup"
          ],
          [
           "natural peanut butter",
           "blueberries"
          ],
          [
           "natural peanut butter",
           "chia seeds"
          ]
         ],
         "hovertemplate": "Ingredient 1=%{customdata[0]}<br>Rating=%{marker.size}<br>Score=%{y}<br>Ingredient 2=%{customdata[1]}<extra></extra>",
         "legendgroup": "natural peanut butter",
         "marker": {
          "color": "#FF6692",
          "size": [
           4.5,
           4.5,
           4.5,
           4.5
          ],
          "sizemode": "area",
          "sizeref": 0.0125,
          "symbol": "circle"
         },
         "mode": "markers",
         "name": "natural peanut butter",
         "showlegend": true,
         "type": "scattergl",
         "x": [
          4.5,
          4.5,
          4.5,
          4.5
         ],
         "xaxis": "x",
         "y": [
          467.9,
          446.1,
          469.7,
          452.2
         ],
         "yaxis": "y"
        },
        {
         "customdata": [
          [
           "shredded coconut",
           "maple syrup"
          ],
          [
           "shredded coconut",
           "blueberries"
          ],
          [
           "shredded coconut",
           "chia seeds"
          ]
         ],
         "hovertemplate": "Ingredient 1=%{customdata[0]}<br>Rating=%{marker.size}<br>Score=%{y}<br>Ingredient 2=%{customdata[1]}<extra></extra>",
         "legendgroup": "shredded coconut",
         "marker": {
          "color": "#B6E880",
          "size": [
           4.5,
           4.5,
           4.5
          ],
          "sizemode": "area",
          "sizeref": 0.0125,
          "symbol": "circle"
         },
         "mode": "markers",
         "name": "shredded coconut",
         "showlegend": true,
         "type": "scattergl",
         "x": [
          4.5,
          4.5,
          4.5
         ],
         "xaxis": "x",
         "y": [
          459.8,
          442.1,
          469.1
         ],
         "yaxis": "y"
        },
        {
         "customdata": [
          [
           "maple syrup",
           "blueberries"
          ],
          [
           "maple syrup",
           "chia seeds"
          ]
         ],
         "hovertemplate": "Ingredient 1=%{customdata[0]}<br>Rating=%{marker.size}<br>Score=%{y}<br>Ingredient 2=%{customdata[1]}<extra></extra>",
         "legendgroup": "maple syrup",
         "marker": {
          "color": "#FF97FF",
          "size": [
           4.5,
           4.5
          ],
          "sizemode": "area",
          "sizeref": 0.0125,
          "symbol": "circle"
         },
         "mode": "markers",
         "name": "maple syrup",
         "showlegend": true,
         "type": "scattergl",
         "x": [
          4.5,
          4.5
         ],
         "xaxis": "x",
         "y": [
          467.8,
          462.1
         ],
         "yaxis": "y"
        },
        {
         "customdata": [
          [
           "blueberries",
           "chia seeds"
          ]
         ],
         "hovertemplate": "Ingredient 1=%{customdata[0]}<br>Rating=%{marker.size}<br>Score=%{y}<br>Ingredient 2=%{customdata[1]}<extra></extra>",
         "legendgroup": "blueberries",
         "marker": {
          "color": "#FECB52",
          "size": [
           4.5
          ],
          "sizemode": "area",
          "sizeref": 0.0125,
          "symbol": "circle"
         },
         "mode": "markers",
         "name": "blueberries",
         "showlegend": true,
         "type": "scattergl",
         "x": [
          4.5
         ],
         "xaxis": "x",
         "y": [
          467.2
         ],
         "yaxis": "y"
        },
        {
         "customdata": [
          [
           "shiitake mushroom caps",
           "toasted sesame seeds"
          ],
          [
           "shiitake mushroom caps",
           "ground black pepper"
          ],
          [
           "shiitake mushroom caps",
           "cilantro leaves"
          ],
          [
           "shiitake mushroom caps",
           "dark sesame oil"
          ],
          [
           "shiitake mushroom caps",
           "napa cabbage"
          ],
          [
           "shiitake mushroom caps",
           "soy sauce"
          ]
         ],
         "hovertemplate": "Ingredient 1=%{customdata[0]}<br>Rating=%{marker.size}<br>Score=%{y}<br>Ingredient 2=%{customdata[1]}<extra></extra>",
         "legendgroup": "shiitake mushroom caps",
         "marker": {
          "color": "#636efa",
          "size": [
           3.7,
           3.7,
           3.7,
           3.7,
           3.7,
           3.7
          ],
          "sizemode": "area",
          "sizeref": 0.0125,
          "symbol": "circle"
         },
         "mode": "markers",
         "name": "shiitake mushroom caps",
         "showlegend": true,
         "type": "scattergl",
         "x": [
          3.7,
          3.7,
          3.7,
          3.7,
          3.7,
          3.7
         ],
         "xaxis": "x",
         "y": [
          386.1,
          376.6,
          365.1,
          358.6,
          378.5,
          383.8
         ],
         "yaxis": "y"
        },
        {
         "customdata": [
          [
           "toasted sesame seeds",
           "ground black pepper"
          ],
          [
           "toasted sesame seeds",
           "cilantro leaves"
          ],
          [
           "toasted sesame seeds",
           "dark sesame oil"
          ],
          [
           "toasted sesame seeds",
           "napa cabbage"
          ],
          [
           "toasted sesame seeds",
           "soy sauce"
          ]
         ],
         "hovertemplate": "Ingredient 1=%{customdata[0]}<br>Rating=%{marker.size}<br>Score=%{y}<br>Ingredient 2=%{customdata[1]}<extra></extra>",
         "legendgroup": "toasted sesame seeds",
         "marker": {
          "color": "#EF553B",
          "size": [
           3.7,
           3.7,
           3.7,
           3.7,
           3.7
          ],
          "sizemode": "area",
          "sizeref": 0.0125,
          "symbol": "circle"
         },
         "mode": "markers",
         "name": "toasted sesame seeds",
         "showlegend": true,
         "type": "scattergl",
         "x": [
          3.7,
          3.7,
          3.7,
          3.7,
          3.7
         ],
         "xaxis": "x",
         "y": [
          364.5,
          355.2,
          391,
          368.6,
          384.3
         ],
         "yaxis": "y"
        },
        {
         "customdata": [
          [
           "cilantro leaves",
           "dark sesame oil"
          ],
          [
           "cilantro leaves",
           "napa cabbage"
          ],
          [
           "cilantro leaves",
           "soy sauce"
          ]
         ],
         "hovertemplate": "Ingredient 1=%{customdata[0]}<br>Rating=%{marker.size}<br>Score=%{y}<br>Ingredient 2=%{customdata[1]}<extra></extra>",
         "legendgroup": "cilantro leaves",
         "marker": {
          "color": "#00cc96",
          "size": [
           3.7,
           3.7,
           3.7
          ],
          "sizemode": "area",
          "sizeref": 0.0125,
          "symbol": "circle"
         },
         "mode": "markers",
         "name": "cilantro leaves",
         "showlegend": true,
         "type": "scattergl",
         "x": [
          3.7,
          3.7,
          3.7
         ],
         "xaxis": "x",
         "y": [
          376.4,
          389.3,
          376.2
         ],
         "yaxis": "y"
        },
        {
         "customdata": [
          [
           "dark sesame oil",
           "napa cabbage"
          ],
          [
           "dark sesame oil",
           "soy sauce"
          ]
         ],
         "hovertemplate": "Ingredient 1=%{customdata[0]}<br>Rating=%{marker.size}<br>Score=%{y}<br>Ingredient 2=%{customdata[1]}<extra></extra>",
         "legendgroup": "dark sesame oil",
         "marker": {
          "color": "#ab63fa",
          "size": [
           3.7,
           3.7
          ],
          "sizemode": "area",
          "sizeref": 0.0125,
          "symbol": "circle"
         },
         "mode": "markers",
         "name": "dark sesame oil",
         "showlegend": true,
         "type": "scattergl",
         "x": [
          3.7,
          3.7
         ],
         "xaxis": "x",
         "y": [
          361.5,
          363.7
         ],
         "yaxis": "y"
        },
        {
         "customdata": [
          [
           "napa cabbage",
           "soy sauce"
          ]
         ],
         "hovertemplate": "Ingredient 1=%{customdata[0]}<br>Rating=%{marker.size}<br>Score=%{y}<br>Ingredient 2=%{customdata[1]}<extra></extra>",
         "legendgroup": "napa cabbage",
         "marker": {
          "color": "#FFA15A",
          "size": [
           3.7
          ],
          "sizemode": "area",
          "sizeref": 0.0125,
          "symbol": "circle"
         },
         "mode": "markers",
         "name": "napa cabbage",
         "showlegend": true,
         "type": "scattergl",
         "x": [
          3.7
         ],
         "xaxis": "x",
         "y": [
          366.8
         ],
         "yaxis": "y"
        },
        {
         "customdata": [
          [
           "ground white pepper",
           "all-purpose flour"
          ],
          [
           "ground white pepper",
           "roasted cashews"
          ],
          [
           "ground white pepper",
           "cooked chicken"
          ],
          [
           "ground white pepper",
           "baby broccoli"
          ],
          [
           "ground white pepper",
           "chicken broth"
          ],
          [
           "ground white pepper",
           "jasmine rice"
          ],
          [
           "ground white pepper",
           "tarragon"
          ],
          [
           "ground white pepper",
           "butter"
          ],
          [
           "ground white pepper",
           "salt"
          ]
         ],
         "hovertemplate": "Ingredient 1=%{customdata[0]}<br>Rating=%{marker.size}<br>Score=%{y}<br>Ingredient 2=%{customdata[1]}<extra></extra>",
         "legendgroup": "ground white pepper",
         "marker": {
          "color": "#19d3f3",
          "size": [
           3.5,
           3.5,
           3.5,
           3.5,
           3.5,
           3.5,
           3.5,
           3.5,
           3.5
          ],
          "sizemode": "area",
          "sizeref": 0.0125,
          "symbol": "circle"
         },
         "mode": "markers",
         "name": "ground white pepper",
         "showlegend": true,
         "type": "scattergl",
         "x": [
          3.5,
          3.5,
          3.5,
          3.5,
          3.5,
          3.5,
          3.5,
          3.5,
          3.5
         ],
         "xaxis": "x",
         "y": [
          367.3,
          333.2,
          332.3,
          332.8,
          369.2,
          366.6,
          359.4,
          355.5,
          339
         ],
         "yaxis": "y"
        },
        {
         "customdata": [
          [
           "roasted cashews",
           "cooked chicken"
          ],
          [
           "roasted cashews",
           "baby broccoli"
          ],
          [
           "roasted cashews",
           "chicken broth"
          ],
          [
           "roasted cashews",
           "jasmine rice"
          ],
          [
           "roasted cashews",
           "tarragon"
          ],
          [
           "roasted cashews",
           "butter"
          ],
          [
           "roasted cashews",
           "salt"
          ]
         ],
         "hovertemplate": "Ingredient 1=%{customdata[0]}<br>Rating=%{marker.size}<br>Score=%{y}<br>Ingredient 2=%{customdata[1]}<extra></extra>",
         "legendgroup": "roasted cashews",
         "marker": {
          "color": "#FF6692",
          "size": [
           3.5,
           3.5,
           3.5,
           3.5,
           3.5,
           3.5,
           3.5
          ],
          "sizemode": "area",
          "sizeref": 0.0125,
          "symbol": "circle"
         },
         "mode": "markers",
         "name": "roasted cashews",
         "showlegend": true,
         "type": "scattergl",
         "x": [
          3.5,
          3.5,
          3.5,
          3.5,
          3.5,
          3.5,
          3.5
         ],
         "xaxis": "x",
         "y": [
          334.3,
          338.7,
          366.9,
          341.5,
          339.1,
          351.7,
          365.7
         ],
         "yaxis": "y"
        },
        {
         "customdata": [
          [
           "cooked chicken",
           "baby broccoli"
          ],
          [
           "cooked chicken",
           "chicken broth"
          ],
          [
           "cooked chicken",
           "jasmine rice"
          ],
          [
           "cooked chicken",
           "tarragon"
          ],
          [
           "cooked chicken",
           "butter"
          ],
          [
           "cooked chicken",
           "salt"
          ]
         ],
         "hovertemplate": "Ingredient 1=%{customdata[0]}<br>Rating=%{marker.size}<br>Score=%{y}<br>Ingredient 2=%{customdata[1]}<extra></extra>",
         "legendgroup": "cooked chicken",
         "marker": {
          "color": "#B6E880",
          "size": [
           3.5,
           3.5,
           3.5,
           3.5,
           3.5,
           3.5
          ],
          "sizemode": "area",
          "sizeref": 0.0125,
          "symbol": "circle"
         },
         "mode": "markers",
         "name": "cooked chicken",
         "showlegend": true,
         "type": "scattergl",
         "x": [
          3.5,
          3.5,
          3.5,
          3.5,
          3.5,
          3.5
         ],
         "xaxis": "x",
         "y": [
          353.7,
          355.4,
          340,
          349,
          352.4,
          367.5
         ],
         "yaxis": "y"
        },
        {
         "customdata": [
          [
           "baby broccoli",
           "chicken broth"
          ],
          [
           "baby broccoli",
           "jasmine rice"
          ],
          [
           "baby broccoli",
           "tarragon"
          ],
          [
           "baby broccoli",
           "butter"
          ],
          [
           "baby broccoli",
           "salt"
          ]
         ],
         "hovertemplate": "Ingredient 1=%{customdata[0]}<br>Rating=%{marker.size}<br>Score=%{y}<br>Ingredient 2=%{customdata[1]}<extra></extra>",
         "legendgroup": "baby broccoli",
         "marker": {
          "color": "#FF97FF",
          "size": [
           3.5,
           3.5,
           3.5,
           3.5,
           3.5
          ],
          "sizemode": "area",
          "sizeref": 0.0125,
          "symbol": "circle"
         },
         "mode": "markers",
         "name": "baby broccoli",
         "showlegend": true,
         "type": "scattergl",
         "x": [
          3.5,
          3.5,
          3.5,
          3.5,
          3.5
         ],
         "xaxis": "x",
         "y": [
          342.5,
          357,
          362.8,
          361.8,
          366.9
         ],
         "yaxis": "y"
        },
        {
         "customdata": [
          [
           "jasmine rice",
           "tarragon"
          ],
          [
           "jasmine rice",
           "butter"
          ],
          [
           "jasmine rice",
           "salt"
          ],
          [
           "jasmine rice",
           "tomato sauce"
          ],
          [
           "jasmine rice",
           "garlic salt"
          ],
          [
           "jasmine rice",
           "lime juice"
          ],
          [
           "jasmine rice",
           "olive oil"
          ],
          [
           "jasmine rice",
           "water"
          ]
         ],
         "hovertemplate": "Ingredient 1=%{customdata[0]}<br>Rating=%{marker.size}<br>Score=%{y}<br>Ingredient 2=%{customdata[1]}<extra></extra>",
         "legendgroup": "jasmine rice",
         "marker": {
          "color": "#FECB52",
          "size": [
           3.5,
           3.5,
           3.5,
           4.6,
           4.6,
           4.6,
           4.6,
           4.6
          ],
          "sizemode": "area",
          "sizeref": 0.0125,
          "symbol": "circle"
         },
         "mode": "markers",
         "name": "jasmine rice",
         "showlegend": true,
         "type": "scattergl",
         "x": [
          3.5,
          3.5,
          3.5,
          4.6,
          4.6,
          4.6,
          4.6,
          4.6
         ],
         "xaxis": "x",
         "y": [
          333.6,
          344.6,
          358.5,
          503.3999999999999,
          492.49999999999994,
          476.19999999999993,
          470.99999999999994,
          498.79999999999995
         ],
         "yaxis": "y"
        },
        {
         "customdata": [
          [
           "tarragon",
           "butter"
          ],
          [
           "tarragon",
           "salt"
          ]
         ],
         "hovertemplate": "Ingredient 1=%{customdata[0]}<br>Rating=%{marker.size}<br>Score=%{y}<br>Ingredient 2=%{customdata[1]}<extra></extra>",
         "legendgroup": "tarragon",
         "marker": {
          "color": "#636efa",
          "size": [
           3.5,
           3.5
          ],
          "sizemode": "area",
          "sizeref": 0.0125,
          "symbol": "circle"
         },
         "mode": "markers",
         "name": "tarragon",
         "showlegend": true,
         "type": "scattergl",
         "x": [
          3.5,
          3.5
         ],
         "xaxis": "x",
         "y": [
          362.2,
          349.9
         ],
         "yaxis": "y"
        },
        {
         "customdata": [
          [
           "peach pie filling",
           "yellow cake mix"
          ],
          [
           "peach pie filling",
           "butter"
          ],
          [
           "peach pie filling",
           "pecans"
          ]
         ],
         "hovertemplate": "Ingredient 1=%{customdata[0]}<br>Rating=%{marker.size}<br>Score=%{y}<br>Ingredient 2=%{customdata[1]}<extra></extra>",
         "legendgroup": "peach pie filling",
         "marker": {
          "color": "#EF553B",
          "size": [
           5,
           5,
           5
          ],
          "sizemode": "area",
          "sizeref": 0.0125,
          "symbol": "circle"
         },
         "mode": "markers",
         "name": "peach pie filling",
         "showlegend": true,
         "type": "scattergl",
         "x": [
          5,
          5,
          5
         ],
         "xaxis": "x",
         "y": [
          494,
          488.6,
          489
         ],
         "yaxis": "y"
        },
        {
         "customdata": [
          [
           "yellow cake mix",
           "butter"
          ],
          [
           "yellow cake mix",
           "pecans"
          ]
         ],
         "hovertemplate": "Ingredient 1=%{customdata[0]}<br>Rating=%{marker.size}<br>Score=%{y}<br>Ingredient 2=%{customdata[1]}<extra></extra>",
         "legendgroup": "yellow cake mix",
         "marker": {
          "color": "#00cc96",
          "size": [
           5,
           5
          ],
          "sizemode": "area",
          "sizeref": 0.0125,
          "symbol": "circle"
         },
         "mode": "markers",
         "name": "yellow cake mix",
         "showlegend": true,
         "type": "scattergl",
         "x": [
          5,
          5
         ],
         "xaxis": "x",
         "y": [
          513.6,
          488
         ],
         "yaxis": "y"
        },
        {
         "customdata": [
          [
           "vegetable broth",
           "chipotle chile"
          ],
          [
           "vegetable broth",
           "smoked paprika"
          ],
          [
           "vegetable broth",
           "dried oregano"
          ],
          [
           "vegetable broth",
           "vegetable oil"
          ],
          [
           "vegetable broth",
           "cider vinegar"
          ],
          [
           "vegetable broth",
           "ground cumin"
          ],
          [
           "vegetable broth",
           "chile pepper"
          ],
          [
           "vegetable broth",
           "kosher salt"
          ],
          [
           "vegetable broth",
           "annatto"
          ],
          [
           "vegetable broth",
           "achiote"
          ],
          [
           "vegetable broth",
           "garlic"
          ],
          [
           "vegetable broth",
           "quinoa"
          ],
          [
           "vegetable broth",
           "onion"
          ]
         ],
         "hovertemplate": "Ingredient 1=%{customdata[0]}<br>Rating=%{marker.size}<br>Score=%{y}<br>Ingredient 2=%{customdata[1]}<extra></extra>",
         "legendgroup": "vegetable broth",
         "marker": {
          "color": "#ab63fa",
          "size": [
           4,
           4,
           4,
           4,
           4,
           4,
           4,
           4,
           4,
           4,
           4,
           4,
           4
          ],
          "sizemode": "area",
          "sizeref": 0.0125,
          "symbol": "circle"
         },
         "mode": "markers",
         "name": "vegetable broth",
         "showlegend": true,
         "type": "scattergl",
         "x": [
          4,
          4,
          4,
          4,
          4,
          4,
          4,
          4,
          4,
          4,
          4,
          4,
          4
         ],
         "xaxis": "x",
         "y": [
          388.6,
          405.4,
          414.9,
          404.8,
          414.7,
          406.8,
          406,
          413.6,
          408.2,
          411.1,
          414.7,
          401.6,
          397.3
         ],
         "yaxis": "y"
        },
        {
         "customdata": [
          [
           "chipotle chile",
           "smoked paprika"
          ],
          [
           "chipotle chile",
           "dried oregano"
          ],
          [
           "chipotle chile",
           "vegetable oil"
          ],
          [
           "chipotle chile",
           "cider vinegar"
          ],
          [
           "chipotle chile",
           "ground cumin"
          ],
          [
           "chipotle chile",
           "chile pepper"
          ],
          [
           "chipotle chile",
           "kosher salt"
          ],
          [
           "chipotle chile",
           "annatto"
          ],
          [
           "chipotle chile",
           "achiote"
          ],
          [
           "chipotle chile",
           "garlic"
          ],
          [
           "chipotle chile",
           "quinoa"
          ],
          [
           "chipotle chile",
           "onion"
          ],
          [
           "chipotle chile",
           "corn tortillas"
          ],
          [
           "chipotle chile",
           "serrano chile"
          ],
          [
           "chipotle chile",
           "vegetable oil"
          ],
          [
           "chipotle chile",
           "chile pepper"
          ],
          [
           "chipotle chile",
           "clove garlic"
          ],
          [
           "chipotle chile",
           "adobo sauce"
          ],
          [
           "chipotle chile",
           "olive oil"
          ],
          [
           "chipotle chile",
           "onion"
          ]
         ],
         "hovertemplate": "Ingredient 1=%{customdata[0]}<br>Rating=%{marker.size}<br>Score=%{y}<br>Ingredient 2=%{customdata[1]}<extra></extra>",
         "legendgroup": "chipotle chile",
         "marker": {
          "color": "#FFA15A",
          "size": [
           4,
           4,
           4,
           4,
           4,
           4,
           4,
           4,
           4,
           4,
           4,
           4,
           5,
           5,
           5,
           5,
           5,
           5,
           5,
           5
          ],
          "sizemode": "area",
          "sizeref": 0.0125,
          "symbol": "circle"
         },
         "mode": "markers",
         "name": "chipotle chile",
         "showlegend": true,
         "type": "scattergl",
         "x": [
          4,
          4,
          4,
          4,
          4,
          4,
          4,
          4,
          4,
          4,
          4,
          4,
          5,
          5,
          5,
          5,
          5,
          5,
          5,
          5
         ],
         "xaxis": "x",
         "y": [
          387.1,
          400.8,
          418.3,
          399.9,
          418.8,
          418.4,
          391.2,
          419,
          397.6,
          408.7,
          398.7,
          418.1,
          522.6,
          500.4,
          501.8,
          509.7,
          521.7,
          508.8,
          515.8,
          502.3
         ],
         "yaxis": "y"
        },
        {
         "customdata": [
          [
           "smoked paprika",
           "dried oregano"
          ],
          [
           "smoked paprika",
           "vegetable oil"
          ],
          [
           "smoked paprika",
           "cider vinegar"
          ],
          [
           "smoked paprika",
           "ground cumin"
          ],
          [
           "smoked paprika",
           "chile pepper"
          ],
          [
           "smoked paprika",
           "kosher salt"
          ],
          [
           "smoked paprika",
           "annatto"
          ],
          [
           "smoked paprika",
           "achiote"
          ],
          [
           "smoked paprika",
           "garlic"
          ],
          [
           "smoked paprika",
           "quinoa"
          ],
          [
           "smoked paprika",
           "onion"
          ]
         ],
         "hovertemplate": "Ingredient 1=%{customdata[0]}<br>Rating=%{marker.size}<br>Score=%{y}<br>Ingredient 2=%{customdata[1]}<extra></extra>",
         "legendgroup": "smoked paprika",
         "marker": {
          "color": "#19d3f3",
          "size": [
           4,
           4,
           4,
           4,
           4,
           4,
           4,
           4,
           4,
           4,
           4
          ],
          "sizemode": "area",
          "sizeref": 0.0125,
          "symbol": "circle"
         },
         "mode": "markers",
         "name": "smoked paprika",
         "showlegend": true,
         "type": "scattergl",
         "x": [
          4,
          4,
          4,
          4,
          4,
          4,
          4,
          4,
          4,
          4,
          4
         ],
         "xaxis": "x",
         "y": [
          405.3,
          409.8,
          391.1,
          388.1,
          384.3,
          405.2,
          417,
          415.5,
          396.3,
          418.2,
          400.2
         ],
         "yaxis": "y"
        },
        {
         "customdata": [
          [
           "dried oregano",
           "vegetable oil"
          ],
          [
           "dried oregano",
           "cider vinegar"
          ],
          [
           "dried oregano",
           "ground cumin"
          ],
          [
           "dried oregano",
           "chile pepper"
          ],
          [
           "dried oregano",
           "kosher salt"
          ],
          [
           "dried oregano",
           "annatto"
          ],
          [
           "dried oregano",
           "achiote"
          ],
          [
           "dried oregano",
           "garlic"
          ],
          [
           "dried oregano",
           "quinoa"
          ],
          [
           "dried oregano",
           "onion"
          ]
         ],
         "hovertemplate": "Ingredient 1=%{customdata[0]}<br>Rating=%{marker.size}<br>Score=%{y}<br>Ingredient 2=%{customdata[1]}<extra></extra>",
         "legendgroup": "dried oregano",
         "marker": {
          "color": "#FF6692",
          "size": [
           4,
           4,
           4,
           4,
           4,
           4,
           4,
           4,
           4,
           4
          ],
          "sizemode": "area",
          "sizeref": 0.0125,
          "symbol": "circle"
         },
         "mode": "markers",
         "name": "dried oregano",
         "showlegend": true,
         "type": "scattergl",
         "x": [
          4,
          4,
          4,
          4,
          4,
          4,
          4,
          4,
          4,
          4
         ],
         "xaxis": "x",
         "y": [
          396.9,
          388.3,
          408.4,
          400.6,
          393.6,
          418.4,
          407.6,
          406,
          399.6,
          415.2
         ],
         "yaxis": "y"
        },
        {
         "customdata": [
          [
           "cider vinegar",
           "ground cumin"
          ],
          [
           "cider vinegar",
           "chile pepper"
          ],
          [
           "cider vinegar",
           "kosher salt"
          ],
          [
           "cider vinegar",
           "annatto"
          ],
          [
           "cider vinegar",
           "achiote"
          ],
          [
           "cider vinegar",
           "garlic"
          ],
          [
           "cider vinegar",
           "quinoa"
          ],
          [
           "cider vinegar",
           "onion"
          ]
         ],
         "hovertemplate": "Ingredient 1=%{customdata[0]}<br>Rating=%{marker.size}<br>Score=%{y}<br>Ingredient 2=%{customdata[1]}<extra></extra>",
         "legendgroup": "cider vinegar",
         "marker": {
          "color": "#B6E880",
          "size": [
           4,
           4,
           4,
           4,
           4,
           4,
           4,
           4
          ],
          "sizemode": "area",
          "sizeref": 0.0125,
          "symbol": "circle"
         },
         "mode": "markers",
         "name": "cider vinegar",
         "showlegend": true,
         "type": "scattergl",
         "x": [
          4,
          4,
          4,
          4,
          4,
          4,
          4,
          4
         ],
         "xaxis": "x",
         "y": [
          387.2,
          401.5,
          404.3,
          401.2,
          383.4,
          414.6,
          411.4,
          384.6
         ],
         "yaxis": "y"
        },
        {
         "customdata": [
          [
           "chile pepper",
           "kosher salt"
          ],
          [
           "chile pepper",
           "annatto"
          ],
          [
           "chile pepper",
           "achiote"
          ],
          [
           "chile pepper",
           "garlic"
          ],
          [
           "chile pepper",
           "quinoa"
          ],
          [
           "chile pepper",
           "onion"
          ],
          [
           "chile pepper",
           "clove garlic"
          ],
          [
           "chile pepper",
           "adobo sauce"
          ],
          [
           "chile pepper",
           "olive oil"
          ],
          [
           "chile pepper",
           "onion"
          ]
         ],
         "hovertemplate": "Ingredient 1=%{customdata[0]}<br>Rating=%{marker.size}<br>Score=%{y}<br>Ingredient 2=%{customdata[1]}<extra></extra>",
         "legendgroup": "chile pepper",
         "marker": {
          "color": "#FF97FF",
          "size": [
           4,
           4,
           4,
           4,
           4,
           4,
           5,
           5,
           5,
           5
          ],
          "sizemode": "area",
          "sizeref": 0.0125,
          "symbol": "circle"
         },
         "mode": "markers",
         "name": "chile pepper",
         "showlegend": true,
         "type": "scattergl",
         "x": [
          4,
          4,
          4,
          4,
          4,
          4,
          5,
          5,
          5,
          5
         ],
         "xaxis": "x",
         "y": [
          418.6,
          402.4,
          390.1,
          391,
          398.9,
          391.5,
          499.5,
          488.5,
          524.5,
          505.4
         ],
         "yaxis": "y"
        },
        {
         "customdata": [
          [
           "annatto",
           "achiote"
          ],
          [
           "annatto",
           "garlic"
          ],
          [
           "annatto",
           "quinoa"
          ],
          [
           "annatto",
           "onion"
          ]
         ],
         "hovertemplate": "Ingredient 1=%{customdata[0]}<br>Rating=%{marker.size}<br>Score=%{y}<br>Ingredient 2=%{customdata[1]}<extra></extra>",
         "legendgroup": "annatto",
         "marker": {
          "color": "#FECB52",
          "size": [
           4,
           4,
           4,
           4
          ],
          "sizemode": "area",
          "sizeref": 0.0125,
          "symbol": "circle"
         },
         "mode": "markers",
         "name": "annatto",
         "showlegend": true,
         "type": "scattergl",
         "x": [
          4,
          4,
          4,
          4
         ],
         "xaxis": "x",
         "y": [
          393.2,
          395.4,
          416.9,
          387.9
         ],
         "yaxis": "y"
        },
        {
         "customdata": [
          [
           "achiote",
           "garlic"
          ],
          [
           "achiote",
           "quinoa"
          ],
          [
           "achiote",
           "onion"
          ]
         ],
         "hovertemplate": "Ingredient 1=%{customdata[0]}<br>Rating=%{marker.size}<br>Score=%{y}<br>Ingredient 2=%{customdata[1]}<extra></extra>",
         "legendgroup": "achiote",
         "marker": {
          "color": "#636efa",
          "size": [
           4,
           4,
           4
          ],
          "sizemode": "area",
          "sizeref": 0.0125,
          "symbol": "circle"
         },
         "mode": "markers",
         "name": "achiote",
         "showlegend": true,
         "type": "scattergl",
         "x": [
          4,
          4,
          4
         ],
         "xaxis": "x",
         "y": [
          408.9,
          394.9,
          381.6
         ],
         "yaxis": "y"
        },
        {
         "customdata": [
          [
           "quinoa",
           "onion"
          ]
         ],
         "hovertemplate": "Ingredient 1=%{customdata[0]}<br>Rating=%{marker.size}<br>Score=%{y}<br>Ingredient 2=%{customdata[1]}<extra></extra>",
         "legendgroup": "quinoa",
         "marker": {
          "color": "#EF553B",
          "size": [
           4
          ],
          "sizemode": "area",
          "sizeref": 0.0125,
          "symbol": "circle"
         },
         "mode": "markers",
         "name": "quinoa",
         "showlegend": true,
         "type": "scattergl",
         "x": [
          4
         ],
         "xaxis": "x",
         "y": [
          384.3
         ],
         "yaxis": "y"
        },
        {
         "customdata": [
          [
           "sweet corn",
           "cilantro"
          ],
          [
           "sweet corn",
           "onion"
          ],
          [
           "sweet corn",
           "lime"
          ],
          [
           "sweet corn",
           "red"
          ]
         ],
         "hovertemplate": "Ingredient 1=%{customdata[0]}<br>Rating=%{marker.size}<br>Score=%{y}<br>Ingredient 2=%{customdata[1]}<extra></extra>",
         "legendgroup": "sweet corn",
         "marker": {
          "color": "#00cc96",
          "size": [
           4,
           4,
           4,
           4
          ],
          "sizemode": "area",
          "sizeref": 0.0125,
          "symbol": "circle"
         },
         "mode": "markers",
         "name": "sweet corn",
         "showlegend": true,
         "type": "scattergl",
         "x": [
          4,
          4,
          4,
          4
         ],
         "xaxis": "x",
         "y": [
          396.1,
          408.5,
          406.7,
          417.6
         ],
         "yaxis": "y"
        },
        {
         "customdata": [
          [
           "cilantro",
           "onion"
          ],
          [
           "cilantro",
           "lime"
          ],
          [
           "cilantro",
           "red"
          ],
          [
           "cilantro",
           "garlic"
          ],
          [
           "cilantro",
           "pepper"
          ],
          [
           "cilantro",
           "salt"
          ],
          [
           "cilantro",
           "lime"
          ],
          [
           "cilantro",
           "avocado"
          ],
          [
           "cilantro",
           "lime"
          ],
          [
           "cilantro",
           "salsa"
          ],
          [
           "cilantro",
           "eggs"
          ],
          [
           "cilantro",
           "lime"
          ]
         ],
         "hovertemplate": "Ingredient 1=%{customdata[0]}<br>Rating=%{marker.size}<br>Score=%{y}<br>Ingredient 2=%{customdata[1]}<extra></extra>",
         "legendgroup": "cilantro",
         "marker": {
          "color": "#ab63fa",
          "size": [
           4,
           4,
           4,
           4.5,
           4.5,
           4.5,
           4.5,
           5,
           5,
           4.5,
           4.5,
           4.5
          ],
          "sizemode": "area",
          "sizeref": 0.0125,
          "symbol": "circle"
         },
         "mode": "markers",
         "name": "cilantro",
         "showlegend": true,
         "type": "scattergl",
         "x": [
          4,
          4,
          4,
          4.5,
          4.5,
          4.5,
          4.5,
          5,
          5,
          4.5,
          4.5,
          4.5
         ],
         "xaxis": "x",
         "y": [
          412.9,
          391.7,
          419.6,
          437.7,
          435.9,
          436.7,
          438.8,
          500.4,
          500.7,
          450.4,
          437.4,
          457.5
         ],
         "yaxis": "y"
        },
        {
         "customdata": [
          [
           "Mexican cheese blend",
           "ground black pepper"
          ],
          [
           "Mexican cheese blend",
           "boneless chicken"
          ],
          [
           "Mexican cheese blend",
           "chicken breasts"
          ],
          [
           "Mexican cheese blend",
           "medium salsa"
          ],
          [
           "Mexican cheese blend",
           "jasmine rice"
          ],
          [
           "Mexican cheese blend",
           "tomato sauce"
          ],
          [
           "Mexican cheese blend",
           "garlic salt"
          ],
          [
           "Mexican cheese blend",
           "lime juice"
          ],
          [
           "Mexican cheese blend",
           "olive oil"
          ],
          [
           "Mexican cheese blend",
           "water"
          ],
          [
           "Mexican cheese blend",
           "ground black pepper"
          ],
          [
           "Mexican cheese blend",
           "flour tortillas"
          ],
          [
           "Mexican cheese blend",
           "pico de gallo"
          ],
          [
           "Mexican cheese blend",
           "vegetable oil"
          ],
          [
           "Mexican cheese blend",
           "garlic powder"
          ],
          [
           "Mexican cheese blend",
           "chili powder"
          ],
          [
           "Mexican cheese blend",
           "black beans"
          ],
          [
           "Mexican cheese blend",
           "sour cream"
          ],
          [
           "Mexican cheese blend",
           "cilantro"
          ],
          [
           "Mexican cheese blend",
           "salsa"
          ],
          [
           "Mexican cheese blend",
           "eggs"
          ],
          [
           "Mexican cheese blend",
           "lime"
          ]
         ],
         "hovertemplate": "Ingredient 1=%{customdata[0]}<br>Rating=%{marker.size}<br>Score=%{y}<br>Ingredient 2=%{customdata[1]}<extra></extra>",
         "legendgroup": "Mexican cheese blend",
         "marker": {
          "color": "#FFA15A",
          "size": [
           4.6,
           4.6,
           4.6,
           4.6,
           4.6,
           4.6,
           4.6,
           4.6,
           4.6,
           4.6,
           4.5,
           4.5,
           4.5,
           4.5,
           4.5,
           4.5,
           4.5,
           4.5,
           4.5,
           4.5,
           4.5,
           4.5
          ],
          "sizemode": "area",
          "sizeref": 0.0125,
          "symbol": "circle"
         },
         "mode": "markers",
         "name": "Mexican cheese blend",
         "showlegend": true,
         "type": "scattergl",
         "x": [
          4.6,
          4.6,
          4.6,
          4.6,
          4.6,
          4.6,
          4.6,
          4.6,
          4.6,
          4.6,
          4.5,
          4.5,
          4.5,
          4.5,
          4.5,
          4.5,
          4.5,
          4.5,
          4.5,
          4.5,
          4.5,
          4.5
         ],
         "xaxis": "x",
         "y": [
          481.29999999999995,
          477.8999999999999,
          499.49999999999994,
          479.3999999999999,
          469.29999999999995,
          485.8999999999999,
          485.3999999999999,
          476.8999999999999,
          493.79999999999995,
          499.8999999999999,
          437.2,
          456.9,
          468.6,
          452.5,
          440.3,
          436.9,
          444.2,
          454.3,
          459.5,
          461.2,
          462.9,
          442
         ],
         "yaxis": "y"
        },
        {
         "customdata": [
          [
           "boneless chicken",
           "chicken breasts"
          ],
          [
           "boneless chicken",
           "medium salsa"
          ],
          [
           "boneless chicken",
           "jasmine rice"
          ],
          [
           "boneless chicken",
           "tomato sauce"
          ],
          [
           "boneless chicken",
           "garlic salt"
          ],
          [
           "boneless chicken",
           "lime juice"
          ],
          [
           "boneless chicken",
           "olive oil"
          ],
          [
           "boneless chicken",
           "water"
          ]
         ],
         "hovertemplate": "Ingredient 1=%{customdata[0]}<br>Rating=%{marker.size}<br>Score=%{y}<br>Ingredient 2=%{customdata[1]}<extra></extra>",
         "legendgroup": "boneless chicken",
         "marker": {
          "color": "#19d3f3",
          "size": [
           4.6,
           4.6,
           4.6,
           4.6,
           4.6,
           4.6,
           4.6,
           4.6
          ],
          "sizemode": "area",
          "sizeref": 0.0125,
          "symbol": "circle"
         },
         "mode": "markers",
         "name": "boneless chicken",
         "showlegend": true,
         "type": "scattergl",
         "x": [
          4.6,
          4.6,
          4.6,
          4.6,
          4.6,
          4.6,
          4.6,
          4.6
         ],
         "xaxis": "x",
         "y": [
          502.79999999999995,
          496.8999999999999,
          482.59999999999997,
          496.09999999999997,
          502.8999999999999,
          475.59999999999997,
          491.19999999999993,
          504.09999999999997
         ],
         "yaxis": "y"
        },
        {
         "customdata": [
          [
           "chicken breasts",
           "medium salsa"
          ],
          [
           "chicken breasts",
           "jasmine rice"
          ],
          [
           "chicken breasts",
           "tomato sauce"
          ],
          [
           "chicken breasts",
           "garlic salt"
          ],
          [
           "chicken breasts",
           "lime juice"
          ],
          [
           "chicken breasts",
           "olive oil"
          ],
          [
           "chicken breasts",
           "water"
          ]
         ],
         "hovertemplate": "Ingredient 1=%{customdata[0]}<br>Rating=%{marker.size}<br>Score=%{y}<br>Ingredient 2=%{customdata[1]}<extra></extra>",
         "legendgroup": "chicken breasts",
         "marker": {
          "color": "#FF6692",
          "size": [
           4.6,
           4.6,
           4.6,
           4.6,
           4.6,
           4.6,
           4.6
          ],
          "sizemode": "area",
          "sizeref": 0.0125,
          "symbol": "circle"
         },
         "mode": "markers",
         "name": "chicken breasts",
         "showlegend": true,
         "type": "scattergl",
         "x": [
          4.6,
          4.6,
          4.6,
          4.6,
          4.6,
          4.6,
          4.6
         ],
         "xaxis": "x",
         "y": [
          497.49999999999994,
          475.99999999999994,
          481.69999999999993,
          465.29999999999995,
          492.19999999999993,
          502.99999999999994,
          481.19999999999993
         ],
         "yaxis": "y"
        },
        {
         "customdata": [
          [
           "medium salsa",
           "jasmine rice"
          ],
          [
           "medium salsa",
           "tomato sauce"
          ],
          [
           "medium salsa",
           "garlic salt"
          ],
          [
           "medium salsa",
           "lime juice"
          ],
          [
           "medium salsa",
           "olive oil"
          ],
          [
           "medium salsa",
           "water"
          ]
         ],
         "hovertemplate": "Ingredient 1=%{customdata[0]}<br>Rating=%{marker.size}<br>Score=%{y}<br>Ingredient 2=%{customdata[1]}<extra></extra>",
         "legendgroup": "medium salsa",
         "marker": {
          "color": "#B6E880",
          "size": [
           4.6,
           4.6,
           4.6,
           4.6,
           4.6,
           4.6
          ],
          "sizemode": "area",
          "sizeref": 0.0125,
          "symbol": "circle"
         },
         "mode": "markers",
         "name": "medium salsa",
         "showlegend": true,
         "type": "scattergl",
         "x": [
          4.6,
          4.6,
          4.6,
          4.6,
          4.6,
          4.6
         ],
         "xaxis": "x",
         "y": [
          500.69999999999993,
          485.59999999999997,
          503.69999999999993,
          478.79999999999995,
          472.79999999999995,
          481.8999999999999
         ],
         "yaxis": "y"
        },
        {
         "customdata": [
          [
           "tomato sauce",
           "garlic salt"
          ],
          [
           "tomato sauce",
           "lime juice"
          ],
          [
           "tomato sauce",
           "olive oil"
          ],
          [
           "tomato sauce",
           "water"
          ]
         ],
         "hovertemplate": "Ingredient 1=%{customdata[0]}<br>Rating=%{marker.size}<br>Score=%{y}<br>Ingredient 2=%{customdata[1]}<extra></extra>",
         "legendgroup": "tomato sauce",
         "marker": {
          "color": "#FF97FF",
          "size": [
           4.6,
           4.6,
           4.6,
           4.6
          ],
          "sizemode": "area",
          "sizeref": 0.0125,
          "symbol": "circle"
         },
         "mode": "markers",
         "name": "tomato sauce",
         "showlegend": true,
         "type": "scattergl",
         "x": [
          4.6,
          4.6,
          4.6,
          4.6
         ],
         "xaxis": "x",
         "y": [
          503.59999999999997,
          491.99999999999994,
          472.09999999999997,
          479.29999999999995
         ],
         "yaxis": "y"
        },
        {
         "customdata": [
          [
           "garlic salt",
           "lime juice"
          ],
          [
           "garlic salt",
           "olive oil"
          ],
          [
           "garlic salt",
           "water"
          ]
         ],
         "hovertemplate": "Ingredient 1=%{customdata[0]}<br>Rating=%{marker.size}<br>Score=%{y}<br>Ingredient 2=%{customdata[1]}<extra></extra>",
         "legendgroup": "garlic salt",
         "marker": {
          "color": "#FECB52",
          "size": [
           4.6,
           4.6,
           4.6
          ],
          "sizemode": "area",
          "sizeref": 0.0125,
          "symbol": "circle"
         },
         "mode": "markers",
         "name": "garlic salt",
         "showlegend": true,
         "type": "scattergl",
         "x": [
          4.6,
          4.6,
          4.6
         ],
         "xaxis": "x",
         "y": [
          498.59999999999997,
          468.59999999999997,
          490.69999999999993
         ],
         "yaxis": "y"
        },
        {
         "customdata": [
          [
           "lime juice",
           "olive oil"
          ],
          [
           "lime juice",
           "water"
          ]
         ],
         "hovertemplate": "Ingredient 1=%{customdata[0]}<br>Rating=%{marker.size}<br>Score=%{y}<br>Ingredient 2=%{customdata[1]}<extra></extra>",
         "legendgroup": "lime juice",
         "marker": {
          "color": "#636efa",
          "size": [
           4.6,
           4.6
          ],
          "sizemode": "area",
          "sizeref": 0.0125,
          "symbol": "circle"
         },
         "mode": "markers",
         "name": "lime juice",
         "showlegend": true,
         "type": "scattergl",
         "x": [
          4.6,
          4.6
         ],
         "xaxis": "x",
         "y": [
          485.59999999999997,
          501.8999999999999
         ],
         "yaxis": "y"
        },
        {
         "customdata": [
          [
           "green onions",
           "white sugar"
          ],
          [
           "green onions",
           "olive oil"
          ],
          [
           "green onions",
           "cilantro"
          ],
          [
           "green onions",
           "garlic"
          ],
          [
           "green onions",
           "pepper"
          ],
          [
           "green onions",
           "salt"
          ],
          [
           "green onions",
           "lime"
          ],
          [
           "green onions",
           "puff pastry"
          ],
          [
           "green onions",
           "large eggs"
          ],
          [
           "green onions",
           "Sriracha"
          ],
          [
           "green onions",
           "pepper"
          ],
          [
           "green onions",
           "cheese"
          ],
          [
           "green onions",
           "salt"
          ]
         ],
         "hovertemplate": "Ingredient 1=%{customdata[0]}<br>Rating=%{marker.size}<br>Score=%{y}<br>Ingredient 2=%{customdata[1]}<extra></extra>",
         "legendgroup": "green onions",
         "marker": {
          "color": "#EF553B",
          "size": [
           4.5,
           4.5,
           4.5,
           4.5,
           4.5,
           4.5,
           4.5,
           4.8,
           4.8,
           4.8,
           4.8,
           4.8,
           4.8
          ],
          "sizemode": "area",
          "sizeref": 0.0125,
          "symbol": "circle"
         },
         "mode": "markers",
         "name": "green onions",
         "showlegend": true,
         "type": "scattergl",
         "x": [
          4.5,
          4.5,
          4.5,
          4.5,
          4.5,
          4.5,
          4.5,
          4.8,
          4.8,
          4.8,
          4.8,
          4.8,
          4.8
         ],
         "xaxis": "x",
         "y": [
          451.9,
          451,
          435.6,
          435.5,
          447.9,
          434.9,
          462.6,
          482.8,
          495.4,
          496.5,
          501.4,
          504.2,
          486.7
         ],
         "yaxis": "y"
        },
        {
         "customdata": [
          [
           "pepper",
           "salt"
          ],
          [
           "pepper",
           "lime"
          ],
          [
           "pepper",
           "cheese"
          ],
          [
           "pepper",
           "salt"
          ]
         ],
         "hovertemplate": "Ingredient 1=%{customdata[0]}<br>Rating=%{marker.size}<br>Score=%{y}<br>Ingredient 2=%{customdata[1]}<extra></extra>",
         "legendgroup": "pepper",
         "marker": {
          "color": "#00cc96",
          "size": [
           4.5,
           4.5,
           4.8,
           4.8
          ],
          "sizemode": "area",
          "sizeref": 0.0125,
          "symbol": "circle"
         },
         "mode": "markers",
         "name": "pepper",
         "showlegend": true,
         "type": "scattergl",
         "x": [
          4.5,
          4.5,
          4.8,
          4.8
         ],
         "xaxis": "x",
         "y": [
          471.2,
          455.2,
          483,
          468.4
         ],
         "yaxis": "y"
        },
        {
         "customdata": [
          [
           "white onion",
           "cilantro"
          ],
          [
           "white onion",
           "avocado"
          ],
          [
           "white onion",
           "lime"
          ]
         ],
         "hovertemplate": "Ingredient 1=%{customdata[0]}<br>Rating=%{marker.size}<br>Score=%{y}<br>Ingredient 2=%{customdata[1]}<extra></extra>",
         "legendgroup": "white onion",
         "marker": {
          "color": "#ab63fa",
          "size": [
           5,
           5,
           5
          ],
          "sizemode": "area",
          "sizeref": 0.0125,
          "symbol": "circle"
         },
         "mode": "markers",
         "name": "white onion",
         "showlegend": true,
         "type": "scattergl",
         "x": [
          5,
          5,
          5
         ],
         "xaxis": "x",
         "y": [
          505.1,
          489.1,
          499.6
         ],
         "yaxis": "y"
        },
        {
         "customdata": [
          [
           "biscuit dough",
           "cooking spray"
          ],
          [
           "biscuit dough",
           "cheese"
          ],
          [
           "biscuit dough",
           "gravy"
          ],
          [
           "biscuit dough",
           "salt"
          ],
          [
           "biscuit dough",
           "eggs"
          ],
          [
           "biscuit dough",
           "milk"
          ]
         ],
         "hovertemplate": "Ingredient 1=%{customdata[0]}<br>Rating=%{marker.size}<br>Score=%{y}<br>Ingredient 2=%{customdata[1]}<extra></extra>",
         "legendgroup": "biscuit dough",
         "marker": {
          "color": "#FFA15A",
          "size": [
           3.9,
           3.9,
           3.9,
           3.9,
           3.9,
           3.9
          ],
          "sizemode": "area",
          "sizeref": 0.0125,
          "symbol": "circle"
         },
         "mode": "markers",
         "name": "biscuit dough",
         "showlegend": true,
         "type": "scattergl",
         "x": [
          3.9,
          3.9,
          3.9,
          3.9,
          3.9,
          3.9
         ],
         "xaxis": "x",
         "y": [
          397.9,
          417.2,
          407.8,
          394.2,
          411,
          412.4
         ],
         "yaxis": "y"
        },
        {
         "customdata": [
          [
           "gravy",
           "salt"
          ],
          [
           "gravy",
           "eggs"
          ],
          [
           "gravy",
           "milk"
          ]
         ],
         "hovertemplate": "Ingredient 1=%{customdata[0]}<br>Rating=%{marker.size}<br>Score=%{y}<br>Ingredient 2=%{customdata[1]}<extra></extra>",
         "legendgroup": "gravy",
         "marker": {
          "color": "#19d3f3",
          "size": [
           3.9,
           3.9,
           3.9
          ],
          "sizemode": "area",
          "sizeref": 0.0125,
          "symbol": "circle"
         },
         "mode": "markers",
         "name": "gravy",
         "showlegend": true,
         "type": "scattergl",
         "x": [
          3.9,
          3.9,
          3.9
         ],
         "xaxis": "x",
         "y": [
          405.6,
          406.9,
          402.9
         ],
         "yaxis": "y"
        },
        {
         "customdata": [
          [
           "eggs",
           "milk"
          ],
          [
           "eggs",
           "lime"
          ]
         ],
         "hovertemplate": "Ingredient 1=%{customdata[0]}<br>Rating=%{marker.size}<br>Score=%{y}<br>Ingredient 2=%{customdata[1]}<extra></extra>",
         "legendgroup": "eggs",
         "marker": {
          "color": "#FF6692",
          "size": [
           3.9,
           4.5
          ],
          "sizemode": "area",
          "sizeref": 0.0125,
          "symbol": "circle"
         },
         "mode": "markers",
         "name": "eggs",
         "showlegend": true,
         "type": "scattergl",
         "x": [
          3.9,
          4.5
         ],
         "xaxis": "x",
         "y": [
          402,
          447.6
         ],
         "yaxis": "y"
        },
        {
         "customdata": [
          [
           "shredded mozzarella cheese",
           "frozen corn kernels"
          ],
          [
           "shredded mozzarella cheese",
           "red bell pepper"
          ],
          [
           "shredded mozzarella cheese",
           "chipotle chile"
          ],
          [
           "shredded mozzarella cheese",
           "corn tortillas"
          ],
          [
           "shredded mozzarella cheese",
           "serrano chile"
          ],
          [
           "shredded mozzarella cheese",
           "vegetable oil"
          ],
          [
           "shredded mozzarella cheese",
           "chile pepper"
          ],
          [
           "shredded mozzarella cheese",
           "clove garlic"
          ],
          [
           "shredded mozzarella cheese",
           "adobo sauce"
          ],
          [
           "shredded mozzarella cheese",
           "olive oil"
          ],
          [
           "shredded mozzarella cheese",
           "onion"
          ]
         ],
         "hovertemplate": "Ingredient 1=%{customdata[0]}<br>Rating=%{marker.size}<br>Score=%{y}<br>Ingredient 2=%{customdata[1]}<extra></extra>",
         "legendgroup": "shredded mozzarella cheese",
         "marker": {
          "color": "#B6E880",
          "size": [
           5,
           5,
           5,
           5,
           5,
           5,
           5,
           5,
           5,
           5,
           5
          ],
          "sizemode": "area",
          "sizeref": 0.0125,
          "symbol": "circle"
         },
         "mode": "markers",
         "name": "shredded mozzarella cheese",
         "showlegend": true,
         "type": "scattergl",
         "x": [
          5,
          5,
          5,
          5,
          5,
          5,
          5,
          5,
          5,
          5,
          5
         ],
         "xaxis": "x",
         "y": [
          512.8,
          496.1,
          514.4,
          522.5,
          495.8,
          515.9,
          486.5,
          488,
          488.8,
          517.7,
          500.5
         ],
         "yaxis": "y"
        },
        {
         "customdata": [
          [
           "frozen corn kernels",
           "red bell pepper"
          ],
          [
           "frozen corn kernels",
           "chipotle chile"
          ],
          [
           "frozen corn kernels",
           "corn tortillas"
          ],
          [
           "frozen corn kernels",
           "serrano chile"
          ],
          [
           "frozen corn kernels",
           "vegetable oil"
          ],
          [
           "frozen corn kernels",
           "chile pepper"
          ],
          [
           "frozen corn kernels",
           "clove garlic"
          ],
          [
           "frozen corn kernels",
           "adobo sauce"
          ],
          [
           "frozen corn kernels",
           "olive oil"
          ],
          [
           "frozen corn kernels",
           "onion"
          ]
         ],
         "hovertemplate": "Ingredient 1=%{customdata[0]}<br>Rating=%{marker.size}<br>Score=%{y}<br>Ingredient 2=%{customdata[1]}<extra></extra>",
         "legendgroup": "frozen corn kernels",
         "marker": {
          "color": "#FF97FF",
          "size": [
           5,
           5,
           5,
           5,
           5,
           5,
           5,
           5,
           5,
           5
          ],
          "sizemode": "area",
          "sizeref": 0.0125,
          "symbol": "circle"
         },
         "mode": "markers",
         "name": "frozen corn kernels",
         "showlegend": true,
         "type": "scattergl",
         "x": [
          5,
          5,
          5,
          5,
          5,
          5,
          5,
          5,
          5,
          5
         ],
         "xaxis": "x",
         "y": [
          516.6,
          493.1,
          487,
          493.8,
          494.5,
          504.7,
          486.5,
          488.2,
          502.5,
          514.8
         ],
         "yaxis": "y"
        },
        {
         "customdata": [
          [
           "red bell pepper",
           "chipotle chile"
          ],
          [
           "red bell pepper",
           "corn tortillas"
          ],
          [
           "red bell pepper",
           "serrano chile"
          ],
          [
           "red bell pepper",
           "vegetable oil"
          ],
          [
           "red bell pepper",
           "chile pepper"
          ],
          [
           "red bell pepper",
           "clove garlic"
          ],
          [
           "red bell pepper",
           "adobo sauce"
          ],
          [
           "red bell pepper",
           "olive oil"
          ],
          [
           "red bell pepper",
           "onion"
          ]
         ],
         "hovertemplate": "Ingredient 1=%{customdata[0]}<br>Rating=%{marker.size}<br>Score=%{y}<br>Ingredient 2=%{customdata[1]}<extra></extra>",
         "legendgroup": "red bell pepper",
         "marker": {
          "color": "#FECB52",
          "size": [
           5,
           5,
           5,
           5,
           5,
           5,
           5,
           5,
           5
          ],
          "sizemode": "area",
          "sizeref": 0.0125,
          "symbol": "circle"
         },
         "mode": "markers",
         "name": "red bell pepper",
         "showlegend": true,
         "type": "scattergl",
         "x": [
          5,
          5,
          5,
          5,
          5,
          5,
          5,
          5,
          5
         ],
         "xaxis": "x",
         "y": [
          504,
          489,
          507.5,
          494,
          499.9,
          502.3,
          503.6,
          515.2,
          504.4
         ],
         "yaxis": "y"
        },
        {
         "customdata": [
          [
           "corn tortillas",
           "serrano chile"
          ],
          [
           "corn tortillas",
           "vegetable oil"
          ],
          [
           "corn tortillas",
           "chile pepper"
          ],
          [
           "corn tortillas",
           "clove garlic"
          ],
          [
           "corn tortillas",
           "adobo sauce"
          ],
          [
           "corn tortillas",
           "olive oil"
          ],
          [
           "corn tortillas",
           "onion"
          ]
         ],
         "hovertemplate": "Ingredient 1=%{customdata[0]}<br>Rating=%{marker.size}<br>Score=%{y}<br>Ingredient 2=%{customdata[1]}<extra></extra>",
         "legendgroup": "corn tortillas",
         "marker": {
          "color": "#636efa",
          "size": [
           5,
           5,
           5,
           5,
           5,
           5,
           5
          ],
          "sizemode": "area",
          "sizeref": 0.0125,
          "symbol": "circle"
         },
         "mode": "markers",
         "name": "corn tortillas",
         "showlegend": true,
         "type": "scattergl",
         "x": [
          5,
          5,
          5,
          5,
          5,
          5,
          5
         ],
         "xaxis": "x",
         "y": [
          493,
          511,
          524.8,
          505.1,
          509.9,
          490.2,
          511.8
         ],
         "yaxis": "y"
        },
        {
         "customdata": [
          [
           "serrano chile",
           "vegetable oil"
          ],
          [
           "serrano chile",
           "chile pepper"
          ],
          [
           "serrano chile",
           "clove garlic"
          ],
          [
           "serrano chile",
           "adobo sauce"
          ],
          [
           "serrano chile",
           "olive oil"
          ],
          [
           "serrano chile",
           "onion"
          ]
         ],
         "hovertemplate": "Ingredient 1=%{customdata[0]}<br>Rating=%{marker.size}<br>Score=%{y}<br>Ingredient 2=%{customdata[1]}<extra></extra>",
         "legendgroup": "serrano chile",
         "marker": {
          "color": "#EF553B",
          "size": [
           5,
           5,
           5,
           5,
           5,
           5
          ],
          "sizemode": "area",
          "sizeref": 0.0125,
          "symbol": "circle"
         },
         "mode": "markers",
         "name": "serrano chile",
         "showlegend": true,
         "type": "scattergl",
         "x": [
          5,
          5,
          5,
          5,
          5,
          5
         ],
         "xaxis": "x",
         "y": [
          523.3,
          503.5,
          493.9,
          503.4,
          498.2,
          512.4
         ],
         "yaxis": "y"
        },
        {
         "customdata": [
          [
           "adobo sauce",
           "olive oil"
          ],
          [
           "adobo sauce",
           "onion"
          ]
         ],
         "hovertemplate": "Ingredient 1=%{customdata[0]}<br>Rating=%{marker.size}<br>Score=%{y}<br>Ingredient 2=%{customdata[1]}<extra></extra>",
         "legendgroup": "adobo sauce",
         "marker": {
          "color": "#00cc96",
          "size": [
           5,
           5
          ],
          "sizemode": "area",
          "sizeref": 0.0125,
          "symbol": "circle"
         },
         "mode": "markers",
         "name": "adobo sauce",
         "showlegend": true,
         "type": "scattergl",
         "x": [
          5,
          5
         ],
         "xaxis": "x",
         "y": [
          521.9,
          505.6
         ],
         "yaxis": "y"
        },
        {
         "customdata": [
          [
           "hot chili sauce",
           "green onions"
          ],
          [
           "hot chili sauce",
           "puff pastry"
          ],
          [
           "hot chili sauce",
           "large eggs"
          ],
          [
           "hot chili sauce",
           "Sriracha"
          ],
          [
           "hot chili sauce",
           "pepper"
          ],
          [
           "hot chili sauce",
           "cheese"
          ],
          [
           "hot chili sauce",
           "salt"
          ]
         ],
         "hovertemplate": "Ingredient 1=%{customdata[0]}<br>Rating=%{marker.size}<br>Score=%{y}<br>Ingredient 2=%{customdata[1]}<extra></extra>",
         "legendgroup": "hot chili sauce",
         "marker": {
          "color": "#ab63fa",
          "size": [
           4.8,
           4.8,
           4.8,
           4.8,
           4.8,
           4.8,
           4.8
          ],
          "sizemode": "area",
          "sizeref": 0.0125,
          "symbol": "circle"
         },
         "mode": "markers",
         "name": "hot chili sauce",
         "showlegend": true,
         "type": "scattergl",
         "x": [
          4.8,
          4.8,
          4.8,
          4.8,
          4.8,
          4.8,
          4.8
         ],
         "xaxis": "x",
         "y": [
          476.1,
          481.3,
          474,
          491,
          469.3,
          494.2,
          489
         ],
         "yaxis": "y"
        },
        {
         "customdata": [
          [
           "puff pastry",
           "large eggs"
          ],
          [
           "puff pastry",
           "Sriracha"
          ],
          [
           "puff pastry",
           "pepper"
          ],
          [
           "puff pastry",
           "cheese"
          ],
          [
           "puff pastry",
           "salt"
          ]
         ],
         "hovertemplate": "Ingredient 1=%{customdata[0]}<br>Rating=%{marker.size}<br>Score=%{y}<br>Ingredient 2=%{customdata[1]}<extra></extra>",
         "legendgroup": "puff pastry",
         "marker": {
          "color": "#FFA15A",
          "size": [
           4.8,
           4.8,
           4.8,
           4.8,
           4.8
          ],
          "sizemode": "area",
          "sizeref": 0.0125,
          "symbol": "circle"
         },
         "mode": "markers",
         "name": "puff pastry",
         "showlegend": true,
         "type": "scattergl",
         "x": [
          4.8,
          4.8,
          4.8,
          4.8,
          4.8
         ],
         "xaxis": "x",
         "y": [
          468.4,
          495.9,
          474.9,
          493.1,
          493.9
         ],
         "yaxis": "y"
        },
        {
         "customdata": [
          [
           "large eggs",
           "Sriracha"
          ],
          [
           "large eggs",
           "pepper"
          ],
          [
           "large eggs",
           "cheese"
          ],
          [
           "large eggs",
           "salt"
          ]
         ],
         "hovertemplate": "Ingredient 1=%{customdata[0]}<br>Rating=%{marker.size}<br>Score=%{y}<br>Ingredient 2=%{customdata[1]}<extra></extra>",
         "legendgroup": "large eggs",
         "marker": {
          "color": "#19d3f3",
          "size": [
           4.8,
           4.8,
           4.8,
           4.8
          ],
          "sizemode": "area",
          "sizeref": 0.0125,
          "symbol": "circle"
         },
         "mode": "markers",
         "name": "large eggs",
         "showlegend": true,
         "type": "scattergl",
         "x": [
          4.8,
          4.8,
          4.8,
          4.8
         ],
         "xaxis": "x",
         "y": [
          473,
          468.9,
          479.3,
          468.7
         ],
         "yaxis": "y"
        },
        {
         "customdata": [
          [
           "Sriracha",
           "pepper"
          ],
          [
           "Sriracha",
           "cheese"
          ],
          [
           "Sriracha",
           "salt"
          ]
         ],
         "hovertemplate": "Ingredient 1=%{customdata[0]}<br>Rating=%{marker.size}<br>Score=%{y}<br>Ingredient 2=%{customdata[1]}<extra></extra>",
         "legendgroup": "Sriracha",
         "marker": {
          "color": "#FF6692",
          "size": [
           4.8,
           4.8,
           4.8
          ],
          "sizemode": "area",
          "sizeref": 0.0125,
          "symbol": "circle"
         },
         "mode": "markers",
         "name": "Sriracha",
         "showlegend": true,
         "type": "scattergl",
         "x": [
          4.8,
          4.8,
          4.8
         ],
         "xaxis": "x",
         "y": [
          500.8,
          485.7,
          497.2
         ],
         "yaxis": "y"
        },
        {
         "customdata": [
          [
           "refrigerated seamless crescent dough",
           "garlic powder"
          ],
          [
           "refrigerated seamless crescent dough",
           "ground pepper"
          ],
          [
           "refrigerated seamless crescent dough",
           "cream cheese"
          ]
         ],
         "hovertemplate": "Ingredient 1=%{customdata[0]}<br>Rating=%{marker.size}<br>Score=%{y}<br>Ingredient 2=%{customdata[1]}<extra></extra>",
         "legendgroup": "refrigerated seamless crescent dough",
         "marker": {
          "color": "#B6E880",
          "size": [
           4.7,
           4.7,
           4.7
          ],
          "sizemode": "area",
          "sizeref": 0.0125,
          "symbol": "circle"
         },
         "mode": "markers",
         "name": "refrigerated seamless crescent dough",
         "showlegend": true,
         "type": "scattergl",
         "x": [
          4.7,
          4.7,
          4.7
         ],
         "xaxis": "x",
         "y": [
          474.2,
          490.7,
          489.6
         ],
         "yaxis": "y"
        },
        {
         "customdata": [
          [
           "ground pepper",
           "cream cheese"
          ]
         ],
         "hovertemplate": "Ingredient 1=%{customdata[0]}<br>Rating=%{marker.size}<br>Score=%{y}<br>Ingredient 2=%{customdata[1]}<extra></extra>",
         "legendgroup": "ground pepper",
         "marker": {
          "color": "#FF97FF",
          "size": [
           4.7
          ],
          "sizemode": "area",
          "sizeref": 0.0125,
          "symbol": "circle"
         },
         "mode": "markers",
         "name": "ground pepper",
         "showlegend": true,
         "type": "scattergl",
         "x": [
          4.7
         ],
         "xaxis": "x",
         "y": [
          494.6
         ],
         "yaxis": "y"
        },
        {
         "customdata": [
          [
           "flour tortillas",
           "pico de gallo"
          ],
          [
           "flour tortillas",
           "vegetable oil"
          ],
          [
           "flour tortillas",
           "garlic powder"
          ],
          [
           "flour tortillas",
           "chili powder"
          ],
          [
           "flour tortillas",
           "black beans"
          ],
          [
           "flour tortillas",
           "sour cream"
          ],
          [
           "flour tortillas",
           "cilantro"
          ],
          [
           "flour tortillas",
           "salsa"
          ],
          [
           "flour tortillas",
           "eggs"
          ],
          [
           "flour tortillas",
           "lime"
          ]
         ],
         "hovertemplate": "Ingredient 1=%{customdata[0]}<br>Rating=%{marker.size}<br>Score=%{y}<br>Ingredient 2=%{customdata[1]}<extra></extra>",
         "legendgroup": "flour tortillas",
         "marker": {
          "color": "#FECB52",
          "size": [
           4.5,
           4.5,
           4.5,
           4.5,
           4.5,
           4.5,
           4.5,
           4.5,
           4.5,
           4.5
          ],
          "sizemode": "area",
          "sizeref": 0.0125,
          "symbol": "circle"
         },
         "mode": "markers",
         "name": "flour tortillas",
         "showlegend": true,
         "type": "scattergl",
         "x": [
          4.5,
          4.5,
          4.5,
          4.5,
          4.5,
          4.5,
          4.5,
          4.5,
          4.5,
          4.5
         ],
         "xaxis": "x",
         "y": [
          463.7,
          456.5,
          454.8,
          442.6,
          459.7,
          461,
          439.6,
          467.6,
          443.2,
          438.2
         ],
         "yaxis": "y"
        },
        {
         "customdata": [
          [
           "pico de gallo",
           "vegetable oil"
          ],
          [
           "pico de gallo",
           "garlic powder"
          ],
          [
           "pico de gallo",
           "chili powder"
          ],
          [
           "pico de gallo",
           "black beans"
          ],
          [
           "pico de gallo",
           "sour cream"
          ],
          [
           "pico de gallo",
           "cilantro"
          ],
          [
           "pico de gallo",
           "salsa"
          ],
          [
           "pico de gallo",
           "eggs"
          ],
          [
           "pico de gallo",
           "lime"
          ]
         ],
         "hovertemplate": "Ingredient 1=%{customdata[0]}<br>Rating=%{marker.size}<br>Score=%{y}<br>Ingredient 2=%{customdata[1]}<extra></extra>",
         "legendgroup": "pico de gallo",
         "marker": {
          "color": "#636efa",
          "size": [
           4.5,
           4.5,
           4.5,
           4.5,
           4.5,
           4.5,
           4.5,
           4.5,
           4.5
          ],
          "sizemode": "area",
          "sizeref": 0.0125,
          "symbol": "circle"
         },
         "mode": "markers",
         "name": "pico de gallo",
         "showlegend": true,
         "type": "scattergl",
         "x": [
          4.5,
          4.5,
          4.5,
          4.5,
          4.5,
          4.5,
          4.5,
          4.5,
          4.5
         ],
         "xaxis": "x",
         "y": [
          463.1,
          458.2,
          445.6,
          438.8,
          471.5,
          465,
          462.4,
          459,
          465.3
         ],
         "yaxis": "y"
        },
        {
         "customdata": [
          [
           "chili powder",
           "black beans"
          ],
          [
           "chili powder",
           "sour cream"
          ],
          [
           "chili powder",
           "cilantro"
          ],
          [
           "chili powder",
           "salsa"
          ],
          [
           "chili powder",
           "eggs"
          ],
          [
           "chili powder",
           "lime"
          ]
         ],
         "hovertemplate": "Ingredient 1=%{customdata[0]}<br>Rating=%{marker.size}<br>Score=%{y}<br>Ingredient 2=%{customdata[1]}<extra></extra>",
         "legendgroup": "chili powder",
         "marker": {
          "color": "#EF553B",
          "size": [
           4.5,
           4.5,
           4.5,
           4.5,
           4.5,
           4.5
          ],
          "sizemode": "area",
          "sizeref": 0.0125,
          "symbol": "circle"
         },
         "mode": "markers",
         "name": "chili powder",
         "showlegend": true,
         "type": "scattergl",
         "x": [
          4.5,
          4.5,
          4.5,
          4.5,
          4.5,
          4.5
         ],
         "xaxis": "x",
         "y": [
          441.7,
          469.4,
          453.1,
          466.2,
          456.1,
          466.9
         ],
         "yaxis": "y"
        },
        {
         "customdata": [
          [
           "salsa",
           "eggs"
          ],
          [
           "salsa",
           "lime"
          ]
         ],
         "hovertemplate": "Ingredient 1=%{customdata[0]}<br>Rating=%{marker.size}<br>Score=%{y}<br>Ingredient 2=%{customdata[1]}<extra></extra>",
         "legendgroup": "salsa",
         "marker": {
          "color": "#00cc96",
          "size": [
           4.5,
           4.5
          ],
          "sizemode": "area",
          "sizeref": 0.0125,
          "symbol": "circle"
         },
         "mode": "markers",
         "name": "salsa",
         "showlegend": true,
         "type": "scattergl",
         "x": [
          4.5,
          4.5
         ],
         "xaxis": "x",
         "y": [
          434,
          462.5
         ],
         "yaxis": "y"
        }
       ],
       "layout": {
        "legend": {
         "itemsizing": "constant",
         "title": {
          "text": "Ingredient 1"
         },
         "tracegroupgap": 0
        },
        "margin": {
         "t": 60
        },
        "template": {
         "data": {
          "bar": [
           {
            "error_x": {
             "color": "#2a3f5f"
            },
            "error_y": {
             "color": "#2a3f5f"
            },
            "marker": {
             "line": {
              "color": "#E5ECF6",
              "width": 0.5
             },
             "pattern": {
              "fillmode": "overlay",
              "size": 10,
              "solidity": 0.2
             }
            },
            "type": "bar"
           }
          ],
          "barpolar": [
           {
            "marker": {
             "line": {
              "color": "#E5ECF6",
              "width": 0.5
             },
             "pattern": {
              "fillmode": "overlay",
              "size": 10,
              "solidity": 0.2
             }
            },
            "type": "barpolar"
           }
          ],
          "carpet": [
           {
            "aaxis": {
             "endlinecolor": "#2a3f5f",
             "gridcolor": "white",
             "linecolor": "white",
             "minorgridcolor": "white",
             "startlinecolor": "#2a3f5f"
            },
            "baxis": {
             "endlinecolor": "#2a3f5f",
             "gridcolor": "white",
             "linecolor": "white",
             "minorgridcolor": "white",
             "startlinecolor": "#2a3f5f"
            },
            "type": "carpet"
           }
          ],
          "choropleth": [
           {
            "colorbar": {
             "outlinewidth": 0,
             "ticks": ""
            },
            "type": "choropleth"
           }
          ],
          "contour": [
           {
            "colorbar": {
             "outlinewidth": 0,
             "ticks": ""
            },
            "colorscale": [
             [
              0,
              "#0d0887"
             ],
             [
              0.1111111111111111,
              "#46039f"
             ],
             [
              0.2222222222222222,
              "#7201a8"
             ],
             [
              0.3333333333333333,
              "#9c179e"
             ],
             [
              0.4444444444444444,
              "#bd3786"
             ],
             [
              0.5555555555555556,
              "#d8576b"
             ],
             [
              0.6666666666666666,
              "#ed7953"
             ],
             [
              0.7777777777777778,
              "#fb9f3a"
             ],
             [
              0.8888888888888888,
              "#fdca26"
             ],
             [
              1,
              "#f0f921"
             ]
            ],
            "type": "contour"
           }
          ],
          "contourcarpet": [
           {
            "colorbar": {
             "outlinewidth": 0,
             "ticks": ""
            },
            "type": "contourcarpet"
           }
          ],
          "heatmap": [
           {
            "colorbar": {
             "outlinewidth": 0,
             "ticks": ""
            },
            "colorscale": [
             [
              0,
              "#0d0887"
             ],
             [
              0.1111111111111111,
              "#46039f"
             ],
             [
              0.2222222222222222,
              "#7201a8"
             ],
             [
              0.3333333333333333,
              "#9c179e"
             ],
             [
              0.4444444444444444,
              "#bd3786"
             ],
             [
              0.5555555555555556,
              "#d8576b"
             ],
             [
              0.6666666666666666,
              "#ed7953"
             ],
             [
              0.7777777777777778,
              "#fb9f3a"
             ],
             [
              0.8888888888888888,
              "#fdca26"
             ],
             [
              1,
              "#f0f921"
             ]
            ],
            "type": "heatmap"
           }
          ],
          "heatmapgl": [
           {
            "colorbar": {
             "outlinewidth": 0,
             "ticks": ""
            },
            "colorscale": [
             [
              0,
              "#0d0887"
             ],
             [
              0.1111111111111111,
              "#46039f"
             ],
             [
              0.2222222222222222,
              "#7201a8"
             ],
             [
              0.3333333333333333,
              "#9c179e"
             ],
             [
              0.4444444444444444,
              "#bd3786"
             ],
             [
              0.5555555555555556,
              "#d8576b"
             ],
             [
              0.6666666666666666,
              "#ed7953"
             ],
             [
              0.7777777777777778,
              "#fb9f3a"
             ],
             [
              0.8888888888888888,
              "#fdca26"
             ],
             [
              1,
              "#f0f921"
             ]
            ],
            "type": "heatmapgl"
           }
          ],
          "histogram": [
           {
            "marker": {
             "pattern": {
              "fillmode": "overlay",
              "size": 10,
              "solidity": 0.2
             }
            },
            "type": "histogram"
           }
          ],
          "histogram2d": [
           {
            "colorbar": {
             "outlinewidth": 0,
             "ticks": ""
            },
            "colorscale": [
             [
              0,
              "#0d0887"
             ],
             [
              0.1111111111111111,
              "#46039f"
             ],
             [
              0.2222222222222222,
              "#7201a8"
             ],
             [
              0.3333333333333333,
              "#9c179e"
             ],
             [
              0.4444444444444444,
              "#bd3786"
             ],
             [
              0.5555555555555556,
              "#d8576b"
             ],
             [
              0.6666666666666666,
              "#ed7953"
             ],
             [
              0.7777777777777778,
              "#fb9f3a"
             ],
             [
              0.8888888888888888,
              "#fdca26"
             ],
             [
              1,
              "#f0f921"
             ]
            ],
            "type": "histogram2d"
           }
          ],
          "histogram2dcontour": [
           {
            "colorbar": {
             "outlinewidth": 0,
             "ticks": ""
            },
            "colorscale": [
             [
              0,
              "#0d0887"
             ],
             [
              0.1111111111111111,
              "#46039f"
             ],
             [
              0.2222222222222222,
              "#7201a8"
             ],
             [
              0.3333333333333333,
              "#9c179e"
             ],
             [
              0.4444444444444444,
              "#bd3786"
             ],
             [
              0.5555555555555556,
              "#d8576b"
             ],
             [
              0.6666666666666666,
              "#ed7953"
             ],
             [
              0.7777777777777778,
              "#fb9f3a"
             ],
             [
              0.8888888888888888,
              "#fdca26"
             ],
             [
              1,
              "#f0f921"
             ]
            ],
            "type": "histogram2dcontour"
           }
          ],
          "mesh3d": [
           {
            "colorbar": {
             "outlinewidth": 0,
             "ticks": ""
            },
            "type": "mesh3d"
           }
          ],
          "parcoords": [
           {
            "line": {
             "colorbar": {
              "outlinewidth": 0,
              "ticks": ""
             }
            },
            "type": "parcoords"
           }
          ],
          "pie": [
           {
            "automargin": true,
            "type": "pie"
           }
          ],
          "scatter": [
           {
            "marker": {
             "colorbar": {
              "outlinewidth": 0,
              "ticks": ""
             }
            },
            "type": "scatter"
           }
          ],
          "scatter3d": [
           {
            "line": {
             "colorbar": {
              "outlinewidth": 0,
              "ticks": ""
             }
            },
            "marker": {
             "colorbar": {
              "outlinewidth": 0,
              "ticks": ""
             }
            },
            "type": "scatter3d"
           }
          ],
          "scattercarpet": [
           {
            "marker": {
             "colorbar": {
              "outlinewidth": 0,
              "ticks": ""
             }
            },
            "type": "scattercarpet"
           }
          ],
          "scattergeo": [
           {
            "marker": {
             "colorbar": {
              "outlinewidth": 0,
              "ticks": ""
             }
            },
            "type": "scattergeo"
           }
          ],
          "scattergl": [
           {
            "marker": {
             "colorbar": {
              "outlinewidth": 0,
              "ticks": ""
             }
            },
            "type": "scattergl"
           }
          ],
          "scattermapbox": [
           {
            "marker": {
             "colorbar": {
              "outlinewidth": 0,
              "ticks": ""
             }
            },
            "type": "scattermapbox"
           }
          ],
          "scatterpolar": [
           {
            "marker": {
             "colorbar": {
              "outlinewidth": 0,
              "ticks": ""
             }
            },
            "type": "scatterpolar"
           }
          ],
          "scatterpolargl": [
           {
            "marker": {
             "colorbar": {
              "outlinewidth": 0,
              "ticks": ""
             }
            },
            "type": "scatterpolargl"
           }
          ],
          "scatterternary": [
           {
            "marker": {
             "colorbar": {
              "outlinewidth": 0,
              "ticks": ""
             }
            },
            "type": "scatterternary"
           }
          ],
          "surface": [
           {
            "colorbar": {
             "outlinewidth": 0,
             "ticks": ""
            },
            "colorscale": [
             [
              0,
              "#0d0887"
             ],
             [
              0.1111111111111111,
              "#46039f"
             ],
             [
              0.2222222222222222,
              "#7201a8"
             ],
             [
              0.3333333333333333,
              "#9c179e"
             ],
             [
              0.4444444444444444,
              "#bd3786"
             ],
             [
              0.5555555555555556,
              "#d8576b"
             ],
             [
              0.6666666666666666,
              "#ed7953"
             ],
             [
              0.7777777777777778,
              "#fb9f3a"
             ],
             [
              0.8888888888888888,
              "#fdca26"
             ],
             [
              1,
              "#f0f921"
             ]
            ],
            "type": "surface"
           }
          ],
          "table": [
           {
            "cells": {
             "fill": {
              "color": "#EBF0F8"
             },
             "line": {
              "color": "white"
             }
            },
            "header": {
             "fill": {
              "color": "#C8D4E3"
             },
             "line": {
              "color": "white"
             }
            },
            "type": "table"
           }
          ]
         },
         "layout": {
          "annotationdefaults": {
           "arrowcolor": "#2a3f5f",
           "arrowhead": 0,
           "arrowwidth": 1
          },
          "autotypenumbers": "strict",
          "coloraxis": {
           "colorbar": {
            "outlinewidth": 0,
            "ticks": ""
           }
          },
          "colorscale": {
           "diverging": [
            [
             0,
             "#8e0152"
            ],
            [
             0.1,
             "#c51b7d"
            ],
            [
             0.2,
             "#de77ae"
            ],
            [
             0.3,
             "#f1b6da"
            ],
            [
             0.4,
             "#fde0ef"
            ],
            [
             0.5,
             "#f7f7f7"
            ],
            [
             0.6,
             "#e6f5d0"
            ],
            [
             0.7,
             "#b8e186"
            ],
            [
             0.8,
             "#7fbc41"
            ],
            [
             0.9,
             "#4d9221"
            ],
            [
             1,
             "#276419"
            ]
           ],
           "sequential": [
            [
             0,
             "#0d0887"
            ],
            [
             0.1111111111111111,
             "#46039f"
            ],
            [
             0.2222222222222222,
             "#7201a8"
            ],
            [
             0.3333333333333333,
             "#9c179e"
            ],
            [
             0.4444444444444444,
             "#bd3786"
            ],
            [
             0.5555555555555556,
             "#d8576b"
            ],
            [
             0.6666666666666666,
             "#ed7953"
            ],
            [
             0.7777777777777778,
             "#fb9f3a"
            ],
            [
             0.8888888888888888,
             "#fdca26"
            ],
            [
             1,
             "#f0f921"
            ]
           ],
           "sequentialminus": [
            [
             0,
             "#0d0887"
            ],
            [
             0.1111111111111111,
             "#46039f"
            ],
            [
             0.2222222222222222,
             "#7201a8"
            ],
            [
             0.3333333333333333,
             "#9c179e"
            ],
            [
             0.4444444444444444,
             "#bd3786"
            ],
            [
             0.5555555555555556,
             "#d8576b"
            ],
            [
             0.6666666666666666,
             "#ed7953"
            ],
            [
             0.7777777777777778,
             "#fb9f3a"
            ],
            [
             0.8888888888888888,
             "#fdca26"
            ],
            [
             1,
             "#f0f921"
            ]
           ]
          },
          "colorway": [
           "#636efa",
           "#EF553B",
           "#00cc96",
           "#ab63fa",
           "#FFA15A",
           "#19d3f3",
           "#FF6692",
           "#B6E880",
           "#FF97FF",
           "#FECB52"
          ],
          "font": {
           "color": "#2a3f5f"
          },
          "geo": {
           "bgcolor": "white",
           "lakecolor": "white",
           "landcolor": "#E5ECF6",
           "showlakes": true,
           "showland": true,
           "subunitcolor": "white"
          },
          "hoverlabel": {
           "align": "left"
          },
          "hovermode": "closest",
          "mapbox": {
           "style": "light"
          },
          "paper_bgcolor": "white",
          "plot_bgcolor": "#E5ECF6",
          "polar": {
           "angularaxis": {
            "gridcolor": "white",
            "linecolor": "white",
            "ticks": ""
           },
           "bgcolor": "#E5ECF6",
           "radialaxis": {
            "gridcolor": "white",
            "linecolor": "white",
            "ticks": ""
           }
          },
          "scene": {
           "xaxis": {
            "backgroundcolor": "#E5ECF6",
            "gridcolor": "white",
            "gridwidth": 2,
            "linecolor": "white",
            "showbackground": true,
            "ticks": "",
            "zerolinecolor": "white"
           },
           "yaxis": {
            "backgroundcolor": "#E5ECF6",
            "gridcolor": "white",
            "gridwidth": 2,
            "linecolor": "white",
            "showbackground": true,
            "ticks": "",
            "zerolinecolor": "white"
           },
           "zaxis": {
            "backgroundcolor": "#E5ECF6",
            "gridcolor": "white",
            "gridwidth": 2,
            "linecolor": "white",
            "showbackground": true,
            "ticks": "",
            "zerolinecolor": "white"
           }
          },
          "shapedefaults": {
           "line": {
            "color": "#2a3f5f"
           }
          },
          "ternary": {
           "aaxis": {
            "gridcolor": "white",
            "linecolor": "white",
            "ticks": ""
           },
           "baxis": {
            "gridcolor": "white",
            "linecolor": "white",
            "ticks": ""
           },
           "bgcolor": "#E5ECF6",
           "caxis": {
            "gridcolor": "white",
            "linecolor": "white",
            "ticks": ""
           }
          },
          "title": {
           "x": 0.05
          },
          "xaxis": {
           "automargin": true,
           "gridcolor": "white",
           "linecolor": "white",
           "ticks": "",
           "title": {
            "standoff": 15
           },
           "zerolinecolor": "white",
           "zerolinewidth": 2
          },
          "yaxis": {
           "automargin": true,
           "gridcolor": "white",
           "linecolor": "white",
           "ticks": "",
           "title": {
            "standoff": 15
           },
           "zerolinecolor": "white",
           "zerolinewidth": 2
          }
         }
        },
        "xaxis": {
         "anchor": "y",
         "domain": [
          0,
          1
         ],
         "title": {
          "text": "Rating"
         }
        },
        "yaxis": {
         "anchor": "x",
         "domain": [
          0,
          1
         ],
         "title": {
          "text": "Score"
         }
        }
       }
      }
     },
     "metadata": {},
     "output_type": "display_data"
    }
   ],
   "source": [
    "fig = px.scatter(masterframe, x=\"Rating\", y=\"Score\", size = \"Rating\", color=\"Ingredient 1\", hover_data=['Ingredient 1', 'Ingredient 2'])\n",
    "fig.show()"
   ]
  }
 ],
 "metadata": {
  "kernelspec": {
   "display_name": "Python 3.9.12 ('base')",
   "language": "python",
   "name": "python3"
  },
  "language_info": {
   "codemirror_mode": {
    "name": "ipython",
    "version": 3
   },
   "file_extension": ".py",
   "mimetype": "text/x-python",
   "name": "python",
   "nbconvert_exporter": "python",
   "pygments_lexer": "ipython3",
   "version": "3.9.12"
  },
  "vscode": {
   "interpreter": {
    "hash": "f6ed3f38b1ef4c16f8a5be48bf66a1aded4ea0eb199bbc31dab9e5edd4e77510"
   }
  }
 },
 "nbformat": 4,
 "nbformat_minor": 5
}
